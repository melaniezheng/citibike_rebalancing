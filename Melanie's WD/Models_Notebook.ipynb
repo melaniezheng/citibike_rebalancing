{
 "cells": [
  {
   "cell_type": "code",
   "execution_count": 1,
   "metadata": {},
   "outputs": [],
   "source": [
    "import pandas as pd\n",
    "import numpy as np\n",
    "from matplotlib import pyplot as plt\n",
    "plt.style.use('ggplot')\n",
    "import seaborn as sns\n",
    "import time\n",
    "import pickle\n",
    "from joblib import dump, load\n",
    "\n",
    "import sklearn\n",
    "from sklearn.ensemble import RandomForestClassifier\n",
    "from sklearn.model_selection import train_test_split\n",
    "from sklearn.preprocessing import LabelEncoder\n",
    "from sklearn.neighbors import KNeighborsClassifier\n",
    "from sklearn.preprocessing import StandardScaler\n",
    "from sklearn.svm import SVC\n",
    "\n",
    "from sklearn.metrics import classification_report\n",
    "from sklearn.metrics import confusion_matrix\n",
    "from sklearn.metrics import accuracy_score"
   ]
  },
  {
   "cell_type": "code",
   "execution_count": 2,
   "metadata": {},
   "outputs": [],
   "source": [
    "pd.options.display.precision = 2\n",
    "pd.options.display.max_rows = 50"
   ]
  },
  {
   "cell_type": "code",
   "execution_count": 3,
   "metadata": {},
   "outputs": [],
   "source": [
    "stations = pd.read_csv('../Data/live_stations.csv')\n",
    "outgoingDF = pd.read_pickle(\"../Data/outgoingDF.pkl\")\n",
    "incomingDF = pd.read_pickle(\"../Data/incomingDF.pkl\")"
   ]
  },
  {
   "cell_type": "markdown",
   "metadata": {},
   "source": [
    "#### problem: <i>start station id has multiple lat & long information"
   ]
  },
  {
   "cell_type": "markdown",
   "metadata": {},
   "source": [
    "### Construct a DataFrame for each Bike Station/Time Interval:"
   ]
  },
  {
   "cell_type": "code",
   "execution_count": 4,
   "metadata": {},
   "outputs": [],
   "source": [
    "# # import station_dict\n",
    "import pickle\n",
    "station_dict = pickle.load(open(\"../Data/station_dict.pkl\", \"rb\"))"
   ]
  },
  {
   "cell_type": "markdown",
   "metadata": {},
   "source": [
    "### Bike Demand Distribution (Across All Bike Stations)"
   ]
  },
  {
   "cell_type": "code",
   "execution_count": 5,
   "metadata": {},
   "outputs": [
    {
     "data": {
      "text/html": [
       "<div>\n",
       "<style scoped>\n",
       "    .dataframe tbody tr th:only-of-type {\n",
       "        vertical-align: middle;\n",
       "    }\n",
       "\n",
       "    .dataframe tbody tr th {\n",
       "        vertical-align: top;\n",
       "    }\n",
       "\n",
       "    .dataframe thead th {\n",
       "        text-align: right;\n",
       "    }\n",
       "</style>\n",
       "<table border=\"1\" class=\"dataframe\">\n",
       "  <thead>\n",
       "    <tr style=\"text-align: right;\">\n",
       "      <th></th>\n",
       "      <th>outgoing_bike_count</th>\n",
       "    </tr>\n",
       "  </thead>\n",
       "  <tbody>\n",
       "    <tr>\n",
       "      <td>count</td>\n",
       "      <td>1.98e+07</td>\n",
       "    </tr>\n",
       "    <tr>\n",
       "      <td>mean</td>\n",
       "      <td>3.19e+00</td>\n",
       "    </tr>\n",
       "    <tr>\n",
       "      <td>std</td>\n",
       "      <td>3.47e+00</td>\n",
       "    </tr>\n",
       "    <tr>\n",
       "      <td>min</td>\n",
       "      <td>1.00e+00</td>\n",
       "    </tr>\n",
       "    <tr>\n",
       "      <td>25%</td>\n",
       "      <td>1.00e+00</td>\n",
       "    </tr>\n",
       "    <tr>\n",
       "      <td>50%</td>\n",
       "      <td>2.00e+00</td>\n",
       "    </tr>\n",
       "    <tr>\n",
       "      <td>75%</td>\n",
       "      <td>4.00e+00</td>\n",
       "    </tr>\n",
       "    <tr>\n",
       "      <td>max</td>\n",
       "      <td>1.57e+02</td>\n",
       "    </tr>\n",
       "  </tbody>\n",
       "</table>\n",
       "</div>"
      ],
      "text/plain": [
       "       outgoing_bike_count\n",
       "count             1.98e+07\n",
       "mean              3.19e+00\n",
       "std               3.47e+00\n",
       "min               1.00e+00\n",
       "25%               1.00e+00\n",
       "50%               2.00e+00\n",
       "75%               4.00e+00\n",
       "max               1.57e+02"
      ]
     },
     "execution_count": 5,
     "metadata": {},
     "output_type": "execute_result"
    },
    {
     "data": {
      "image/png": "[encoded data removed]",
      "text/plain": [
       "<Figure size 432x288 with 1 Axes>"
      ]
     },
     "metadata": {
      "needs_background": "light"
     },
     "output_type": "display_data"
    }
   ],
   "source": [
    "outgoingDF[['outgoing_bike_count']].hist()\n",
    "outgoingDF[['outgoing_bike_count']].describe()"
   ]
  },
  {
   "cell_type": "code",
   "execution_count": 6,
   "metadata": {},
   "outputs": [
    {
     "data": {
      "text/html": [
       "<div>\n",
       "<style scoped>\n",
       "    .dataframe tbody tr th:only-of-type {\n",
       "        vertical-align: middle;\n",
       "    }\n",
       "\n",
       "    .dataframe tbody tr th {\n",
       "        vertical-align: top;\n",
       "    }\n",
       "\n",
       "    .dataframe thead th {\n",
       "        text-align: right;\n",
       "    }\n",
       "</style>\n",
       "<table border=\"1\" class=\"dataframe\">\n",
       "  <thead>\n",
       "    <tr style=\"text-align: right;\">\n",
       "      <th></th>\n",
       "      <th>incoming_bike_count</th>\n",
       "    </tr>\n",
       "  </thead>\n",
       "  <tbody>\n",
       "    <tr>\n",
       "      <td>count</td>\n",
       "      <td>1.99e+07</td>\n",
       "    </tr>\n",
       "    <tr>\n",
       "      <td>mean</td>\n",
       "      <td>3.18e+00</td>\n",
       "    </tr>\n",
       "    <tr>\n",
       "      <td>std</td>\n",
       "      <td>3.43e+00</td>\n",
       "    </tr>\n",
       "    <tr>\n",
       "      <td>min</td>\n",
       "      <td>1.00e+00</td>\n",
       "    </tr>\n",
       "    <tr>\n",
       "      <td>25%</td>\n",
       "      <td>1.00e+00</td>\n",
       "    </tr>\n",
       "    <tr>\n",
       "      <td>50%</td>\n",
       "      <td>2.00e+00</td>\n",
       "    </tr>\n",
       "    <tr>\n",
       "      <td>75%</td>\n",
       "      <td>4.00e+00</td>\n",
       "    </tr>\n",
       "    <tr>\n",
       "      <td>max</td>\n",
       "      <td>1.28e+02</td>\n",
       "    </tr>\n",
       "  </tbody>\n",
       "</table>\n",
       "</div>"
      ],
      "text/plain": [
       "       incoming_bike_count\n",
       "count             1.99e+07\n",
       "mean              3.18e+00\n",
       "std               3.43e+00\n",
       "min               1.00e+00\n",
       "25%               1.00e+00\n",
       "50%               2.00e+00\n",
       "75%               4.00e+00\n",
       "max               1.28e+02"
      ]
     },
     "execution_count": 6,
     "metadata": {},
     "output_type": "execute_result"
    },
    {
     "data": {
      "image/png": "[encoded data removed]",
      "text/plain": [
       "<Figure size 432x288 with 1 Axes>"
      ]
     },
     "metadata": {
      "needs_background": "light"
     },
     "output_type": "display_data"
    }
   ],
   "source": [
    "incomingDF[['incoming_bike_count']].hist()\n",
    "incomingDF[['incoming_bike_count']].describe()"
   ]
  },
  {
   "cell_type": "code",
   "execution_count": 7,
   "metadata": {},
   "outputs": [
    {
     "data": {
      "text/plain": [
       "<matplotlib.axes._subplots.AxesSubplot at 0x1c25b3dbd0>"
      ]
     },
     "execution_count": 7,
     "metadata": {},
     "output_type": "execute_result"
    },
    {
     "data": {
      "image/png": "[encoded data removed]",
      "text/plain": [
       "<Figure size 432x288 with 1 Axes>"
      ]
     },
     "metadata": {
      "needs_background": "light"
     },
     "output_type": "display_data"
    }
   ],
   "source": [
    "np.log(incomingDF.incoming_bike_count+1).hist()"
   ]
  },
  {
   "cell_type": "markdown",
   "metadata": {},
   "source": [
    "Taking the natural log doesn't really help much in terms of skewed distribution"
   ]
  },
  {
   "cell_type": "code",
   "execution_count": 4,
   "metadata": {},
   "outputs": [
    {
     "data": {
      "text/plain": [
       "Medium    8280830\n",
       "Low       7488842\n",
       "High      4029836\n",
       "Name: bike_demand, dtype: int64"
      ]
     },
     "execution_count": 4,
     "metadata": {},
     "output_type": "execute_result"
    }
   ],
   "source": [
    "outgoingDF.bike_demand.value_counts()"
   ]
  },
  {
   "cell_type": "code",
   "execution_count": 118,
   "metadata": {},
   "outputs": [],
   "source": [
    "outgoingDF['cnt']=pd.Series(np.ones(len(outgoingDF.bike_demand)))\n",
    "incomingDF['cnt']=pd.Series(np.ones(len(incomingDF.dock_demand)))"
   ]
  },
  {
   "cell_type": "code",
   "execution_count": 195,
   "metadata": {},
   "outputs": [],
   "source": [
    "temp=pd.DataFrame(outgoingDF.groupby(['start station id','season','dayofweek','starttime_interval','bike_demand']).\\\n",
    "             cnt.sum().reset_index())\n",
    "outgoing=temp[temp.groupby(['start station id','season','dayofweek','starttime_interval'])['cnt'].\\\n",
    "     transform(max) == temp['cnt'] ]\n",
    "outgoing=outgoing.groupby(['start station id','season','dayofweek','starttime_interval'])\\\n",
    "['bike_demand'].first().reset_index()"
   ]
  },
  {
   "cell_type": "code",
   "execution_count": 206,
   "metadata": {},
   "outputs": [],
   "source": [
    "temp=pd.DataFrame(incomingDF.groupby(['end station id','season','dayofweek','stoptime_interval','dock_demand']).\\\n",
    "            cnt.sum().reset_index())\n",
    "incoming=temp[temp.groupby(['end station id','season','dayofweek','stoptime_interval'])['cnt'].\\\n",
    "     transform(max) == temp['cnt'] ]\n",
    "incoming=incoming.groupby(['end station id','season','dayofweek','stoptime_interval'])\\\n",
    "['dock_demand'].first().reset_index()"
   ]
  },
  {
   "cell_type": "code",
   "execution_count": 141,
   "metadata": {},
   "outputs": [],
   "source": [
    "X=outgoingDF[['start station id','season','dayofweek','starttime_interval']]\n",
    "prediction=pd.merge(X, outgoing, how='inner', on=['start station id','season','dayofweek','starttime_interval'])\n",
    "target=outgoingDF[['bike_demand']]\n",
    "pred=prediction[['bike_demand']]\n",
    "accuracy=pd.merge(target, pred, left_index=True, right_index=True)\n",
    "accuracy.columns=['target','pred']"
   ]
  },
  {
   "cell_type": "code",
   "execution_count": 205,
   "metadata": {},
   "outputs": [
    {
     "data": {
      "text/plain": [
       "0.3589378584558768"
      ]
     },
     "execution_count": 205,
     "metadata": {},
     "output_type": "execute_result"
    }
   ],
   "source": [
    "np.mean(accuracy['pred'] == accuracy['target'] )"
   ]
  },
  {
   "cell_type": "code",
   "execution_count": 208,
   "metadata": {},
   "outputs": [],
   "source": [
    "X=incomingDF[['end station id','season','dayofweek','stoptime_interval']]\n",
    "prediction=pd.merge(X, incoming, how='inner', on=['end station id','season','dayofweek','stoptime_interval'])\n",
    "target=incomingDF[['dock_demand']]\n",
    "pred=prediction[['dock_demand']]\n",
    "accuracy=pd.merge(target, pred, left_index=True, right_index=True)\n",
    "accuracy.columns=['target','pred']"
   ]
  },
  {
   "cell_type": "markdown",
   "metadata": {},
   "source": [
    "Score of selecting mode of each group"
   ]
  },
  {
   "cell_type": "code",
   "execution_count": 209,
   "metadata": {},
   "outputs": [
    {
     "data": {
      "text/plain": [
       "0.35841802485663393"
      ]
     },
     "execution_count": 209,
     "metadata": {},
     "output_type": "execute_result"
    }
   ],
   "source": [
    "np.mean(accuracy['pred'] == accuracy['target'] )"
   ]
  },
  {
   "cell_type": "markdown",
   "metadata": {},
   "source": [
    "## Model Selection: Train Different Models on the Sampled Data"
   ]
  },
  {
   "cell_type": "code",
   "execution_count": 20,
   "metadata": {},
   "outputs": [],
   "source": [
    "sample=outgoingDF.sample(n=1200000, random_state=0)"
   ]
  },
  {
   "cell_type": "markdown",
   "metadata": {},
   "source": [
    "check sample bike_demand distribution"
   ]
  },
  {
   "cell_type": "code",
   "execution_count": 21,
   "metadata": {
    "scrolled": true
   },
   "outputs": [
    {
     "data": {
      "text/plain": [
       "Medium    502004\n",
       "Low       453735\n",
       "High      244261\n",
       "Name: bike_demand, dtype: int64"
      ]
     },
     "execution_count": 21,
     "metadata": {},
     "output_type": "execute_result"
    }
   ],
   "source": [
    "sample.bike_demand.value_counts()"
   ]
  },
  {
   "cell_type": "code",
   "execution_count": 22,
   "metadata": {},
   "outputs": [],
   "source": [
    "sample['dayofweek']=pd.to_datetime(sample.starttime_date).dt.dayofweek\n",
    "temp=sample.starttime_interval.str.split(\":\",expand=True)\n",
    "temp.columns=['hour','min']\n",
    "temp['hour']=temp['hour'].astype('int32')\n",
    "temp['min']=temp['min'].astype('int32')\n",
    "sample=pd.merge(sample,temp,left_index=True, right_index=True)"
   ]
  },
  {
   "cell_type": "code",
   "execution_count": 23,
   "metadata": {},
   "outputs": [],
   "source": [
    "X=sample.drop(columns=['starttime_date','starttime_interval','outgoing_bike_count','bike_demand'])\n",
    "y=sample['bike_demand']"
   ]
  },
  {
   "cell_type": "markdown",
   "metadata": {},
   "source": [
    "Label Encoding"
   ]
  },
  {
   "cell_type": "code",
   "execution_count": 24,
   "metadata": {},
   "outputs": [
    {
     "name": "stdout",
     "output_type": "stream",
     "text": [
      "CPU times: user 152 ms, sys: 13.8 ms, total: 166 ms\n",
      "Wall time: 174 ms\n"
     ]
    }
   ],
   "source": [
    "%%time\n",
    "le = LabelEncoder()\n",
    "X['season'] = le.fit_transform(X['season'])"
   ]
  },
  {
   "cell_type": "markdown",
   "metadata": {},
   "source": [
    "Scale"
   ]
  },
  {
   "cell_type": "code",
   "execution_count": 25,
   "metadata": {},
   "outputs": [
    {
     "name": "stdout",
     "output_type": "stream",
     "text": [
      "CPU times: user 155 ms, sys: 74.7 ms, total: 230 ms\n",
      "Wall time: 256 ms\n"
     ]
    }
   ],
   "source": [
    "%%time\n",
    "X_std = StandardScaler().fit_transform(X)"
   ]
  },
  {
   "cell_type": "markdown",
   "metadata": {},
   "source": [
    "### 1. Random Forest"
   ]
  },
  {
   "cell_type": "code",
   "execution_count": 21,
   "metadata": {},
   "outputs": [
    {
     "name": "stderr",
     "output_type": "stream",
     "text": [
      "[Parallel(n_jobs=-1)]: Using backend ThreadingBackend with 8 concurrent workers.\n",
      "[Parallel(n_jobs=-1)]: Done  34 tasks      | elapsed:   17.7s\n",
      "[Parallel(n_jobs=-1)]: Done 100 out of 100 | elapsed:   48.6s finished\n"
     ]
    },
    {
     "name": "stdout",
     "output_type": "stream",
     "text": [
      "CPU times: user 5min 34s, sys: 19.1 s, total: 5min 53s\n",
      "Wall time: 1min 49s\n"
     ]
    },
    {
     "data": {
      "text/plain": [
       "['../Models/rfc_sampled.joblib']"
      ]
     },
     "execution_count": 21,
     "metadata": {},
     "output_type": "execute_result"
    }
   ],
   "source": [
    "%%time\n",
    "X_train, X_test, y_train, y_test = train_test_split(X, y, test_size=0.2, random_state=0)\n",
    "rfc = RandomForestClassifier(random_state=0, verbose=True, n_jobs=-1)\n",
    "rfc.fit(X_train, y_train)\n",
    "dump(rfc, '../Models/rfc_sampled.joblib') "
   ]
  },
  {
   "cell_type": "code",
   "execution_count": 22,
   "metadata": {},
   "outputs": [
    {
     "name": "stderr",
     "output_type": "stream",
     "text": [
      "[Parallel(n_jobs=8)]: Using backend ThreadingBackend with 8 concurrent workers.\n",
      "[Parallel(n_jobs=8)]: Done  34 tasks      | elapsed:    2.6s\n",
      "[Parallel(n_jobs=8)]: Done 100 out of 100 | elapsed:    7.1s finished\n"
     ]
    },
    {
     "data": {
      "text/plain": [
       "0.50215"
      ]
     },
     "execution_count": 22,
     "metadata": {},
     "output_type": "execute_result"
    }
   ],
   "source": [
    "rfc.score(X_test, y_test)"
   ]
  },
  {
   "cell_type": "markdown",
   "metadata": {},
   "source": [
    "### 2. KNeighbors Classifier"
   ]
  },
  {
   "cell_type": "markdown",
   "metadata": {},
   "source": [
    "Finding n_neighbors"
   ]
  },
  {
   "cell_type": "code",
   "execution_count": 23,
   "metadata": {},
   "outputs": [
    {
     "data": {
      "text/plain": [
       "1095.4451150103323"
      ]
     },
     "execution_count": 23,
     "metadata": {},
     "output_type": "execute_result"
    }
   ],
   "source": [
    "np.sqrt(X_std.shape[0])"
   ]
  },
  {
   "cell_type": "code",
   "execution_count": 24,
   "metadata": {},
   "outputs": [
    {
     "name": "stdout",
     "output_type": "stream",
     "text": [
      "CPU times: user 282 ms, sys: 162 ms, total: 443 ms\n",
      "Wall time: 460 ms\n"
     ]
    }
   ],
   "source": [
    "%%time\n",
    "X_train, X_test, y_train, y_test = train_test_split(X_std, y, test_size=0.2, random_state=0)"
   ]
  },
  {
   "cell_type": "code",
   "execution_count": 25,
   "metadata": {},
   "outputs": [
    {
     "name": "stdout",
     "output_type": "stream",
     "text": [
      "CPU times: user 1min 20s, sys: 493 ms, total: 1min 20s\n",
      "Wall time: 1min 20s\n"
     ]
    },
    {
     "data": {
      "text/plain": [
       "['../Models/knc.joblib']"
      ]
     },
     "execution_count": 25,
     "metadata": {},
     "output_type": "execute_result"
    }
   ],
   "source": [
    "%%time\n",
    "knc = KNeighborsClassifier(n_neighbors=1095, n_jobs=-1) # sqrt of X train rownum\n",
    "knc.fit(X_train, y_train)\n",
    "dump(knc, '../Models/knc.joblib') "
   ]
  },
  {
   "cell_type": "code",
   "execution_count": 27,
   "metadata": {},
   "outputs": [
    {
     "data": {
      "text/plain": [
       "0.491525"
      ]
     },
     "execution_count": 27,
     "metadata": {},
     "output_type": "execute_result"
    }
   ],
   "source": [
    "knc.score(X_test, y_test)"
   ]
  },
  {
   "cell_type": "markdown",
   "metadata": {},
   "source": [
    "Check Point: \n",
    "So far Random Forest seems to work better than KNN"
   ]
  },
  {
   "cell_type": "markdown",
   "metadata": {},
   "source": [
    "### 3. SVM"
   ]
  },
  {
   "cell_type": "code",
   "execution_count": 28,
   "metadata": {},
   "outputs": [
    {
     "name": "stdout",
     "output_type": "stream",
     "text": [
      "CPU times: user 233 ms, sys: 122 ms, total: 355 ms\n",
      "Wall time: 428 ms\n"
     ]
    }
   ],
   "source": [
    "%%time\n",
    "X_train, X_test, y_train, y_test = train_test_split(X_std, y, test_size=0.2, random_state=0)"
   ]
  },
  {
   "cell_type": "code",
   "execution_count": null,
   "metadata": {},
   "outputs": [
    {
     "name": "stdout",
     "output_type": "stream",
     "text": [
      "[LibSVM]"
     ]
    }
   ],
   "source": [
    "%%time\n",
    "from sklearn.svm import SVC\n",
    "svclassifier = SVC(kernel='rbf', gamma='auto', decision_function_shape='ovo', verbose=True)\n",
    "svclassifier.fit(X_train, y_train)\n",
    "dump(svclassifier, '../Models/svm_rbf.joblib')"
   ]
  },
  {
   "cell_type": "code",
   "execution_count": null,
   "metadata": {},
   "outputs": [],
   "source": [
    "svclassifier.score(X_test, y_test)"
   ]
  },
  {
   "cell_type": "markdown",
   "metadata": {},
   "source": [
    "SVM Model takes too long to run"
   ]
  },
  {
   "cell_type": "markdown",
   "metadata": {},
   "source": [
    "### 4. Cat Boost Classifier"
   ]
  },
  {
   "cell_type": "code",
   "execution_count": 29,
   "metadata": {},
   "outputs": [
    {
     "name": "stdout",
     "output_type": "stream",
     "text": [
      "Learning rate set to 0.11231\n",
      "0:\tlearn: 1.0793711\ttotal: 274ms\tremaining: 4m 33s\n",
      "1:\tlearn: 1.0638282\ttotal: 416ms\tremaining: 3m 27s\n",
      "2:\tlearn: 1.0511801\ttotal: 565ms\tremaining: 3m 7s\n",
      "3:\tlearn: 1.0405412\ttotal: 703ms\tremaining: 2m 55s\n",
      "4:\tlearn: 1.0314740\ttotal: 853ms\tremaining: 2m 49s\n",
      "5:\tlearn: 1.0235546\ttotal: 990ms\tremaining: 2m 44s\n",
      "6:\tlearn: 1.0170788\ttotal: 1.14s\tremaining: 2m 41s\n",
      "7:\tlearn: 1.0117957\ttotal: 1.27s\tremaining: 2m 37s\n",
      "8:\tlearn: 1.0070936\ttotal: 1.42s\tremaining: 2m 36s\n",
      "9:\tlearn: 1.0016646\ttotal: 1.56s\tremaining: 2m 34s\n",
      "10:\tlearn: 0.9981747\ttotal: 1.71s\tremaining: 2m 33s\n",
      "11:\tlearn: 0.9947776\ttotal: 1.87s\tremaining: 2m 33s\n",
      "12:\tlearn: 0.9919431\ttotal: 2.02s\tremaining: 2m 33s\n",
      "13:\tlearn: 0.9893995\ttotal: 2.16s\tremaining: 2m 32s\n",
      "14:\tlearn: 0.9871200\ttotal: 2.32s\tremaining: 2m 32s\n",
      "15:\tlearn: 0.9845209\ttotal: 2.45s\tremaining: 2m 30s\n",
      "16:\tlearn: 0.9825274\ttotal: 2.6s\tremaining: 2m 30s\n",
      "17:\tlearn: 0.9809254\ttotal: 2.73s\tremaining: 2m 28s\n",
      "18:\tlearn: 0.9790247\ttotal: 2.87s\tremaining: 2m 28s\n",
      "19:\tlearn: 0.9773785\ttotal: 3.01s\tremaining: 2m 27s\n",
      "20:\tlearn: 0.9759569\ttotal: 3.16s\tremaining: 2m 27s\n",
      "21:\tlearn: 0.9747181\ttotal: 3.3s\tremaining: 2m 26s\n",
      "22:\tlearn: 0.9725701\ttotal: 3.45s\tremaining: 2m 26s\n",
      "23:\tlearn: 0.9715727\ttotal: 3.59s\tremaining: 2m 26s\n",
      "24:\tlearn: 0.9704380\ttotal: 3.74s\tremaining: 2m 25s\n",
      "25:\tlearn: 0.9689538\ttotal: 3.88s\tremaining: 2m 25s\n",
      "26:\tlearn: 0.9677694\ttotal: 4.05s\tremaining: 2m 25s\n",
      "27:\tlearn: 0.9662385\ttotal: 4.22s\tremaining: 2m 26s\n",
      "28:\tlearn: 0.9654946\ttotal: 4.36s\tremaining: 2m 26s\n",
      "29:\tlearn: 0.9646321\ttotal: 4.51s\tremaining: 2m 25s\n",
      "30:\tlearn: 0.9636588\ttotal: 4.72s\tremaining: 2m 27s\n",
      "31:\tlearn: 0.9630459\ttotal: 4.85s\tremaining: 2m 26s\n",
      "32:\tlearn: 0.9621226\ttotal: 5s\tremaining: 2m 26s\n",
      "33:\tlearn: 0.9612479\ttotal: 5.14s\tremaining: 2m 26s\n",
      "34:\tlearn: 0.9600361\ttotal: 5.3s\tremaining: 2m 26s\n",
      "35:\tlearn: 0.9594858\ttotal: 5.44s\tremaining: 2m 25s\n",
      "36:\tlearn: 0.9588025\ttotal: 5.59s\tremaining: 2m 25s\n",
      "37:\tlearn: 0.9580831\ttotal: 5.74s\tremaining: 2m 25s\n",
      "38:\tlearn: 0.9575359\ttotal: 5.89s\tremaining: 2m 25s\n",
      "39:\tlearn: 0.9566550\ttotal: 6.03s\tremaining: 2m 24s\n",
      "40:\tlearn: 0.9561847\ttotal: 6.17s\tremaining: 2m 24s\n",
      "41:\tlearn: 0.9554493\ttotal: 6.31s\tremaining: 2m 24s\n",
      "42:\tlearn: 0.9549091\ttotal: 6.46s\tremaining: 2m 23s\n",
      "43:\tlearn: 0.9542054\ttotal: 6.61s\tremaining: 2m 23s\n",
      "44:\tlearn: 0.9537383\ttotal: 6.8s\tremaining: 2m 24s\n",
      "45:\tlearn: 0.9530848\ttotal: 6.93s\tremaining: 2m 23s\n",
      "46:\tlearn: 0.9526405\ttotal: 7.08s\tremaining: 2m 23s\n",
      "47:\tlearn: 0.9519789\ttotal: 7.22s\tremaining: 2m 23s\n",
      "48:\tlearn: 0.9513650\ttotal: 7.38s\tremaining: 2m 23s\n",
      "49:\tlearn: 0.9509805\ttotal: 7.52s\tremaining: 2m 22s\n",
      "50:\tlearn: 0.9506009\ttotal: 7.67s\tremaining: 2m 22s\n",
      "51:\tlearn: 0.9503544\ttotal: 7.8s\tremaining: 2m 22s\n",
      "52:\tlearn: 0.9498551\ttotal: 7.96s\tremaining: 2m 22s\n",
      "53:\tlearn: 0.9493379\ttotal: 8.1s\tremaining: 2m 21s\n",
      "54:\tlearn: 0.9488742\ttotal: 8.24s\tremaining: 2m 21s\n",
      "55:\tlearn: 0.9485469\ttotal: 8.4s\tremaining: 2m 21s\n",
      "56:\tlearn: 0.9478652\ttotal: 8.56s\tremaining: 2m 21s\n",
      "57:\tlearn: 0.9476661\ttotal: 8.71s\tremaining: 2m 21s\n",
      "58:\tlearn: 0.9473705\ttotal: 8.87s\tremaining: 2m 21s\n",
      "59:\tlearn: 0.9469952\ttotal: 9.01s\tremaining: 2m 21s\n",
      "60:\tlearn: 0.9467680\ttotal: 9.16s\tremaining: 2m 21s\n",
      "61:\tlearn: 0.9465875\ttotal: 9.32s\tremaining: 2m 21s\n",
      "62:\tlearn: 0.9461346\ttotal: 9.49s\tremaining: 2m 21s\n",
      "63:\tlearn: 0.9456871\ttotal: 9.65s\tremaining: 2m 21s\n",
      "64:\tlearn: 0.9454689\ttotal: 9.82s\tremaining: 2m 21s\n",
      "65:\tlearn: 0.9451135\ttotal: 9.96s\tremaining: 2m 20s\n",
      "66:\tlearn: 0.9448699\ttotal: 10.1s\tremaining: 2m 21s\n",
      "67:\tlearn: 0.9444163\ttotal: 10.3s\tremaining: 2m 21s\n",
      "68:\tlearn: 0.9441821\ttotal: 10.5s\tremaining: 2m 21s\n",
      "69:\tlearn: 0.9437009\ttotal: 10.6s\tremaining: 2m 21s\n",
      "70:\tlearn: 0.9433905\ttotal: 10.8s\tremaining: 2m 21s\n",
      "71:\tlearn: 0.9432410\ttotal: 11s\tremaining: 2m 21s\n",
      "72:\tlearn: 0.9430334\ttotal: 11.1s\tremaining: 2m 21s\n",
      "73:\tlearn: 0.9425473\ttotal: 11.3s\tremaining: 2m 21s\n",
      "74:\tlearn: 0.9424094\ttotal: 11.5s\tremaining: 2m 21s\n",
      "75:\tlearn: 0.9419788\ttotal: 11.8s\tremaining: 2m 23s\n",
      "76:\tlearn: 0.9415255\ttotal: 11.9s\tremaining: 2m 23s\n",
      "77:\tlearn: 0.9412184\ttotal: 12.1s\tremaining: 2m 23s\n",
      "78:\tlearn: 0.9409929\ttotal: 12.3s\tremaining: 2m 22s\n",
      "79:\tlearn: 0.9407446\ttotal: 12.4s\tremaining: 2m 22s\n",
      "80:\tlearn: 0.9405342\ttotal: 12.6s\tremaining: 2m 23s\n",
      "81:\tlearn: 0.9402934\ttotal: 12.8s\tremaining: 2m 22s\n",
      "82:\tlearn: 0.9401068\ttotal: 12.9s\tremaining: 2m 22s\n",
      "83:\tlearn: 0.9398004\ttotal: 13.1s\tremaining: 2m 22s\n",
      "84:\tlearn: 0.9395315\ttotal: 13.3s\tremaining: 2m 22s\n",
      "85:\tlearn: 0.9393326\ttotal: 13.4s\tremaining: 2m 22s\n",
      "86:\tlearn: 0.9391165\ttotal: 13.6s\tremaining: 2m 23s\n",
      "87:\tlearn: 0.9389032\ttotal: 13.8s\tremaining: 2m 23s\n",
      "88:\tlearn: 0.9386063\ttotal: 14s\tremaining: 2m 22s\n",
      "89:\tlearn: 0.9381994\ttotal: 14.1s\tremaining: 2m 22s\n",
      "90:\tlearn: 0.9379647\ttotal: 14.3s\tremaining: 2m 22s\n",
      "91:\tlearn: 0.9377209\ttotal: 14.4s\tremaining: 2m 22s\n",
      "92:\tlearn: 0.9374837\ttotal: 14.6s\tremaining: 2m 22s\n",
      "93:\tlearn: 0.9371685\ttotal: 14.7s\tremaining: 2m 21s\n",
      "94:\tlearn: 0.9368934\ttotal: 14.9s\tremaining: 2m 21s\n",
      "95:\tlearn: 0.9367469\ttotal: 15s\tremaining: 2m 21s\n",
      "96:\tlearn: 0.9362415\ttotal: 15.2s\tremaining: 2m 21s\n",
      "97:\tlearn: 0.9361088\ttotal: 15.3s\tremaining: 2m 21s\n",
      "98:\tlearn: 0.9358811\ttotal: 15.5s\tremaining: 2m 20s\n",
      "99:\tlearn: 0.9355578\ttotal: 15.7s\tremaining: 2m 20s\n",
      "100:\tlearn: 0.9354135\ttotal: 15.8s\tremaining: 2m 20s\n",
      "101:\tlearn: 0.9350993\ttotal: 16s\tremaining: 2m 20s\n",
      "102:\tlearn: 0.9349576\ttotal: 16.1s\tremaining: 2m 20s\n",
      "103:\tlearn: 0.9347310\ttotal: 16.3s\tremaining: 2m 20s\n",
      "104:\tlearn: 0.9345751\ttotal: 16.4s\tremaining: 2m 19s\n",
      "105:\tlearn: 0.9342097\ttotal: 16.6s\tremaining: 2m 19s\n",
      "106:\tlearn: 0.9340439\ttotal: 16.7s\tremaining: 2m 19s\n",
      "107:\tlearn: 0.9338974\ttotal: 16.9s\tremaining: 2m 19s\n",
      "108:\tlearn: 0.9336694\ttotal: 17s\tremaining: 2m 19s\n",
      "109:\tlearn: 0.9335035\ttotal: 17.2s\tremaining: 2m 19s\n",
      "110:\tlearn: 0.9333451\ttotal: 17.3s\tremaining: 2m 18s\n",
      "111:\tlearn: 0.9331402\ttotal: 17.5s\tremaining: 2m 18s\n",
      "112:\tlearn: 0.9330505\ttotal: 17.7s\tremaining: 2m 18s\n",
      "113:\tlearn: 0.9328782\ttotal: 17.8s\tremaining: 2m 18s\n",
      "114:\tlearn: 0.9327965\ttotal: 17.9s\tremaining: 2m 18s\n",
      "115:\tlearn: 0.9327120\ttotal: 18.1s\tremaining: 2m 17s\n",
      "116:\tlearn: 0.9325536\ttotal: 18.2s\tremaining: 2m 17s\n",
      "117:\tlearn: 0.9323809\ttotal: 18.4s\tremaining: 2m 17s\n",
      "118:\tlearn: 0.9322655\ttotal: 18.5s\tremaining: 2m 17s\n",
      "119:\tlearn: 0.9321369\ttotal: 18.7s\tremaining: 2m 17s\n",
      "120:\tlearn: 0.9316232\ttotal: 18.8s\tremaining: 2m 16s\n",
      "121:\tlearn: 0.9314019\ttotal: 19s\tremaining: 2m 16s\n",
      "122:\tlearn: 0.9312391\ttotal: 19.2s\tremaining: 2m 16s\n",
      "123:\tlearn: 0.9309988\ttotal: 19.3s\tremaining: 2m 16s\n",
      "124:\tlearn: 0.9309069\ttotal: 19.5s\tremaining: 2m 16s\n",
      "125:\tlearn: 0.9308268\ttotal: 19.6s\tremaining: 2m 16s\n",
      "126:\tlearn: 0.9305257\ttotal: 19.8s\tremaining: 2m 15s\n",
      "127:\tlearn: 0.9304272\ttotal: 19.9s\tremaining: 2m 15s\n",
      "128:\tlearn: 0.9302892\ttotal: 20.1s\tremaining: 2m 15s\n",
      "129:\tlearn: 0.9301651\ttotal: 20.2s\tremaining: 2m 15s\n",
      "130:\tlearn: 0.9300406\ttotal: 20.4s\tremaining: 2m 15s\n",
      "131:\tlearn: 0.9299643\ttotal: 20.5s\tremaining: 2m 14s\n",
      "132:\tlearn: 0.9296495\ttotal: 20.7s\tremaining: 2m 14s\n",
      "133:\tlearn: 0.9295613\ttotal: 20.8s\tremaining: 2m 14s\n",
      "134:\tlearn: 0.9293586\ttotal: 21s\tremaining: 2m 14s\n",
      "135:\tlearn: 0.9292385\ttotal: 21.1s\tremaining: 2m 14s\n",
      "136:\tlearn: 0.9290408\ttotal: 21.3s\tremaining: 2m 14s\n",
      "137:\tlearn: 0.9288487\ttotal: 21.4s\tremaining: 2m 13s\n",
      "138:\tlearn: 0.9287005\ttotal: 21.6s\tremaining: 2m 13s\n",
      "139:\tlearn: 0.9285832\ttotal: 21.8s\tremaining: 2m 13s\n",
      "140:\tlearn: 0.9284010\ttotal: 21.9s\tremaining: 2m 13s\n",
      "141:\tlearn: 0.9283213\ttotal: 22.1s\tremaining: 2m 13s\n",
      "142:\tlearn: 0.9280996\ttotal: 22.2s\tremaining: 2m 13s\n",
      "143:\tlearn: 0.9278577\ttotal: 22.4s\tremaining: 2m 13s\n",
      "144:\tlearn: 0.9277533\ttotal: 22.5s\tremaining: 2m 12s\n",
      "145:\tlearn: 0.9275103\ttotal: 22.7s\tremaining: 2m 12s\n",
      "146:\tlearn: 0.9272584\ttotal: 22.9s\tremaining: 2m 12s\n",
      "147:\tlearn: 0.9270893\ttotal: 23s\tremaining: 2m 12s\n",
      "148:\tlearn: 0.9270100\ttotal: 23.2s\tremaining: 2m 12s\n",
      "149:\tlearn: 0.9268708\ttotal: 23.3s\tremaining: 2m 12s\n",
      "150:\tlearn: 0.9267605\ttotal: 23.5s\tremaining: 2m 12s\n",
      "151:\tlearn: 0.9266312\ttotal: 23.7s\tremaining: 2m 12s\n",
      "152:\tlearn: 0.9265717\ttotal: 23.8s\tremaining: 2m 11s\n",
      "153:\tlearn: 0.9264577\ttotal: 24s\tremaining: 2m 11s\n",
      "154:\tlearn: 0.9262466\ttotal: 24.1s\tremaining: 2m 11s\n",
      "155:\tlearn: 0.9261171\ttotal: 24.3s\tremaining: 2m 11s\n",
      "156:\tlearn: 0.9260229\ttotal: 24.5s\tremaining: 2m 11s\n"
     ]
    },
    {
     "name": "stdout",
     "output_type": "stream",
     "text": [
      "157:\tlearn: 0.9259606\ttotal: 24.7s\tremaining: 2m 11s\n",
      "158:\tlearn: 0.9258973\ttotal: 24.8s\tremaining: 2m 11s\n",
      "159:\tlearn: 0.9257579\ttotal: 25s\tremaining: 2m 11s\n",
      "160:\tlearn: 0.9256633\ttotal: 25.1s\tremaining: 2m 10s\n",
      "161:\tlearn: 0.9254524\ttotal: 25.3s\tremaining: 2m 10s\n",
      "162:\tlearn: 0.9252660\ttotal: 25.4s\tremaining: 2m 10s\n",
      "163:\tlearn: 0.9250776\ttotal: 25.6s\tremaining: 2m 10s\n",
      "164:\tlearn: 0.9248460\ttotal: 25.7s\tremaining: 2m 10s\n",
      "165:\tlearn: 0.9247031\ttotal: 25.9s\tremaining: 2m 9s\n",
      "166:\tlearn: 0.9245901\ttotal: 26s\tremaining: 2m 9s\n",
      "167:\tlearn: 0.9242864\ttotal: 26.2s\tremaining: 2m 9s\n",
      "168:\tlearn: 0.9241559\ttotal: 26.3s\tremaining: 2m 9s\n",
      "169:\tlearn: 0.9241026\ttotal: 26.5s\tremaining: 2m 9s\n",
      "170:\tlearn: 0.9239648\ttotal: 26.6s\tremaining: 2m 9s\n",
      "171:\tlearn: 0.9238886\ttotal: 26.8s\tremaining: 2m 8s\n",
      "172:\tlearn: 0.9238394\ttotal: 26.9s\tremaining: 2m 8s\n",
      "173:\tlearn: 0.9237393\ttotal: 27.1s\tremaining: 2m 8s\n",
      "174:\tlearn: 0.9236567\ttotal: 27.2s\tremaining: 2m 8s\n",
      "175:\tlearn: 0.9234953\ttotal: 27.4s\tremaining: 2m 8s\n",
      "176:\tlearn: 0.9234206\ttotal: 27.6s\tremaining: 2m 8s\n",
      "177:\tlearn: 0.9233475\ttotal: 27.8s\tremaining: 2m 8s\n",
      "178:\tlearn: 0.9231044\ttotal: 28s\tremaining: 2m 8s\n",
      "179:\tlearn: 0.9230375\ttotal: 28.1s\tremaining: 2m 8s\n",
      "180:\tlearn: 0.9229369\ttotal: 28.3s\tremaining: 2m 7s\n",
      "181:\tlearn: 0.9228622\ttotal: 28.4s\tremaining: 2m 7s\n",
      "182:\tlearn: 0.9226761\ttotal: 28.6s\tremaining: 2m 7s\n",
      "183:\tlearn: 0.9224946\ttotal: 28.7s\tremaining: 2m 7s\n",
      "184:\tlearn: 0.9224341\ttotal: 28.9s\tremaining: 2m 7s\n",
      "185:\tlearn: 0.9223298\ttotal: 29s\tremaining: 2m 7s\n",
      "186:\tlearn: 0.9222452\ttotal: 29.2s\tremaining: 2m 6s\n",
      "187:\tlearn: 0.9221695\ttotal: 29.3s\tremaining: 2m 6s\n",
      "188:\tlearn: 0.9218925\ttotal: 29.5s\tremaining: 2m 6s\n",
      "189:\tlearn: 0.9218174\ttotal: 29.6s\tremaining: 2m 6s\n",
      "190:\tlearn: 0.9217814\ttotal: 29.8s\tremaining: 2m 6s\n",
      "191:\tlearn: 0.9216592\ttotal: 29.9s\tremaining: 2m 6s\n",
      "192:\tlearn: 0.9215513\ttotal: 30.1s\tremaining: 2m 5s\n",
      "193:\tlearn: 0.9214987\ttotal: 30.3s\tremaining: 2m 5s\n",
      "194:\tlearn: 0.9213399\ttotal: 30.4s\tremaining: 2m 5s\n",
      "195:\tlearn: 0.9212702\ttotal: 30.6s\tremaining: 2m 5s\n",
      "196:\tlearn: 0.9212012\ttotal: 30.7s\tremaining: 2m 5s\n",
      "197:\tlearn: 0.9210481\ttotal: 30.9s\tremaining: 2m 5s\n",
      "198:\tlearn: 0.9209231\ttotal: 31s\tremaining: 2m 4s\n",
      "199:\tlearn: 0.9208475\ttotal: 31.2s\tremaining: 2m 4s\n",
      "200:\tlearn: 0.9207857\ttotal: 31.4s\tremaining: 2m 4s\n",
      "201:\tlearn: 0.9207198\ttotal: 31.5s\tremaining: 2m 4s\n",
      "202:\tlearn: 0.9206814\ttotal: 31.7s\tremaining: 2m 4s\n",
      "203:\tlearn: 0.9205977\ttotal: 31.9s\tremaining: 2m 4s\n",
      "204:\tlearn: 0.9204226\ttotal: 32s\tremaining: 2m 4s\n",
      "205:\tlearn: 0.9203294\ttotal: 32.2s\tremaining: 2m 4s\n",
      "206:\tlearn: 0.9201657\ttotal: 32.3s\tremaining: 2m 3s\n",
      "207:\tlearn: 0.9199693\ttotal: 32.5s\tremaining: 2m 3s\n",
      "208:\tlearn: 0.9197992\ttotal: 32.7s\tremaining: 2m 3s\n",
      "209:\tlearn: 0.9196701\ttotal: 32.8s\tremaining: 2m 3s\n",
      "210:\tlearn: 0.9196346\ttotal: 33s\tremaining: 2m 3s\n",
      "211:\tlearn: 0.9195981\ttotal: 33.2s\tremaining: 2m 3s\n",
      "212:\tlearn: 0.9195637\ttotal: 33.3s\tremaining: 2m 3s\n",
      "213:\tlearn: 0.9194941\ttotal: 33.5s\tremaining: 2m 2s\n",
      "214:\tlearn: 0.9193193\ttotal: 33.6s\tremaining: 2m 2s\n",
      "215:\tlearn: 0.9191937\ttotal: 33.8s\tremaining: 2m 2s\n",
      "216:\tlearn: 0.9190659\ttotal: 34s\tremaining: 2m 2s\n",
      "217:\tlearn: 0.9189773\ttotal: 34.2s\tremaining: 2m 2s\n",
      "218:\tlearn: 0.9189226\ttotal: 34.3s\tremaining: 2m 2s\n",
      "219:\tlearn: 0.9188130\ttotal: 34.5s\tremaining: 2m 2s\n",
      "220:\tlearn: 0.9186759\ttotal: 34.6s\tremaining: 2m 2s\n",
      "221:\tlearn: 0.9185974\ttotal: 34.8s\tremaining: 2m 1s\n",
      "222:\tlearn: 0.9184275\ttotal: 35s\tremaining: 2m 1s\n",
      "223:\tlearn: 0.9183476\ttotal: 35.1s\tremaining: 2m 1s\n",
      "224:\tlearn: 0.9183036\ttotal: 35.3s\tremaining: 2m 1s\n",
      "225:\tlearn: 0.9182758\ttotal: 35.5s\tremaining: 2m 1s\n",
      "226:\tlearn: 0.9181505\ttotal: 35.6s\tremaining: 2m 1s\n",
      "227:\tlearn: 0.9180154\ttotal: 35.8s\tremaining: 2m 1s\n",
      "228:\tlearn: 0.9178741\ttotal: 36s\tremaining: 2m 1s\n",
      "229:\tlearn: 0.9177752\ttotal: 36.1s\tremaining: 2m\n",
      "230:\tlearn: 0.9175655\ttotal: 36.3s\tremaining: 2m\n",
      "231:\tlearn: 0.9174619\ttotal: 36.5s\tremaining: 2m\n",
      "232:\tlearn: 0.9174385\ttotal: 36.7s\tremaining: 2m\n",
      "233:\tlearn: 0.9173051\ttotal: 36.8s\tremaining: 2m\n",
      "234:\tlearn: 0.9172051\ttotal: 37s\tremaining: 2m\n",
      "235:\tlearn: 0.9171476\ttotal: 37.1s\tremaining: 2m\n",
      "236:\tlearn: 0.9170511\ttotal: 37.3s\tremaining: 2m\n",
      "237:\tlearn: 0.9169267\ttotal: 37.5s\tremaining: 1m 59s\n",
      "238:\tlearn: 0.9168699\ttotal: 37.6s\tremaining: 1m 59s\n",
      "239:\tlearn: 0.9167632\ttotal: 37.8s\tremaining: 1m 59s\n",
      "240:\tlearn: 0.9167350\ttotal: 37.9s\tremaining: 1m 59s\n",
      "241:\tlearn: 0.9167069\ttotal: 38.1s\tremaining: 1m 59s\n",
      "242:\tlearn: 0.9166746\ttotal: 38.2s\tremaining: 1m 59s\n",
      "243:\tlearn: 0.9166037\ttotal: 38.4s\tremaining: 1m 59s\n",
      "244:\tlearn: 0.9165139\ttotal: 38.7s\tremaining: 1m 59s\n",
      "245:\tlearn: 0.9164421\ttotal: 38.8s\tremaining: 1m 58s\n",
      "246:\tlearn: 0.9164009\ttotal: 39s\tremaining: 1m 58s\n",
      "247:\tlearn: 0.9163570\ttotal: 39.1s\tremaining: 1m 58s\n",
      "248:\tlearn: 0.9162434\ttotal: 39.3s\tremaining: 1m 58s\n",
      "249:\tlearn: 0.9161633\ttotal: 39.4s\tremaining: 1m 58s\n",
      "250:\tlearn: 0.9161072\ttotal: 39.6s\tremaining: 1m 58s\n",
      "251:\tlearn: 0.9160070\ttotal: 39.8s\tremaining: 1m 58s\n",
      "252:\tlearn: 0.9158702\ttotal: 39.9s\tremaining: 1m 57s\n",
      "253:\tlearn: 0.9158408\ttotal: 40.1s\tremaining: 1m 57s\n",
      "254:\tlearn: 0.9157511\ttotal: 40.2s\tremaining: 1m 57s\n",
      "255:\tlearn: 0.9156213\ttotal: 40.4s\tremaining: 1m 57s\n",
      "256:\tlearn: 0.9155904\ttotal: 40.6s\tremaining: 1m 57s\n",
      "257:\tlearn: 0.9155609\ttotal: 40.7s\tremaining: 1m 57s\n",
      "258:\tlearn: 0.9155300\ttotal: 40.9s\tremaining: 1m 56s\n",
      "259:\tlearn: 0.9154590\ttotal: 41s\tremaining: 1m 56s\n",
      "260:\tlearn: 0.9154298\ttotal: 41.2s\tremaining: 1m 56s\n",
      "261:\tlearn: 0.9152859\ttotal: 41.3s\tremaining: 1m 56s\n",
      "262:\tlearn: 0.9150589\ttotal: 41.5s\tremaining: 1m 56s\n",
      "263:\tlearn: 0.9149654\ttotal: 41.6s\tremaining: 1m 56s\n",
      "264:\tlearn: 0.9148408\ttotal: 41.8s\tremaining: 1m 55s\n",
      "265:\tlearn: 0.9147967\ttotal: 41.9s\tremaining: 1m 55s\n",
      "266:\tlearn: 0.9147348\ttotal: 42.1s\tremaining: 1m 55s\n",
      "267:\tlearn: 0.9146470\ttotal: 42.2s\tremaining: 1m 55s\n",
      "268:\tlearn: 0.9146188\ttotal: 42.4s\tremaining: 1m 55s\n",
      "269:\tlearn: 0.9145929\ttotal: 42.5s\tremaining: 1m 55s\n",
      "270:\tlearn: 0.9145296\ttotal: 42.7s\tremaining: 1m 54s\n",
      "271:\tlearn: 0.9144300\ttotal: 42.8s\tremaining: 1m 54s\n",
      "272:\tlearn: 0.9144112\ttotal: 43s\tremaining: 1m 54s\n",
      "273:\tlearn: 0.9143860\ttotal: 43.1s\tremaining: 1m 54s\n",
      "274:\tlearn: 0.9143051\ttotal: 43.3s\tremaining: 1m 54s\n",
      "275:\tlearn: 0.9142120\ttotal: 43.4s\tremaining: 1m 53s\n",
      "276:\tlearn: 0.9141448\ttotal: 43.6s\tremaining: 1m 53s\n",
      "277:\tlearn: 0.9140258\ttotal: 43.8s\tremaining: 1m 53s\n",
      "278:\tlearn: 0.9139148\ttotal: 43.9s\tremaining: 1m 53s\n",
      "279:\tlearn: 0.9138207\ttotal: 44.1s\tremaining: 1m 53s\n",
      "280:\tlearn: 0.9137383\ttotal: 44.2s\tremaining: 1m 53s\n",
      "281:\tlearn: 0.9136411\ttotal: 44.4s\tremaining: 1m 52s\n",
      "282:\tlearn: 0.9136181\ttotal: 44.5s\tremaining: 1m 52s\n",
      "283:\tlearn: 0.9135940\ttotal: 44.7s\tremaining: 1m 52s\n",
      "284:\tlearn: 0.9135053\ttotal: 44.8s\tremaining: 1m 52s\n",
      "285:\tlearn: 0.9134301\ttotal: 45s\tremaining: 1m 52s\n",
      "286:\tlearn: 0.9132545\ttotal: 45.1s\tremaining: 1m 52s\n",
      "287:\tlearn: 0.9131551\ttotal: 45.3s\tremaining: 1m 51s\n",
      "288:\tlearn: 0.9131244\ttotal: 45.5s\tremaining: 1m 51s\n",
      "289:\tlearn: 0.9130197\ttotal: 45.6s\tremaining: 1m 51s\n",
      "290:\tlearn: 0.9129332\ttotal: 45.8s\tremaining: 1m 51s\n",
      "291:\tlearn: 0.9128890\ttotal: 45.9s\tremaining: 1m 51s\n",
      "292:\tlearn: 0.9128113\ttotal: 46.1s\tremaining: 1m 51s\n",
      "293:\tlearn: 0.9127245\ttotal: 46.3s\tremaining: 1m 51s\n",
      "294:\tlearn: 0.9126300\ttotal: 46.4s\tremaining: 1m 50s\n",
      "295:\tlearn: 0.9125252\ttotal: 46.6s\tremaining: 1m 50s\n",
      "296:\tlearn: 0.9124570\ttotal: 46.7s\tremaining: 1m 50s\n",
      "297:\tlearn: 0.9124004\ttotal: 46.9s\tremaining: 1m 50s\n",
      "298:\tlearn: 0.9123544\ttotal: 47s\tremaining: 1m 50s\n",
      "299:\tlearn: 0.9122676\ttotal: 47.3s\tremaining: 1m 50s\n",
      "300:\tlearn: 0.9122184\ttotal: 47.4s\tremaining: 1m 50s\n",
      "301:\tlearn: 0.9121578\ttotal: 47.6s\tremaining: 1m 50s\n",
      "302:\tlearn: 0.9120677\ttotal: 47.8s\tremaining: 1m 49s\n",
      "303:\tlearn: 0.9120212\ttotal: 47.9s\tremaining: 1m 49s\n",
      "304:\tlearn: 0.9119955\ttotal: 48.1s\tremaining: 1m 49s\n",
      "305:\tlearn: 0.9119449\ttotal: 48.2s\tremaining: 1m 49s\n",
      "306:\tlearn: 0.9119203\ttotal: 48.4s\tremaining: 1m 49s\n",
      "307:\tlearn: 0.9118699\ttotal: 48.6s\tremaining: 1m 49s\n",
      "308:\tlearn: 0.9118164\ttotal: 48.7s\tremaining: 1m 48s\n",
      "309:\tlearn: 0.9117124\ttotal: 48.9s\tremaining: 1m 48s\n",
      "310:\tlearn: 0.9116901\ttotal: 49s\tremaining: 1m 48s\n",
      "311:\tlearn: 0.9115326\ttotal: 49.2s\tremaining: 1m 48s\n",
      "312:\tlearn: 0.9114371\ttotal: 49.3s\tremaining: 1m 48s\n",
      "313:\tlearn: 0.9113797\ttotal: 49.5s\tremaining: 1m 48s\n",
      "314:\tlearn: 0.9112547\ttotal: 49.6s\tremaining: 1m 47s\n"
     ]
    },
    {
     "name": "stdout",
     "output_type": "stream",
     "text": [
      "315:\tlearn: 0.9112205\ttotal: 49.8s\tremaining: 1m 47s\n",
      "316:\tlearn: 0.9111527\ttotal: 49.9s\tremaining: 1m 47s\n",
      "317:\tlearn: 0.9110669\ttotal: 50.1s\tremaining: 1m 47s\n",
      "318:\tlearn: 0.9110464\ttotal: 50.2s\tremaining: 1m 47s\n",
      "319:\tlearn: 0.9109995\ttotal: 50.4s\tremaining: 1m 46s\n",
      "320:\tlearn: 0.9109249\ttotal: 50.5s\tremaining: 1m 46s\n",
      "321:\tlearn: 0.9108427\ttotal: 50.6s\tremaining: 1m 46s\n",
      "322:\tlearn: 0.9108272\ttotal: 50.8s\tremaining: 1m 46s\n",
      "323:\tlearn: 0.9107802\ttotal: 50.9s\tremaining: 1m 46s\n",
      "324:\tlearn: 0.9107549\ttotal: 51.1s\tremaining: 1m 46s\n",
      "325:\tlearn: 0.9106850\ttotal: 51.2s\tremaining: 1m 45s\n",
      "326:\tlearn: 0.9106673\ttotal: 51.4s\tremaining: 1m 45s\n",
      "327:\tlearn: 0.9105991\ttotal: 51.5s\tremaining: 1m 45s\n",
      "328:\tlearn: 0.9105214\ttotal: 51.7s\tremaining: 1m 45s\n",
      "329:\tlearn: 0.9104775\ttotal: 51.8s\tremaining: 1m 45s\n",
      "330:\tlearn: 0.9104433\ttotal: 52s\tremaining: 1m 45s\n",
      "331:\tlearn: 0.9103539\ttotal: 52.1s\tremaining: 1m 44s\n",
      "332:\tlearn: 0.9103349\ttotal: 52.3s\tremaining: 1m 44s\n",
      "333:\tlearn: 0.9102508\ttotal: 52.4s\tremaining: 1m 44s\n",
      "334:\tlearn: 0.9101821\ttotal: 52.6s\tremaining: 1m 44s\n",
      "335:\tlearn: 0.9101053\ttotal: 52.7s\tremaining: 1m 44s\n",
      "336:\tlearn: 0.9100865\ttotal: 52.9s\tremaining: 1m 43s\n",
      "337:\tlearn: 0.9100593\ttotal: 53s\tremaining: 1m 43s\n",
      "338:\tlearn: 0.9099829\ttotal: 53.2s\tremaining: 1m 43s\n",
      "339:\tlearn: 0.9099237\ttotal: 53.3s\tremaining: 1m 43s\n",
      "340:\tlearn: 0.9098641\ttotal: 53.4s\tremaining: 1m 43s\n",
      "341:\tlearn: 0.9098445\ttotal: 53.6s\tremaining: 1m 43s\n",
      "342:\tlearn: 0.9097891\ttotal: 53.7s\tremaining: 1m 42s\n",
      "343:\tlearn: 0.9097349\ttotal: 53.9s\tremaining: 1m 42s\n",
      "344:\tlearn: 0.9096956\ttotal: 54s\tremaining: 1m 42s\n",
      "345:\tlearn: 0.9096306\ttotal: 54.1s\tremaining: 1m 42s\n",
      "346:\tlearn: 0.9095627\ttotal: 54.3s\tremaining: 1m 42s\n",
      "347:\tlearn: 0.9095037\ttotal: 54.4s\tremaining: 1m 42s\n",
      "348:\tlearn: 0.9094691\ttotal: 54.6s\tremaining: 1m 41s\n",
      "349:\tlearn: 0.9094136\ttotal: 54.8s\tremaining: 1m 41s\n",
      "350:\tlearn: 0.9093775\ttotal: 54.9s\tremaining: 1m 41s\n",
      "351:\tlearn: 0.9093342\ttotal: 55s\tremaining: 1m 41s\n",
      "352:\tlearn: 0.9092517\ttotal: 55.2s\tremaining: 1m 41s\n",
      "353:\tlearn: 0.9092282\ttotal: 55.4s\tremaining: 1m 41s\n",
      "354:\tlearn: 0.9091648\ttotal: 55.5s\tremaining: 1m 40s\n",
      "355:\tlearn: 0.9091128\ttotal: 55.7s\tremaining: 1m 40s\n",
      "356:\tlearn: 0.9090935\ttotal: 55.8s\tremaining: 1m 40s\n",
      "357:\tlearn: 0.9090652\ttotal: 56s\tremaining: 1m 40s\n",
      "358:\tlearn: 0.9089705\ttotal: 56.1s\tremaining: 1m 40s\n",
      "359:\tlearn: 0.9089080\ttotal: 56.3s\tremaining: 1m 40s\n",
      "360:\tlearn: 0.9088311\ttotal: 56.5s\tremaining: 1m 39s\n",
      "361:\tlearn: 0.9088134\ttotal: 56.6s\tremaining: 1m 39s\n",
      "362:\tlearn: 0.9087896\ttotal: 56.8s\tremaining: 1m 39s\n",
      "363:\tlearn: 0.9087611\ttotal: 56.9s\tremaining: 1m 39s\n",
      "364:\tlearn: 0.9087150\ttotal: 57.1s\tremaining: 1m 39s\n",
      "365:\tlearn: 0.9086594\ttotal: 57.2s\tremaining: 1m 39s\n",
      "366:\tlearn: 0.9086231\ttotal: 57.4s\tremaining: 1m 38s\n",
      "367:\tlearn: 0.9086036\ttotal: 57.5s\tremaining: 1m 38s\n",
      "368:\tlearn: 0.9085163\ttotal: 57.6s\tremaining: 1m 38s\n",
      "369:\tlearn: 0.9084818\ttotal: 57.8s\tremaining: 1m 38s\n",
      "370:\tlearn: 0.9084302\ttotal: 57.9s\tremaining: 1m 38s\n",
      "371:\tlearn: 0.9083760\ttotal: 58.1s\tremaining: 1m 38s\n",
      "372:\tlearn: 0.9083235\ttotal: 58.2s\tremaining: 1m 37s\n",
      "373:\tlearn: 0.9082957\ttotal: 58.4s\tremaining: 1m 37s\n",
      "374:\tlearn: 0.9082281\ttotal: 58.5s\tremaining: 1m 37s\n",
      "375:\tlearn: 0.9081781\ttotal: 58.7s\tremaining: 1m 37s\n",
      "376:\tlearn: 0.9081107\ttotal: 58.8s\tremaining: 1m 37s\n",
      "377:\tlearn: 0.9080725\ttotal: 59s\tremaining: 1m 37s\n",
      "378:\tlearn: 0.9080322\ttotal: 59.1s\tremaining: 1m 36s\n",
      "379:\tlearn: 0.9079714\ttotal: 59.3s\tremaining: 1m 36s\n",
      "380:\tlearn: 0.9079494\ttotal: 59.4s\tremaining: 1m 36s\n",
      "381:\tlearn: 0.9078630\ttotal: 59.6s\tremaining: 1m 36s\n",
      "382:\tlearn: 0.9078442\ttotal: 59.7s\tremaining: 1m 36s\n",
      "383:\tlearn: 0.9078320\ttotal: 59.9s\tremaining: 1m 36s\n",
      "384:\tlearn: 0.9077588\ttotal: 1m\tremaining: 1m 35s\n",
      "385:\tlearn: 0.9077293\ttotal: 1m\tremaining: 1m 35s\n",
      "386:\tlearn: 0.9076966\ttotal: 1m\tremaining: 1m 35s\n",
      "387:\tlearn: 0.9076434\ttotal: 1m\tremaining: 1m 35s\n",
      "388:\tlearn: 0.9076142\ttotal: 1m\tremaining: 1m 35s\n",
      "389:\tlearn: 0.9075559\ttotal: 1m\tremaining: 1m 35s\n",
      "390:\tlearn: 0.9074847\ttotal: 1m\tremaining: 1m 34s\n",
      "391:\tlearn: 0.9074247\ttotal: 1m 1s\tremaining: 1m 34s\n",
      "392:\tlearn: 0.9073564\ttotal: 1m 1s\tremaining: 1m 34s\n",
      "393:\tlearn: 0.9073235\ttotal: 1m 1s\tremaining: 1m 34s\n",
      "394:\tlearn: 0.9072447\ttotal: 1m 1s\tremaining: 1m 34s\n",
      "395:\tlearn: 0.9071838\ttotal: 1m 1s\tremaining: 1m 34s\n",
      "396:\tlearn: 0.9071643\ttotal: 1m 1s\tremaining: 1m 33s\n",
      "397:\tlearn: 0.9071483\ttotal: 1m 2s\tremaining: 1m 33s\n",
      "398:\tlearn: 0.9070961\ttotal: 1m 2s\tremaining: 1m 33s\n",
      "399:\tlearn: 0.9070214\ttotal: 1m 2s\tremaining: 1m 33s\n",
      "400:\tlearn: 0.9069129\ttotal: 1m 2s\tremaining: 1m 33s\n",
      "401:\tlearn: 0.9068298\ttotal: 1m 2s\tremaining: 1m 33s\n",
      "402:\tlearn: 0.9068173\ttotal: 1m 2s\tremaining: 1m 33s\n",
      "403:\tlearn: 0.9066949\ttotal: 1m 2s\tremaining: 1m 32s\n",
      "404:\tlearn: 0.9066363\ttotal: 1m 3s\tremaining: 1m 32s\n",
      "405:\tlearn: 0.9066068\ttotal: 1m 3s\tremaining: 1m 32s\n",
      "406:\tlearn: 0.9065529\ttotal: 1m 3s\tremaining: 1m 32s\n",
      "407:\tlearn: 0.9065264\ttotal: 1m 3s\tremaining: 1m 32s\n",
      "408:\tlearn: 0.9064777\ttotal: 1m 3s\tremaining: 1m 32s\n",
      "409:\tlearn: 0.9064318\ttotal: 1m 3s\tremaining: 1m 31s\n",
      "410:\tlearn: 0.9064028\ttotal: 1m 4s\tremaining: 1m 31s\n",
      "411:\tlearn: 0.9063919\ttotal: 1m 4s\tremaining: 1m 31s\n",
      "412:\tlearn: 0.9063746\ttotal: 1m 4s\tremaining: 1m 31s\n",
      "413:\tlearn: 0.9063568\ttotal: 1m 4s\tremaining: 1m 31s\n",
      "414:\tlearn: 0.9063010\ttotal: 1m 4s\tremaining: 1m 31s\n",
      "415:\tlearn: 0.9062887\ttotal: 1m 4s\tremaining: 1m 31s\n",
      "416:\tlearn: 0.9062427\ttotal: 1m 5s\tremaining: 1m 30s\n",
      "417:\tlearn: 0.9062244\ttotal: 1m 5s\tremaining: 1m 30s\n",
      "418:\tlearn: 0.9062037\ttotal: 1m 5s\tremaining: 1m 30s\n",
      "419:\tlearn: 0.9061429\ttotal: 1m 5s\tremaining: 1m 30s\n",
      "420:\tlearn: 0.9061242\ttotal: 1m 5s\tremaining: 1m 30s\n",
      "421:\tlearn: 0.9061102\ttotal: 1m 5s\tremaining: 1m 30s\n",
      "422:\tlearn: 0.9060631\ttotal: 1m 6s\tremaining: 1m 30s\n",
      "423:\tlearn: 0.9060140\ttotal: 1m 6s\tremaining: 1m 29s\n",
      "424:\tlearn: 0.9059600\ttotal: 1m 6s\tremaining: 1m 29s\n",
      "425:\tlearn: 0.9059164\ttotal: 1m 6s\tremaining: 1m 29s\n",
      "426:\tlearn: 0.9058748\ttotal: 1m 6s\tremaining: 1m 29s\n",
      "427:\tlearn: 0.9058486\ttotal: 1m 6s\tremaining: 1m 29s\n",
      "428:\tlearn: 0.9058099\ttotal: 1m 6s\tremaining: 1m 29s\n",
      "429:\tlearn: 0.9057706\ttotal: 1m 7s\tremaining: 1m 28s\n",
      "430:\tlearn: 0.9057540\ttotal: 1m 7s\tremaining: 1m 28s\n",
      "431:\tlearn: 0.9057140\ttotal: 1m 7s\tremaining: 1m 28s\n",
      "432:\tlearn: 0.9057039\ttotal: 1m 7s\tremaining: 1m 28s\n",
      "433:\tlearn: 0.9056764\ttotal: 1m 7s\tremaining: 1m 28s\n",
      "434:\tlearn: 0.9056131\ttotal: 1m 7s\tremaining: 1m 28s\n",
      "435:\tlearn: 0.9055804\ttotal: 1m 7s\tremaining: 1m 27s\n",
      "436:\tlearn: 0.9055288\ttotal: 1m 8s\tremaining: 1m 27s\n",
      "437:\tlearn: 0.9054799\ttotal: 1m 8s\tremaining: 1m 27s\n",
      "438:\tlearn: 0.9054653\ttotal: 1m 8s\tremaining: 1m 27s\n",
      "439:\tlearn: 0.9053765\ttotal: 1m 8s\tremaining: 1m 27s\n",
      "440:\tlearn: 0.9053614\ttotal: 1m 8s\tremaining: 1m 27s\n",
      "441:\tlearn: 0.9053167\ttotal: 1m 8s\tremaining: 1m 27s\n",
      "442:\tlearn: 0.9053087\ttotal: 1m 9s\tremaining: 1m 26s\n",
      "443:\tlearn: 0.9052828\ttotal: 1m 9s\tremaining: 1m 26s\n",
      "444:\tlearn: 0.9052732\ttotal: 1m 9s\tremaining: 1m 26s\n",
      "445:\tlearn: 0.9052375\ttotal: 1m 9s\tremaining: 1m 26s\n",
      "446:\tlearn: 0.9051846\ttotal: 1m 9s\tremaining: 1m 26s\n",
      "447:\tlearn: 0.9051746\ttotal: 1m 9s\tremaining: 1m 26s\n",
      "448:\tlearn: 0.9051304\ttotal: 1m 9s\tremaining: 1m 25s\n",
      "449:\tlearn: 0.9051035\ttotal: 1m 10s\tremaining: 1m 25s\n",
      "450:\tlearn: 0.9050738\ttotal: 1m 10s\tremaining: 1m 25s\n",
      "451:\tlearn: 0.9050477\ttotal: 1m 10s\tremaining: 1m 25s\n",
      "452:\tlearn: 0.9050106\ttotal: 1m 10s\tremaining: 1m 25s\n",
      "453:\tlearn: 0.9049871\ttotal: 1m 10s\tremaining: 1m 24s\n",
      "454:\tlearn: 0.9049631\ttotal: 1m 10s\tremaining: 1m 24s\n",
      "455:\tlearn: 0.9049331\ttotal: 1m 10s\tremaining: 1m 24s\n",
      "456:\tlearn: 0.9048776\ttotal: 1m 11s\tremaining: 1m 24s\n",
      "457:\tlearn: 0.9048533\ttotal: 1m 11s\tremaining: 1m 24s\n",
      "458:\tlearn: 0.9048364\ttotal: 1m 11s\tremaining: 1m 24s\n",
      "459:\tlearn: 0.9048189\ttotal: 1m 11s\tremaining: 1m 24s\n",
      "460:\tlearn: 0.9047849\ttotal: 1m 11s\tremaining: 1m 23s\n",
      "461:\tlearn: 0.9047499\ttotal: 1m 11s\tremaining: 1m 23s\n",
      "462:\tlearn: 0.9047268\ttotal: 1m 12s\tremaining: 1m 23s\n",
      "463:\tlearn: 0.9046735\ttotal: 1m 12s\tremaining: 1m 23s\n",
      "464:\tlearn: 0.9046351\ttotal: 1m 12s\tremaining: 1m 23s\n",
      "465:\tlearn: 0.9046087\ttotal: 1m 12s\tremaining: 1m 23s\n",
      "466:\tlearn: 0.9045667\ttotal: 1m 12s\tremaining: 1m 22s\n",
      "467:\tlearn: 0.9045123\ttotal: 1m 12s\tremaining: 1m 22s\n",
      "468:\tlearn: 0.9044922\ttotal: 1m 12s\tremaining: 1m 22s\n",
      "469:\tlearn: 0.9044513\ttotal: 1m 13s\tremaining: 1m 22s\n"
     ]
    },
    {
     "name": "stdout",
     "output_type": "stream",
     "text": [
      "470:\tlearn: 0.9044346\ttotal: 1m 13s\tremaining: 1m 22s\n",
      "471:\tlearn: 0.9044173\ttotal: 1m 13s\tremaining: 1m 22s\n",
      "472:\tlearn: 0.9043720\ttotal: 1m 13s\tremaining: 1m 21s\n",
      "473:\tlearn: 0.9043323\ttotal: 1m 13s\tremaining: 1m 21s\n",
      "474:\tlearn: 0.9042917\ttotal: 1m 13s\tremaining: 1m 21s\n",
      "475:\tlearn: 0.9042784\ttotal: 1m 13s\tremaining: 1m 21s\n",
      "476:\tlearn: 0.9042406\ttotal: 1m 14s\tremaining: 1m 21s\n",
      "477:\tlearn: 0.9042000\ttotal: 1m 14s\tremaining: 1m 21s\n",
      "478:\tlearn: 0.9041500\ttotal: 1m 14s\tremaining: 1m 20s\n",
      "479:\tlearn: 0.9041391\ttotal: 1m 14s\tremaining: 1m 20s\n",
      "480:\tlearn: 0.9041278\ttotal: 1m 14s\tremaining: 1m 20s\n",
      "481:\tlearn: 0.9040906\ttotal: 1m 14s\tremaining: 1m 20s\n",
      "482:\tlearn: 0.9040799\ttotal: 1m 15s\tremaining: 1m 20s\n",
      "483:\tlearn: 0.9040346\ttotal: 1m 15s\tremaining: 1m 20s\n",
      "484:\tlearn: 0.9039910\ttotal: 1m 15s\tremaining: 1m 19s\n",
      "485:\tlearn: 0.9039185\ttotal: 1m 15s\tremaining: 1m 19s\n",
      "486:\tlearn: 0.9038205\ttotal: 1m 15s\tremaining: 1m 19s\n",
      "487:\tlearn: 0.9037869\ttotal: 1m 15s\tremaining: 1m 19s\n",
      "488:\tlearn: 0.9037365\ttotal: 1m 15s\tremaining: 1m 19s\n",
      "489:\tlearn: 0.9036906\ttotal: 1m 16s\tremaining: 1m 19s\n",
      "490:\tlearn: 0.9036348\ttotal: 1m 16s\tremaining: 1m 19s\n",
      "491:\tlearn: 0.9036038\ttotal: 1m 16s\tremaining: 1m 18s\n",
      "492:\tlearn: 0.9035629\ttotal: 1m 16s\tremaining: 1m 18s\n",
      "493:\tlearn: 0.9035420\ttotal: 1m 16s\tremaining: 1m 18s\n",
      "494:\tlearn: 0.9034643\ttotal: 1m 16s\tremaining: 1m 18s\n",
      "495:\tlearn: 0.9034195\ttotal: 1m 16s\tremaining: 1m 18s\n",
      "496:\tlearn: 0.9033801\ttotal: 1m 17s\tremaining: 1m 18s\n",
      "497:\tlearn: 0.9033690\ttotal: 1m 17s\tremaining: 1m 17s\n",
      "498:\tlearn: 0.9033495\ttotal: 1m 17s\tremaining: 1m 17s\n",
      "499:\tlearn: 0.9033176\ttotal: 1m 17s\tremaining: 1m 17s\n",
      "500:\tlearn: 0.9032858\ttotal: 1m 17s\tremaining: 1m 17s\n",
      "501:\tlearn: 0.9032371\ttotal: 1m 17s\tremaining: 1m 17s\n",
      "502:\tlearn: 0.9031777\ttotal: 1m 18s\tremaining: 1m 17s\n",
      "503:\tlearn: 0.9031601\ttotal: 1m 18s\tremaining: 1m 16s\n",
      "504:\tlearn: 0.9031503\ttotal: 1m 18s\tremaining: 1m 16s\n",
      "505:\tlearn: 0.9031197\ttotal: 1m 18s\tremaining: 1m 16s\n",
      "506:\tlearn: 0.9030884\ttotal: 1m 18s\tremaining: 1m 16s\n",
      "507:\tlearn: 0.9030444\ttotal: 1m 18s\tremaining: 1m 16s\n",
      "508:\tlearn: 0.9030365\ttotal: 1m 19s\tremaining: 1m 16s\n",
      "509:\tlearn: 0.9030280\ttotal: 1m 19s\tremaining: 1m 16s\n",
      "510:\tlearn: 0.9029803\ttotal: 1m 19s\tremaining: 1m 15s\n",
      "511:\tlearn: 0.9029335\ttotal: 1m 19s\tremaining: 1m 15s\n",
      "512:\tlearn: 0.9029079\ttotal: 1m 19s\tremaining: 1m 15s\n",
      "513:\tlearn: 0.9028733\ttotal: 1m 19s\tremaining: 1m 15s\n",
      "514:\tlearn: 0.9028460\ttotal: 1m 19s\tremaining: 1m 15s\n",
      "515:\tlearn: 0.9028165\ttotal: 1m 20s\tremaining: 1m 15s\n",
      "516:\tlearn: 0.9028042\ttotal: 1m 20s\tremaining: 1m 14s\n",
      "517:\tlearn: 0.9027887\ttotal: 1m 20s\tremaining: 1m 14s\n",
      "518:\tlearn: 0.9027761\ttotal: 1m 20s\tremaining: 1m 14s\n",
      "519:\tlearn: 0.9027332\ttotal: 1m 20s\tremaining: 1m 14s\n",
      "520:\tlearn: 0.9026682\ttotal: 1m 20s\tremaining: 1m 14s\n",
      "521:\tlearn: 0.9026596\ttotal: 1m 21s\tremaining: 1m 14s\n",
      "522:\tlearn: 0.9026041\ttotal: 1m 21s\tremaining: 1m 14s\n",
      "523:\tlearn: 0.9025705\ttotal: 1m 21s\tremaining: 1m 13s\n",
      "524:\tlearn: 0.9025545\ttotal: 1m 21s\tremaining: 1m 13s\n",
      "525:\tlearn: 0.9025074\ttotal: 1m 21s\tremaining: 1m 13s\n",
      "526:\tlearn: 0.9024631\ttotal: 1m 21s\tremaining: 1m 13s\n",
      "527:\tlearn: 0.9024477\ttotal: 1m 21s\tremaining: 1m 13s\n",
      "528:\tlearn: 0.9024092\ttotal: 1m 22s\tremaining: 1m 13s\n",
      "529:\tlearn: 0.9023863\ttotal: 1m 22s\tremaining: 1m 12s\n",
      "530:\tlearn: 0.9023762\ttotal: 1m 22s\tremaining: 1m 12s\n",
      "531:\tlearn: 0.9023626\ttotal: 1m 22s\tremaining: 1m 12s\n",
      "532:\tlearn: 0.9023451\ttotal: 1m 22s\tremaining: 1m 12s\n",
      "533:\tlearn: 0.9023281\ttotal: 1m 22s\tremaining: 1m 12s\n",
      "534:\tlearn: 0.9022907\ttotal: 1m 23s\tremaining: 1m 12s\n",
      "535:\tlearn: 0.9022647\ttotal: 1m 23s\tremaining: 1m 11s\n",
      "536:\tlearn: 0.9022439\ttotal: 1m 23s\tremaining: 1m 11s\n",
      "537:\tlearn: 0.9021833\ttotal: 1m 23s\tremaining: 1m 11s\n",
      "538:\tlearn: 0.9021445\ttotal: 1m 23s\tremaining: 1m 11s\n",
      "539:\tlearn: 0.9021098\ttotal: 1m 23s\tremaining: 1m 11s\n",
      "540:\tlearn: 0.9020540\ttotal: 1m 23s\tremaining: 1m 11s\n",
      "541:\tlearn: 0.9020177\ttotal: 1m 24s\tremaining: 1m 11s\n",
      "542:\tlearn: 0.9019546\ttotal: 1m 24s\tremaining: 1m 10s\n",
      "543:\tlearn: 0.9018995\ttotal: 1m 24s\tremaining: 1m 10s\n",
      "544:\tlearn: 0.9018863\ttotal: 1m 24s\tremaining: 1m 10s\n",
      "545:\tlearn: 0.9018703\ttotal: 1m 24s\tremaining: 1m 10s\n",
      "546:\tlearn: 0.9018403\ttotal: 1m 24s\tremaining: 1m 10s\n",
      "547:\tlearn: 0.9017667\ttotal: 1m 24s\tremaining: 1m 10s\n",
      "548:\tlearn: 0.9017392\ttotal: 1m 25s\tremaining: 1m 9s\n",
      "549:\tlearn: 0.9016770\ttotal: 1m 25s\tremaining: 1m 9s\n",
      "550:\tlearn: 0.9016626\ttotal: 1m 25s\tremaining: 1m 9s\n",
      "551:\tlearn: 0.9016374\ttotal: 1m 25s\tremaining: 1m 9s\n",
      "552:\tlearn: 0.9016311\ttotal: 1m 25s\tremaining: 1m 9s\n",
      "553:\tlearn: 0.9016017\ttotal: 1m 25s\tremaining: 1m 9s\n",
      "554:\tlearn: 0.9015765\ttotal: 1m 26s\tremaining: 1m 8s\n",
      "555:\tlearn: 0.9015616\ttotal: 1m 26s\tremaining: 1m 8s\n",
      "556:\tlearn: 0.9015331\ttotal: 1m 26s\tremaining: 1m 8s\n",
      "557:\tlearn: 0.9015035\ttotal: 1m 26s\tremaining: 1m 8s\n",
      "558:\tlearn: 0.9014580\ttotal: 1m 26s\tremaining: 1m 8s\n",
      "559:\tlearn: 0.9014440\ttotal: 1m 26s\tremaining: 1m 8s\n",
      "560:\tlearn: 0.9014284\ttotal: 1m 26s\tremaining: 1m 8s\n",
      "561:\tlearn: 0.9013881\ttotal: 1m 27s\tremaining: 1m 7s\n",
      "562:\tlearn: 0.9013704\ttotal: 1m 27s\tremaining: 1m 7s\n",
      "563:\tlearn: 0.9013585\ttotal: 1m 27s\tremaining: 1m 7s\n",
      "564:\tlearn: 0.9013221\ttotal: 1m 27s\tremaining: 1m 7s\n",
      "565:\tlearn: 0.9012910\ttotal: 1m 27s\tremaining: 1m 7s\n",
      "566:\tlearn: 0.9012531\ttotal: 1m 27s\tremaining: 1m 7s\n",
      "567:\tlearn: 0.9012345\ttotal: 1m 28s\tremaining: 1m 6s\n",
      "568:\tlearn: 0.9012097\ttotal: 1m 28s\tremaining: 1m 6s\n",
      "569:\tlearn: 0.9011743\ttotal: 1m 28s\tremaining: 1m 6s\n",
      "570:\tlearn: 0.9011672\ttotal: 1m 28s\tremaining: 1m 6s\n",
      "571:\tlearn: 0.9011580\ttotal: 1m 28s\tremaining: 1m 6s\n",
      "572:\tlearn: 0.9011424\ttotal: 1m 28s\tremaining: 1m 6s\n",
      "573:\tlearn: 0.9010932\ttotal: 1m 29s\tremaining: 1m 6s\n",
      "574:\tlearn: 0.9010853\ttotal: 1m 29s\tremaining: 1m 5s\n",
      "575:\tlearn: 0.9010556\ttotal: 1m 29s\tremaining: 1m 5s\n",
      "576:\tlearn: 0.9010290\ttotal: 1m 29s\tremaining: 1m 5s\n",
      "577:\tlearn: 0.9010009\ttotal: 1m 29s\tremaining: 1m 5s\n",
      "578:\tlearn: 0.9009924\ttotal: 1m 29s\tremaining: 1m 5s\n",
      "579:\tlearn: 0.9009653\ttotal: 1m 30s\tremaining: 1m 5s\n",
      "580:\tlearn: 0.9009362\ttotal: 1m 30s\tremaining: 1m 5s\n",
      "581:\tlearn: 0.9009240\ttotal: 1m 30s\tremaining: 1m 4s\n",
      "582:\tlearn: 0.9009037\ttotal: 1m 30s\tremaining: 1m 4s\n",
      "583:\tlearn: 0.9008875\ttotal: 1m 30s\tremaining: 1m 4s\n",
      "584:\tlearn: 0.9008433\ttotal: 1m 30s\tremaining: 1m 4s\n",
      "585:\tlearn: 0.9008219\ttotal: 1m 30s\tremaining: 1m 4s\n",
      "586:\tlearn: 0.9007757\ttotal: 1m 31s\tremaining: 1m 4s\n",
      "587:\tlearn: 0.9007644\ttotal: 1m 31s\tremaining: 1m 3s\n",
      "588:\tlearn: 0.9007408\ttotal: 1m 31s\tremaining: 1m 3s\n",
      "589:\tlearn: 0.9007157\ttotal: 1m 31s\tremaining: 1m 3s\n",
      "590:\tlearn: 0.9006915\ttotal: 1m 31s\tremaining: 1m 3s\n",
      "591:\tlearn: 0.9006675\ttotal: 1m 31s\tremaining: 1m 3s\n",
      "592:\tlearn: 0.9006174\ttotal: 1m 32s\tremaining: 1m 3s\n",
      "593:\tlearn: 0.9006016\ttotal: 1m 32s\tremaining: 1m 3s\n",
      "594:\tlearn: 0.9005836\ttotal: 1m 32s\tremaining: 1m 2s\n",
      "595:\tlearn: 0.9005658\ttotal: 1m 32s\tremaining: 1m 2s\n",
      "596:\tlearn: 0.9005573\ttotal: 1m 32s\tremaining: 1m 2s\n",
      "597:\tlearn: 0.9005247\ttotal: 1m 32s\tremaining: 1m 2s\n",
      "598:\tlearn: 0.9004635\ttotal: 1m 33s\tremaining: 1m 2s\n",
      "599:\tlearn: 0.9004517\ttotal: 1m 33s\tremaining: 1m 2s\n",
      "600:\tlearn: 0.9004365\ttotal: 1m 33s\tremaining: 1m 2s\n",
      "601:\tlearn: 0.9004260\ttotal: 1m 33s\tremaining: 1m 1s\n",
      "602:\tlearn: 0.9003829\ttotal: 1m 33s\tremaining: 1m 1s\n",
      "603:\tlearn: 0.9003556\ttotal: 1m 34s\tremaining: 1m 1s\n",
      "604:\tlearn: 0.9003284\ttotal: 1m 34s\tremaining: 1m 1s\n",
      "605:\tlearn: 0.9002994\ttotal: 1m 34s\tremaining: 1m 1s\n",
      "606:\tlearn: 0.9002905\ttotal: 1m 34s\tremaining: 1m 1s\n",
      "607:\tlearn: 0.9002329\ttotal: 1m 34s\tremaining: 1m 1s\n",
      "608:\tlearn: 0.9001966\ttotal: 1m 34s\tremaining: 1m\n",
      "609:\tlearn: 0.9001698\ttotal: 1m 34s\tremaining: 1m\n",
      "610:\tlearn: 0.9001546\ttotal: 1m 35s\tremaining: 1m\n",
      "611:\tlearn: 0.9000998\ttotal: 1m 35s\tremaining: 1m\n",
      "612:\tlearn: 0.9000723\ttotal: 1m 35s\tremaining: 1m\n",
      "613:\tlearn: 0.9000420\ttotal: 1m 35s\tremaining: 1m\n",
      "614:\tlearn: 0.8999956\ttotal: 1m 35s\tremaining: 60s\n",
      "615:\tlearn: 0.8999449\ttotal: 1m 35s\tremaining: 59.8s\n",
      "616:\tlearn: 0.8999275\ttotal: 1m 36s\tremaining: 59.6s\n",
      "617:\tlearn: 0.8999082\ttotal: 1m 36s\tremaining: 59.5s\n",
      "618:\tlearn: 0.8998842\ttotal: 1m 36s\tremaining: 59.3s\n",
      "619:\tlearn: 0.8998536\ttotal: 1m 36s\tremaining: 59.2s\n",
      "620:\tlearn: 0.8998360\ttotal: 1m 36s\tremaining: 59s\n",
      "621:\tlearn: 0.8998264\ttotal: 1m 36s\tremaining: 58.9s\n",
      "622:\tlearn: 0.8998086\ttotal: 1m 37s\tremaining: 58.7s\n",
      "623:\tlearn: 0.8997973\ttotal: 1m 37s\tremaining: 58.6s\n",
      "624:\tlearn: 0.8997690\ttotal: 1m 37s\tremaining: 58.4s\n"
     ]
    },
    {
     "name": "stdout",
     "output_type": "stream",
     "text": [
      "625:\tlearn: 0.8997326\ttotal: 1m 37s\tremaining: 58.2s\n",
      "626:\tlearn: 0.8997015\ttotal: 1m 37s\tremaining: 58.1s\n",
      "627:\tlearn: 0.8996784\ttotal: 1m 37s\tremaining: 57.9s\n",
      "628:\tlearn: 0.8996529\ttotal: 1m 37s\tremaining: 57.8s\n",
      "629:\tlearn: 0.8996335\ttotal: 1m 38s\tremaining: 57.6s\n",
      "630:\tlearn: 0.8996069\ttotal: 1m 38s\tremaining: 57.4s\n",
      "631:\tlearn: 0.8995910\ttotal: 1m 38s\tremaining: 57.3s\n",
      "632:\tlearn: 0.8995667\ttotal: 1m 38s\tremaining: 57.1s\n",
      "633:\tlearn: 0.8995533\ttotal: 1m 38s\tremaining: 57s\n",
      "634:\tlearn: 0.8995429\ttotal: 1m 38s\tremaining: 56.8s\n",
      "635:\tlearn: 0.8995196\ttotal: 1m 38s\tremaining: 56.7s\n",
      "636:\tlearn: 0.8994947\ttotal: 1m 39s\tremaining: 56.5s\n",
      "637:\tlearn: 0.8994879\ttotal: 1m 39s\tremaining: 56.3s\n",
      "638:\tlearn: 0.8994747\ttotal: 1m 39s\tremaining: 56.2s\n",
      "639:\tlearn: 0.8994477\ttotal: 1m 39s\tremaining: 56s\n",
      "640:\tlearn: 0.8994248\ttotal: 1m 39s\tremaining: 55.9s\n",
      "641:\tlearn: 0.8993947\ttotal: 1m 39s\tremaining: 55.7s\n",
      "642:\tlearn: 0.8993614\ttotal: 1m 40s\tremaining: 55.5s\n",
      "643:\tlearn: 0.8993515\ttotal: 1m 40s\tremaining: 55.4s\n",
      "644:\tlearn: 0.8993444\ttotal: 1m 40s\tremaining: 55.2s\n",
      "645:\tlearn: 0.8993402\ttotal: 1m 40s\tremaining: 55.1s\n",
      "646:\tlearn: 0.8992946\ttotal: 1m 40s\tremaining: 54.9s\n",
      "647:\tlearn: 0.8992872\ttotal: 1m 40s\tremaining: 54.8s\n",
      "648:\tlearn: 0.8992573\ttotal: 1m 40s\tremaining: 54.6s\n",
      "649:\tlearn: 0.8992477\ttotal: 1m 41s\tremaining: 54.4s\n",
      "650:\tlearn: 0.8992191\ttotal: 1m 41s\tremaining: 54.3s\n",
      "651:\tlearn: 0.8992101\ttotal: 1m 41s\tremaining: 54.1s\n",
      "652:\tlearn: 0.8991925\ttotal: 1m 41s\tremaining: 54s\n",
      "653:\tlearn: 0.8991846\ttotal: 1m 41s\tremaining: 53.8s\n",
      "654:\tlearn: 0.8991495\ttotal: 1m 41s\tremaining: 53.7s\n",
      "655:\tlearn: 0.8991421\ttotal: 1m 42s\tremaining: 53.5s\n",
      "656:\tlearn: 0.8991294\ttotal: 1m 42s\tremaining: 53.4s\n",
      "657:\tlearn: 0.8991177\ttotal: 1m 42s\tremaining: 53.2s\n",
      "658:\tlearn: 0.8990895\ttotal: 1m 42s\tremaining: 53s\n",
      "659:\tlearn: 0.8990591\ttotal: 1m 42s\tremaining: 52.9s\n",
      "660:\tlearn: 0.8990510\ttotal: 1m 42s\tremaining: 52.7s\n",
      "661:\tlearn: 0.8990141\ttotal: 1m 42s\tremaining: 52.6s\n",
      "662:\tlearn: 0.8990058\ttotal: 1m 43s\tremaining: 52.4s\n",
      "663:\tlearn: 0.8989950\ttotal: 1m 43s\tremaining: 52.3s\n",
      "664:\tlearn: 0.8989544\ttotal: 1m 43s\tremaining: 52.1s\n",
      "665:\tlearn: 0.8989385\ttotal: 1m 43s\tremaining: 52s\n",
      "666:\tlearn: 0.8989197\ttotal: 1m 43s\tremaining: 51.8s\n",
      "667:\tlearn: 0.8989137\ttotal: 1m 43s\tremaining: 51.6s\n",
      "668:\tlearn: 0.8988997\ttotal: 1m 44s\tremaining: 51.5s\n",
      "669:\tlearn: 0.8988925\ttotal: 1m 44s\tremaining: 51.4s\n",
      "670:\tlearn: 0.8988617\ttotal: 1m 44s\tremaining: 51.2s\n",
      "671:\tlearn: 0.8988395\ttotal: 1m 44s\tremaining: 51.1s\n",
      "672:\tlearn: 0.8988231\ttotal: 1m 44s\tremaining: 50.9s\n",
      "673:\tlearn: 0.8987862\ttotal: 1m 44s\tremaining: 50.8s\n",
      "674:\tlearn: 0.8987569\ttotal: 1m 45s\tremaining: 50.6s\n",
      "675:\tlearn: 0.8987424\ttotal: 1m 45s\tremaining: 50.4s\n",
      "676:\tlearn: 0.8987272\ttotal: 1m 45s\tremaining: 50.3s\n",
      "677:\tlearn: 0.8987063\ttotal: 1m 45s\tremaining: 50.1s\n",
      "678:\tlearn: 0.8986981\ttotal: 1m 45s\tremaining: 50s\n",
      "679:\tlearn: 0.8986778\ttotal: 1m 45s\tremaining: 49.8s\n",
      "680:\tlearn: 0.8986617\ttotal: 1m 46s\tremaining: 49.7s\n",
      "681:\tlearn: 0.8986550\ttotal: 1m 46s\tremaining: 49.5s\n",
      "682:\tlearn: 0.8986400\ttotal: 1m 46s\tremaining: 49.3s\n",
      "683:\tlearn: 0.8986231\ttotal: 1m 46s\tremaining: 49.2s\n",
      "684:\tlearn: 0.8986057\ttotal: 1m 46s\tremaining: 49.1s\n",
      "685:\tlearn: 0.8985992\ttotal: 1m 46s\tremaining: 48.9s\n",
      "686:\tlearn: 0.8985856\ttotal: 1m 47s\tremaining: 48.8s\n",
      "687:\tlearn: 0.8985687\ttotal: 1m 47s\tremaining: 48.6s\n",
      "688:\tlearn: 0.8985519\ttotal: 1m 47s\tremaining: 48.5s\n",
      "689:\tlearn: 0.8985431\ttotal: 1m 47s\tremaining: 48.3s\n",
      "690:\tlearn: 0.8985345\ttotal: 1m 47s\tremaining: 48.2s\n",
      "691:\tlearn: 0.8985277\ttotal: 1m 47s\tremaining: 48s\n",
      "692:\tlearn: 0.8985173\ttotal: 1m 48s\tremaining: 47.9s\n",
      "693:\tlearn: 0.8984966\ttotal: 1m 48s\tremaining: 47.7s\n",
      "694:\tlearn: 0.8984833\ttotal: 1m 48s\tremaining: 47.6s\n",
      "695:\tlearn: 0.8984748\ttotal: 1m 48s\tremaining: 47.4s\n",
      "696:\tlearn: 0.8984469\ttotal: 1m 48s\tremaining: 47.3s\n",
      "697:\tlearn: 0.8984420\ttotal: 1m 48s\tremaining: 47.1s\n",
      "698:\tlearn: 0.8984259\ttotal: 1m 49s\tremaining: 47s\n",
      "699:\tlearn: 0.8983972\ttotal: 1m 49s\tremaining: 46.8s\n",
      "700:\tlearn: 0.8983872\ttotal: 1m 49s\tremaining: 46.6s\n",
      "701:\tlearn: 0.8983763\ttotal: 1m 49s\tremaining: 46.5s\n",
      "702:\tlearn: 0.8983649\ttotal: 1m 49s\tremaining: 46.3s\n",
      "703:\tlearn: 0.8983461\ttotal: 1m 49s\tremaining: 46.2s\n",
      "704:\tlearn: 0.8983375\ttotal: 1m 49s\tremaining: 46s\n",
      "705:\tlearn: 0.8983225\ttotal: 1m 50s\tremaining: 45.9s\n",
      "706:\tlearn: 0.8983003\ttotal: 1m 50s\tremaining: 45.7s\n",
      "707:\tlearn: 0.8982885\ttotal: 1m 50s\tremaining: 45.5s\n",
      "708:\tlearn: 0.8982787\ttotal: 1m 50s\tremaining: 45.4s\n",
      "709:\tlearn: 0.8982450\ttotal: 1m 50s\tremaining: 45.2s\n",
      "710:\tlearn: 0.8982225\ttotal: 1m 50s\tremaining: 45.1s\n",
      "711:\tlearn: 0.8981962\ttotal: 1m 51s\tremaining: 44.9s\n",
      "712:\tlearn: 0.8981738\ttotal: 1m 51s\tremaining: 44.8s\n",
      "713:\tlearn: 0.8981643\ttotal: 1m 51s\tremaining: 44.6s\n",
      "714:\tlearn: 0.8981487\ttotal: 1m 51s\tremaining: 44.5s\n",
      "715:\tlearn: 0.8981375\ttotal: 1m 51s\tremaining: 44.3s\n",
      "716:\tlearn: 0.8981318\ttotal: 1m 51s\tremaining: 44.1s\n",
      "717:\tlearn: 0.8981052\ttotal: 1m 51s\tremaining: 44s\n",
      "718:\tlearn: 0.8980948\ttotal: 1m 52s\tremaining: 43.8s\n",
      "719:\tlearn: 0.8980841\ttotal: 1m 52s\tremaining: 43.7s\n",
      "720:\tlearn: 0.8980770\ttotal: 1m 52s\tremaining: 43.5s\n",
      "721:\tlearn: 0.8980524\ttotal: 1m 52s\tremaining: 43.4s\n",
      "722:\tlearn: 0.8980441\ttotal: 1m 52s\tremaining: 43.2s\n",
      "723:\tlearn: 0.8980238\ttotal: 1m 52s\tremaining: 43.1s\n",
      "724:\tlearn: 0.8979600\ttotal: 1m 53s\tremaining: 42.9s\n",
      "725:\tlearn: 0.8979350\ttotal: 1m 53s\tremaining: 42.7s\n",
      "726:\tlearn: 0.8979024\ttotal: 1m 53s\tremaining: 42.6s\n",
      "727:\tlearn: 0.8978912\ttotal: 1m 53s\tremaining: 42.4s\n",
      "728:\tlearn: 0.8978776\ttotal: 1m 53s\tremaining: 42.3s\n",
      "729:\tlearn: 0.8978703\ttotal: 1m 53s\tremaining: 42.1s\n",
      "730:\tlearn: 0.8978453\ttotal: 1m 54s\tremaining: 42s\n",
      "731:\tlearn: 0.8978400\ttotal: 1m 54s\tremaining: 41.9s\n",
      "732:\tlearn: 0.8978347\ttotal: 1m 54s\tremaining: 41.7s\n",
      "733:\tlearn: 0.8978236\ttotal: 1m 54s\tremaining: 41.6s\n",
      "734:\tlearn: 0.8978170\ttotal: 1m 54s\tremaining: 41.4s\n",
      "735:\tlearn: 0.8978066\ttotal: 1m 55s\tremaining: 41.3s\n",
      "736:\tlearn: 0.8977886\ttotal: 1m 55s\tremaining: 41.1s\n",
      "737:\tlearn: 0.8977598\ttotal: 1m 55s\tremaining: 41s\n",
      "738:\tlearn: 0.8977427\ttotal: 1m 55s\tremaining: 40.8s\n",
      "739:\tlearn: 0.8977360\ttotal: 1m 55s\tremaining: 40.6s\n",
      "740:\tlearn: 0.8977008\ttotal: 1m 55s\tremaining: 40.5s\n",
      "741:\tlearn: 0.8976901\ttotal: 1m 56s\tremaining: 40.3s\n",
      "742:\tlearn: 0.8976395\ttotal: 1m 56s\tremaining: 40.2s\n",
      "743:\tlearn: 0.8976082\ttotal: 1m 56s\tremaining: 40s\n",
      "744:\tlearn: 0.8975947\ttotal: 1m 56s\tremaining: 39.9s\n",
      "745:\tlearn: 0.8975858\ttotal: 1m 56s\tremaining: 39.7s\n",
      "746:\tlearn: 0.8975728\ttotal: 1m 56s\tremaining: 39.6s\n",
      "747:\tlearn: 0.8975682\ttotal: 1m 57s\tremaining: 39.4s\n",
      "748:\tlearn: 0.8975542\ttotal: 1m 57s\tremaining: 39.3s\n",
      "749:\tlearn: 0.8975370\ttotal: 1m 57s\tremaining: 39.1s\n",
      "750:\tlearn: 0.8975098\ttotal: 1m 57s\tremaining: 39s\n",
      "751:\tlearn: 0.8975033\ttotal: 1m 57s\tremaining: 38.8s\n",
      "752:\tlearn: 0.8974728\ttotal: 1m 57s\tremaining: 38.7s\n",
      "753:\tlearn: 0.8974533\ttotal: 1m 58s\tremaining: 38.5s\n",
      "754:\tlearn: 0.8974305\ttotal: 1m 58s\tremaining: 38.4s\n",
      "755:\tlearn: 0.8974182\ttotal: 1m 58s\tremaining: 38.2s\n",
      "756:\tlearn: 0.8974122\ttotal: 1m 58s\tremaining: 38.1s\n",
      "757:\tlearn: 0.8973975\ttotal: 1m 58s\tremaining: 37.9s\n",
      "758:\tlearn: 0.8973898\ttotal: 1m 58s\tremaining: 37.7s\n",
      "759:\tlearn: 0.8973646\ttotal: 1m 59s\tremaining: 37.6s\n",
      "760:\tlearn: 0.8973341\ttotal: 1m 59s\tremaining: 37.5s\n",
      "761:\tlearn: 0.8973188\ttotal: 1m 59s\tremaining: 37.3s\n",
      "762:\tlearn: 0.8973001\ttotal: 1m 59s\tremaining: 37.1s\n",
      "763:\tlearn: 0.8972906\ttotal: 1m 59s\tremaining: 37s\n",
      "764:\tlearn: 0.8972625\ttotal: 1m 59s\tremaining: 36.8s\n",
      "765:\tlearn: 0.8972250\ttotal: 2m\tremaining: 36.7s\n",
      "766:\tlearn: 0.8971988\ttotal: 2m\tremaining: 36.5s\n",
      "767:\tlearn: 0.8971828\ttotal: 2m\tremaining: 36.4s\n",
      "768:\tlearn: 0.8971778\ttotal: 2m\tremaining: 36.2s\n",
      "769:\tlearn: 0.8971631\ttotal: 2m\tremaining: 36.1s\n",
      "770:\tlearn: 0.8971400\ttotal: 2m\tremaining: 35.9s\n",
      "771:\tlearn: 0.8971015\ttotal: 2m 1s\tremaining: 35.8s\n",
      "772:\tlearn: 0.8970789\ttotal: 2m 1s\tremaining: 35.6s\n",
      "773:\tlearn: 0.8970560\ttotal: 2m 1s\tremaining: 35.5s\n",
      "774:\tlearn: 0.8970436\ttotal: 2m 1s\tremaining: 35.3s\n",
      "775:\tlearn: 0.8970361\ttotal: 2m 1s\tremaining: 35.1s\n",
      "776:\tlearn: 0.8970315\ttotal: 2m 1s\tremaining: 35s\n",
      "777:\tlearn: 0.8970147\ttotal: 2m 2s\tremaining: 34.8s\n",
      "778:\tlearn: 0.8970029\ttotal: 2m 2s\tremaining: 34.7s\n",
      "779:\tlearn: 0.8969947\ttotal: 2m 2s\tremaining: 34.5s\n",
      "780:\tlearn: 0.8969855\ttotal: 2m 2s\tremaining: 34.4s\n",
      "781:\tlearn: 0.8969730\ttotal: 2m 2s\tremaining: 34.2s\n"
     ]
    },
    {
     "name": "stdout",
     "output_type": "stream",
     "text": [
      "782:\tlearn: 0.8969661\ttotal: 2m 2s\tremaining: 34.1s\n",
      "783:\tlearn: 0.8969486\ttotal: 2m 3s\tremaining: 33.9s\n",
      "784:\tlearn: 0.8969389\ttotal: 2m 3s\tremaining: 33.8s\n",
      "785:\tlearn: 0.8969350\ttotal: 2m 3s\tremaining: 33.6s\n",
      "786:\tlearn: 0.8969263\ttotal: 2m 3s\tremaining: 33.5s\n",
      "787:\tlearn: 0.8969145\ttotal: 2m 3s\tremaining: 33.3s\n",
      "788:\tlearn: 0.8969042\ttotal: 2m 3s\tremaining: 33.2s\n",
      "789:\tlearn: 0.8968814\ttotal: 2m 4s\tremaining: 33s\n",
      "790:\tlearn: 0.8968524\ttotal: 2m 4s\tremaining: 32.8s\n",
      "791:\tlearn: 0.8968279\ttotal: 2m 4s\tremaining: 32.7s\n",
      "792:\tlearn: 0.8967962\ttotal: 2m 4s\tremaining: 32.5s\n",
      "793:\tlearn: 0.8967925\ttotal: 2m 4s\tremaining: 32.4s\n",
      "794:\tlearn: 0.8967627\ttotal: 2m 4s\tremaining: 32.2s\n",
      "795:\tlearn: 0.8967409\ttotal: 2m 5s\tremaining: 32.1s\n",
      "796:\tlearn: 0.8967304\ttotal: 2m 5s\tremaining: 31.9s\n",
      "797:\tlearn: 0.8967146\ttotal: 2m 5s\tremaining: 31.8s\n",
      "798:\tlearn: 0.8967057\ttotal: 2m 5s\tremaining: 31.6s\n",
      "799:\tlearn: 0.8966872\ttotal: 2m 5s\tremaining: 31.4s\n",
      "800:\tlearn: 0.8966827\ttotal: 2m 5s\tremaining: 31.3s\n",
      "801:\tlearn: 0.8966778\ttotal: 2m 6s\tremaining: 31.2s\n",
      "802:\tlearn: 0.8966463\ttotal: 2m 6s\tremaining: 31s\n",
      "803:\tlearn: 0.8966105\ttotal: 2m 6s\tremaining: 30.8s\n",
      "804:\tlearn: 0.8965980\ttotal: 2m 6s\tremaining: 30.7s\n",
      "805:\tlearn: 0.8965932\ttotal: 2m 6s\tremaining: 30.5s\n",
      "806:\tlearn: 0.8965646\ttotal: 2m 7s\tremaining: 30.4s\n",
      "807:\tlearn: 0.8965593\ttotal: 2m 7s\tremaining: 30.2s\n",
      "808:\tlearn: 0.8965336\ttotal: 2m 7s\tremaining: 30.1s\n",
      "809:\tlearn: 0.8965056\ttotal: 2m 7s\tremaining: 29.9s\n",
      "810:\tlearn: 0.8964958\ttotal: 2m 7s\tremaining: 29.8s\n",
      "811:\tlearn: 0.8964572\ttotal: 2m 7s\tremaining: 29.6s\n",
      "812:\tlearn: 0.8964285\ttotal: 2m 8s\tremaining: 29.5s\n",
      "813:\tlearn: 0.8964084\ttotal: 2m 8s\tremaining: 29.3s\n",
      "814:\tlearn: 0.8963725\ttotal: 2m 8s\tremaining: 29.2s\n",
      "815:\tlearn: 0.8963513\ttotal: 2m 8s\tremaining: 29s\n",
      "816:\tlearn: 0.8963204\ttotal: 2m 8s\tremaining: 28.8s\n",
      "817:\tlearn: 0.8963152\ttotal: 2m 8s\tremaining: 28.7s\n",
      "818:\tlearn: 0.8962780\ttotal: 2m 9s\tremaining: 28.5s\n",
      "819:\tlearn: 0.8962671\ttotal: 2m 9s\tremaining: 28.4s\n",
      "820:\tlearn: 0.8962614\ttotal: 2m 9s\tremaining: 28.2s\n",
      "821:\tlearn: 0.8962443\ttotal: 2m 9s\tremaining: 28.1s\n",
      "822:\tlearn: 0.8962136\ttotal: 2m 9s\tremaining: 27.9s\n",
      "823:\tlearn: 0.8962030\ttotal: 2m 9s\tremaining: 27.7s\n",
      "824:\tlearn: 0.8961982\ttotal: 2m 10s\tremaining: 27.6s\n",
      "825:\tlearn: 0.8961754\ttotal: 2m 10s\tremaining: 27.4s\n",
      "826:\tlearn: 0.8961644\ttotal: 2m 10s\tremaining: 27.3s\n",
      "827:\tlearn: 0.8961335\ttotal: 2m 10s\tremaining: 27.1s\n",
      "828:\tlearn: 0.8961179\ttotal: 2m 10s\tremaining: 27s\n",
      "829:\tlearn: 0.8961093\ttotal: 2m 11s\tremaining: 26.8s\n",
      "830:\tlearn: 0.8960863\ttotal: 2m 11s\tremaining: 26.7s\n",
      "831:\tlearn: 0.8960603\ttotal: 2m 11s\tremaining: 26.5s\n",
      "832:\tlearn: 0.8960440\ttotal: 2m 11s\tremaining: 26.4s\n",
      "833:\tlearn: 0.8960374\ttotal: 2m 11s\tremaining: 26.2s\n",
      "834:\tlearn: 0.8960101\ttotal: 2m 11s\tremaining: 26.1s\n",
      "835:\tlearn: 0.8960027\ttotal: 2m 12s\tremaining: 25.9s\n",
      "836:\tlearn: 0.8959954\ttotal: 2m 12s\tremaining: 25.7s\n",
      "837:\tlearn: 0.8959693\ttotal: 2m 12s\tremaining: 25.6s\n",
      "838:\tlearn: 0.8959642\ttotal: 2m 12s\tremaining: 25.4s\n",
      "839:\tlearn: 0.8959378\ttotal: 2m 12s\tremaining: 25.3s\n",
      "840:\tlearn: 0.8959108\ttotal: 2m 12s\tremaining: 25.1s\n",
      "841:\tlearn: 0.8958947\ttotal: 2m 12s\tremaining: 25s\n",
      "842:\tlearn: 0.8958816\ttotal: 2m 13s\tremaining: 24.8s\n",
      "843:\tlearn: 0.8958760\ttotal: 2m 13s\tremaining: 24.6s\n",
      "844:\tlearn: 0.8958673\ttotal: 2m 13s\tremaining: 24.5s\n",
      "845:\tlearn: 0.8958581\ttotal: 2m 13s\tremaining: 24.3s\n",
      "846:\tlearn: 0.8958480\ttotal: 2m 13s\tremaining: 24.2s\n",
      "847:\tlearn: 0.8958457\ttotal: 2m 13s\tremaining: 24s\n",
      "848:\tlearn: 0.8958403\ttotal: 2m 14s\tremaining: 23.8s\n",
      "849:\tlearn: 0.8958295\ttotal: 2m 14s\tremaining: 23.7s\n",
      "850:\tlearn: 0.8958079\ttotal: 2m 14s\tremaining: 23.5s\n",
      "851:\tlearn: 0.8957856\ttotal: 2m 14s\tremaining: 23.4s\n",
      "852:\tlearn: 0.8957805\ttotal: 2m 14s\tremaining: 23.2s\n",
      "853:\tlearn: 0.8957566\ttotal: 2m 14s\tremaining: 23.1s\n",
      "854:\tlearn: 0.8957466\ttotal: 2m 15s\tremaining: 22.9s\n",
      "855:\tlearn: 0.8957295\ttotal: 2m 15s\tremaining: 22.7s\n",
      "856:\tlearn: 0.8957198\ttotal: 2m 15s\tremaining: 22.6s\n",
      "857:\tlearn: 0.8957122\ttotal: 2m 15s\tremaining: 22.4s\n",
      "858:\tlearn: 0.8956950\ttotal: 2m 15s\tremaining: 22.3s\n",
      "859:\tlearn: 0.8956811\ttotal: 2m 15s\tremaining: 22.1s\n",
      "860:\tlearn: 0.8956617\ttotal: 2m 15s\tremaining: 21.9s\n",
      "861:\tlearn: 0.8956533\ttotal: 2m 16s\tremaining: 21.8s\n",
      "862:\tlearn: 0.8956216\ttotal: 2m 16s\tremaining: 21.6s\n",
      "863:\tlearn: 0.8955924\ttotal: 2m 16s\tremaining: 21.5s\n",
      "864:\tlearn: 0.8955820\ttotal: 2m 16s\tremaining: 21.3s\n",
      "865:\tlearn: 0.8955694\ttotal: 2m 16s\tremaining: 21.2s\n",
      "866:\tlearn: 0.8955533\ttotal: 2m 16s\tremaining: 21s\n",
      "867:\tlearn: 0.8955382\ttotal: 2m 17s\tremaining: 20.8s\n",
      "868:\tlearn: 0.8955164\ttotal: 2m 17s\tremaining: 20.7s\n",
      "869:\tlearn: 0.8955113\ttotal: 2m 17s\tremaining: 20.5s\n",
      "870:\tlearn: 0.8955028\ttotal: 2m 17s\tremaining: 20.4s\n",
      "871:\tlearn: 0.8954967\ttotal: 2m 17s\tremaining: 20.2s\n",
      "872:\tlearn: 0.8954726\ttotal: 2m 17s\tremaining: 20s\n",
      "873:\tlearn: 0.8954687\ttotal: 2m 17s\tremaining: 19.9s\n",
      "874:\tlearn: 0.8954442\ttotal: 2m 18s\tremaining: 19.7s\n",
      "875:\tlearn: 0.8954396\ttotal: 2m 18s\tremaining: 19.6s\n",
      "876:\tlearn: 0.8954302\ttotal: 2m 18s\tremaining: 19.4s\n",
      "877:\tlearn: 0.8954112\ttotal: 2m 18s\tremaining: 19.2s\n",
      "878:\tlearn: 0.8954054\ttotal: 2m 18s\tremaining: 19.1s\n",
      "879:\tlearn: 0.8953976\ttotal: 2m 18s\tremaining: 18.9s\n",
      "880:\tlearn: 0.8953843\ttotal: 2m 18s\tremaining: 18.8s\n",
      "881:\tlearn: 0.8953690\ttotal: 2m 19s\tremaining: 18.6s\n",
      "882:\tlearn: 0.8953495\ttotal: 2m 19s\tremaining: 18.5s\n",
      "883:\tlearn: 0.8953298\ttotal: 2m 19s\tremaining: 18.3s\n",
      "884:\tlearn: 0.8953157\ttotal: 2m 19s\tremaining: 18.1s\n",
      "885:\tlearn: 0.8952986\ttotal: 2m 19s\tremaining: 18s\n",
      "886:\tlearn: 0.8952776\ttotal: 2m 19s\tremaining: 17.8s\n",
      "887:\tlearn: 0.8952524\ttotal: 2m 20s\tremaining: 17.7s\n",
      "888:\tlearn: 0.8952408\ttotal: 2m 20s\tremaining: 17.5s\n",
      "889:\tlearn: 0.8952246\ttotal: 2m 20s\tremaining: 17.3s\n",
      "890:\tlearn: 0.8952070\ttotal: 2m 20s\tremaining: 17.2s\n",
      "891:\tlearn: 0.8951969\ttotal: 2m 20s\tremaining: 17s\n",
      "892:\tlearn: 0.8951928\ttotal: 2m 20s\tremaining: 16.9s\n",
      "893:\tlearn: 0.8951815\ttotal: 2m 20s\tremaining: 16.7s\n",
      "894:\tlearn: 0.8951633\ttotal: 2m 21s\tremaining: 16.6s\n",
      "895:\tlearn: 0.8951558\ttotal: 2m 21s\tremaining: 16.4s\n",
      "896:\tlearn: 0.8951314\ttotal: 2m 21s\tremaining: 16.2s\n",
      "897:\tlearn: 0.8951013\ttotal: 2m 21s\tremaining: 16.1s\n",
      "898:\tlearn: 0.8950876\ttotal: 2m 21s\tremaining: 15.9s\n",
      "899:\tlearn: 0.8950775\ttotal: 2m 21s\tremaining: 15.8s\n",
      "900:\tlearn: 0.8950588\ttotal: 2m 22s\tremaining: 15.6s\n",
      "901:\tlearn: 0.8950429\ttotal: 2m 22s\tremaining: 15.5s\n",
      "902:\tlearn: 0.8950240\ttotal: 2m 22s\tremaining: 15.3s\n",
      "903:\tlearn: 0.8950140\ttotal: 2m 22s\tremaining: 15.2s\n",
      "904:\tlearn: 0.8950078\ttotal: 2m 22s\tremaining: 15s\n",
      "905:\tlearn: 0.8949988\ttotal: 2m 23s\tremaining: 14.8s\n",
      "906:\tlearn: 0.8949902\ttotal: 2m 23s\tremaining: 14.7s\n",
      "907:\tlearn: 0.8949728\ttotal: 2m 23s\tremaining: 14.5s\n",
      "908:\tlearn: 0.8949682\ttotal: 2m 23s\tremaining: 14.4s\n",
      "909:\tlearn: 0.8949570\ttotal: 2m 23s\tremaining: 14.2s\n",
      "910:\tlearn: 0.8949304\ttotal: 2m 24s\tremaining: 14.1s\n",
      "911:\tlearn: 0.8949190\ttotal: 2m 24s\tremaining: 13.9s\n",
      "912:\tlearn: 0.8948895\ttotal: 2m 24s\tremaining: 13.8s\n",
      "913:\tlearn: 0.8948811\ttotal: 2m 24s\tremaining: 13.6s\n",
      "914:\tlearn: 0.8948395\ttotal: 2m 24s\tremaining: 13.5s\n",
      "915:\tlearn: 0.8948223\ttotal: 2m 25s\tremaining: 13.3s\n",
      "916:\tlearn: 0.8948133\ttotal: 2m 25s\tremaining: 13.2s\n",
      "917:\tlearn: 0.8948038\ttotal: 2m 25s\tremaining: 13s\n",
      "918:\tlearn: 0.8947753\ttotal: 2m 25s\tremaining: 12.8s\n",
      "919:\tlearn: 0.8947538\ttotal: 2m 26s\tremaining: 12.7s\n",
      "920:\tlearn: 0.8947468\ttotal: 2m 26s\tremaining: 12.5s\n",
      "921:\tlearn: 0.8947361\ttotal: 2m 26s\tremaining: 12.4s\n",
      "922:\tlearn: 0.8947160\ttotal: 2m 26s\tremaining: 12.2s\n",
      "923:\tlearn: 0.8946985\ttotal: 2m 26s\tremaining: 12.1s\n",
      "924:\tlearn: 0.8946917\ttotal: 2m 27s\tremaining: 11.9s\n",
      "925:\tlearn: 0.8946822\ttotal: 2m 27s\tremaining: 11.8s\n",
      "926:\tlearn: 0.8946756\ttotal: 2m 27s\tremaining: 11.6s\n",
      "927:\tlearn: 0.8946643\ttotal: 2m 27s\tremaining: 11.5s\n",
      "928:\tlearn: 0.8946599\ttotal: 2m 27s\tremaining: 11.3s\n",
      "929:\tlearn: 0.8946523\ttotal: 2m 28s\tremaining: 11.2s\n",
      "930:\tlearn: 0.8946259\ttotal: 2m 28s\tremaining: 11s\n",
      "931:\tlearn: 0.8946219\ttotal: 2m 28s\tremaining: 10.8s\n",
      "932:\tlearn: 0.8946064\ttotal: 2m 28s\tremaining: 10.7s\n",
      "933:\tlearn: 0.8945951\ttotal: 2m 29s\tremaining: 10.5s\n",
      "934:\tlearn: 0.8945708\ttotal: 2m 29s\tremaining: 10.4s\n",
      "935:\tlearn: 0.8945607\ttotal: 2m 29s\tremaining: 10.2s\n",
      "936:\tlearn: 0.8945536\ttotal: 2m 29s\tremaining: 10.1s\n",
      "937:\tlearn: 0.8945462\ttotal: 2m 29s\tremaining: 9.9s\n",
      "938:\tlearn: 0.8945261\ttotal: 2m 29s\tremaining: 9.74s\n"
     ]
    },
    {
     "name": "stdout",
     "output_type": "stream",
     "text": [
      "939:\tlearn: 0.8945209\ttotal: 2m 30s\tremaining: 9.58s\n",
      "940:\tlearn: 0.8945147\ttotal: 2m 30s\tremaining: 9.42s\n",
      "941:\tlearn: 0.8945039\ttotal: 2m 30s\tremaining: 9.26s\n",
      "942:\tlearn: 0.8944953\ttotal: 2m 30s\tremaining: 9.1s\n",
      "943:\tlearn: 0.8944855\ttotal: 2m 30s\tremaining: 8.94s\n",
      "944:\tlearn: 0.8944666\ttotal: 2m 30s\tremaining: 8.78s\n",
      "945:\tlearn: 0.8944522\ttotal: 2m 30s\tremaining: 8.62s\n",
      "946:\tlearn: 0.8944485\ttotal: 2m 31s\tremaining: 8.46s\n",
      "947:\tlearn: 0.8944317\ttotal: 2m 31s\tremaining: 8.3s\n",
      "948:\tlearn: 0.8944106\ttotal: 2m 31s\tremaining: 8.14s\n",
      "949:\tlearn: 0.8944016\ttotal: 2m 31s\tremaining: 7.98s\n",
      "950:\tlearn: 0.8943924\ttotal: 2m 31s\tremaining: 7.82s\n",
      "951:\tlearn: 0.8943883\ttotal: 2m 31s\tremaining: 7.66s\n",
      "952:\tlearn: 0.8943829\ttotal: 2m 32s\tremaining: 7.5s\n",
      "953:\tlearn: 0.8943754\ttotal: 2m 32s\tremaining: 7.34s\n",
      "954:\tlearn: 0.8943645\ttotal: 2m 32s\tremaining: 7.19s\n",
      "955:\tlearn: 0.8943383\ttotal: 2m 32s\tremaining: 7.03s\n",
      "956:\tlearn: 0.8943305\ttotal: 2m 32s\tremaining: 6.87s\n",
      "957:\tlearn: 0.8943215\ttotal: 2m 33s\tremaining: 6.71s\n",
      "958:\tlearn: 0.8943002\ttotal: 2m 33s\tremaining: 6.55s\n",
      "959:\tlearn: 0.8942935\ttotal: 2m 33s\tremaining: 6.39s\n",
      "960:\tlearn: 0.8942649\ttotal: 2m 33s\tremaining: 6.23s\n",
      "961:\tlearn: 0.8942359\ttotal: 2m 33s\tremaining: 6.07s\n",
      "962:\tlearn: 0.8942123\ttotal: 2m 33s\tremaining: 5.91s\n",
      "963:\tlearn: 0.8942039\ttotal: 2m 33s\tremaining: 5.75s\n",
      "964:\tlearn: 0.8941874\ttotal: 2m 34s\tremaining: 5.59s\n",
      "965:\tlearn: 0.8941659\ttotal: 2m 34s\tremaining: 5.43s\n",
      "966:\tlearn: 0.8941583\ttotal: 2m 34s\tremaining: 5.27s\n",
      "967:\tlearn: 0.8941415\ttotal: 2m 34s\tremaining: 5.11s\n",
      "968:\tlearn: 0.8941325\ttotal: 2m 34s\tremaining: 4.95s\n",
      "969:\tlearn: 0.8941272\ttotal: 2m 34s\tremaining: 4.79s\n",
      "970:\tlearn: 0.8940972\ttotal: 2m 35s\tremaining: 4.63s\n",
      "971:\tlearn: 0.8940901\ttotal: 2m 35s\tremaining: 4.47s\n",
      "972:\tlearn: 0.8940816\ttotal: 2m 35s\tremaining: 4.31s\n",
      "973:\tlearn: 0.8940626\ttotal: 2m 35s\tremaining: 4.15s\n",
      "974:\tlearn: 0.8940501\ttotal: 2m 35s\tremaining: 3.99s\n",
      "975:\tlearn: 0.8940449\ttotal: 2m 35s\tremaining: 3.83s\n",
      "976:\tlearn: 0.8940372\ttotal: 2m 35s\tremaining: 3.67s\n",
      "977:\tlearn: 0.8940330\ttotal: 2m 36s\tremaining: 3.51s\n",
      "978:\tlearn: 0.8940221\ttotal: 2m 36s\tremaining: 3.35s\n",
      "979:\tlearn: 0.8940190\ttotal: 2m 36s\tremaining: 3.19s\n",
      "980:\tlearn: 0.8940109\ttotal: 2m 36s\tremaining: 3.03s\n",
      "981:\tlearn: 0.8940064\ttotal: 2m 36s\tremaining: 2.87s\n",
      "982:\tlearn: 0.8939965\ttotal: 2m 36s\tremaining: 2.71s\n",
      "983:\tlearn: 0.8939918\ttotal: 2m 37s\tremaining: 2.55s\n",
      "984:\tlearn: 0.8939859\ttotal: 2m 37s\tremaining: 2.4s\n",
      "985:\tlearn: 0.8939799\ttotal: 2m 37s\tremaining: 2.23s\n",
      "986:\tlearn: 0.8939767\ttotal: 2m 37s\tremaining: 2.08s\n",
      "987:\tlearn: 0.8939720\ttotal: 2m 37s\tremaining: 1.92s\n",
      "988:\tlearn: 0.8939600\ttotal: 2m 37s\tremaining: 1.76s\n",
      "989:\tlearn: 0.8939425\ttotal: 2m 38s\tremaining: 1.6s\n",
      "990:\tlearn: 0.8939362\ttotal: 2m 38s\tremaining: 1.44s\n",
      "991:\tlearn: 0.8939288\ttotal: 2m 38s\tremaining: 1.28s\n",
      "992:\tlearn: 0.8939225\ttotal: 2m 38s\tremaining: 1.12s\n",
      "993:\tlearn: 0.8939108\ttotal: 2m 38s\tremaining: 958ms\n",
      "994:\tlearn: 0.8939028\ttotal: 2m 38s\tremaining: 798ms\n",
      "995:\tlearn: 0.8938904\ttotal: 2m 39s\tremaining: 639ms\n",
      "996:\tlearn: 0.8938853\ttotal: 2m 39s\tremaining: 479ms\n",
      "997:\tlearn: 0.8938715\ttotal: 2m 39s\tremaining: 319ms\n",
      "998:\tlearn: 0.8938602\ttotal: 2m 39s\tremaining: 160ms\n",
      "999:\tlearn: 0.8938548\ttotal: 2m 39s\tremaining: 0us\n"
     ]
    },
    {
     "data": {
      "text/plain": [
       "<catboost.core.CatBoostClassifier at 0x1026eed90>"
      ]
     },
     "execution_count": 29,
     "metadata": {},
     "output_type": "execute_result"
    }
   ],
   "source": [
    "from catboost import CatBoostClassifier\n",
    "X_train, X_test, y_train, y_test = train_test_split(X, y, test_size=0.2, random_state=0)\n",
    "catB = CatBoostClassifier(iterations=1000)\n",
    "catB.fit(X_train, y_train)"
   ]
  },
  {
   "cell_type": "code",
   "execution_count": 30,
   "metadata": {},
   "outputs": [
    {
     "data": {
      "text/plain": [
       "0.543025"
      ]
     },
     "execution_count": 30,
     "metadata": {},
     "output_type": "execute_result"
    }
   ],
   "source": [
    "catB.score(X_test, y_test)"
   ]
  },
  {
   "cell_type": "markdown",
   "metadata": {},
   "source": [
    "Cat Boost Scores higher than Random Forest."
   ]
  },
  {
   "cell_type": "markdown",
   "metadata": {},
   "source": [
    "## Bike Demand Model"
   ]
  },
  {
   "cell_type": "markdown",
   "metadata": {},
   "source": [
    "Feature Engineering"
   ]
  },
  {
   "cell_type": "code",
   "execution_count": 33,
   "metadata": {},
   "outputs": [],
   "source": [
    "X=outgoingDF\n",
    "X['dayofweek']=pd.to_datetime(X.starttime_date).dt.dayofweek\n",
    "temp=X.starttime_interval.str.split(\":\",expand=True)\n",
    "temp.columns=['hour','min']\n",
    "temp['hour']=temp['hour'].astype('int32')\n",
    "temp['min']=temp['min'].astype('int32')\n",
    "X=pd.merge(X,temp,left_index=True, right_index=True)"
   ]
  },
  {
   "cell_type": "code",
   "execution_count": 34,
   "metadata": {},
   "outputs": [],
   "source": [
    "X=X.drop(columns=['starttime_date','starttime_interval','outgoing_bike_count','bike_demand'])\n",
    "y=outgoingDF['bike_demand']"
   ]
  },
  {
   "cell_type": "code",
   "execution_count": 35,
   "metadata": {},
   "outputs": [
    {
     "name": "stdout",
     "output_type": "stream",
     "text": [
      "CPU times: user 2.16 s, sys: 131 ms, total: 2.29 s\n",
      "Wall time: 2.3 s\n"
     ]
    }
   ],
   "source": [
    "%%time\n",
    "le = LabelEncoder()\n",
    "X['season'] = le.fit_transform(X['season'])"
   ]
  },
  {
   "cell_type": "code",
   "execution_count": 36,
   "metadata": {},
   "outputs": [
    {
     "name": "stdout",
     "output_type": "stream",
     "text": [
      "CPU times: user 6.79 s, sys: 1 s, total: 7.79 s\n",
      "Wall time: 7.94 s\n"
     ]
    }
   ],
   "source": [
    "%%time\n",
    "X_train, X_test, y_train, y_test = train_test_split(X, y, test_size=0.2, random_state=0)"
   ]
  },
  {
   "cell_type": "markdown",
   "metadata": {},
   "source": [
    "### CatBoost Model"
   ]
  },
  {
   "cell_type": "code",
   "execution_count": 37,
   "metadata": {},
   "outputs": [
    {
     "name": "stdout",
     "output_type": "stream",
     "text": [
      "Learning rate set to 0.129572\n",
      "0:\tlearn: 1.0765674\ttotal: 6.71s\tremaining: 1h 51m 45s\n",
      "1:\tlearn: 1.0593682\ttotal: 11.2s\tremaining: 1h 33m 12s\n",
      "2:\tlearn: 1.0453284\ttotal: 17.9s\tremaining: 1h 39m 17s\n",
      "3:\tlearn: 1.0335752\ttotal: 23.4s\tremaining: 1h 37m\n",
      "4:\tlearn: 1.0244037\ttotal: 33.2s\tremaining: 1h 49m 59s\n",
      "5:\tlearn: 1.0169897\ttotal: 39.9s\tremaining: 1h 50m 5s\n",
      "6:\tlearn: 1.0097525\ttotal: 50.2s\tremaining: 1h 58m 38s\n",
      "7:\tlearn: 1.0045123\ttotal: 54s\tremaining: 1h 51m 38s\n",
      "8:\tlearn: 0.9988703\ttotal: 59.4s\tremaining: 1h 49m 3s\n",
      "9:\tlearn: 0.9947215\ttotal: 1m 4s\tremaining: 1h 45m 39s\n",
      "10:\tlearn: 0.9913372\ttotal: 1m 8s\tremaining: 1h 42m 39s\n",
      "11:\tlearn: 0.9883130\ttotal: 1m 13s\tremaining: 1h 40m 20s\n",
      "12:\tlearn: 0.9855388\ttotal: 1m 17s\tremaining: 1h 37m 37s\n",
      "13:\tlearn: 0.9833575\ttotal: 1m 25s\tremaining: 1h 39m 52s\n",
      "14:\tlearn: 0.9808623\ttotal: 1m 28s\tremaining: 1h 37m 19s\n",
      "15:\tlearn: 0.9790236\ttotal: 1m 32s\tremaining: 1h 34m 21s\n",
      "16:\tlearn: 0.9774631\ttotal: 1m 35s\tremaining: 1h 32m 15s\n",
      "17:\tlearn: 0.9760407\ttotal: 1m 39s\tremaining: 1h 30m 27s\n",
      "18:\tlearn: 0.9733972\ttotal: 1m 43s\tremaining: 1h 28m 40s\n",
      "19:\tlearn: 0.9712808\ttotal: 1m 46s\tremaining: 1h 27m 9s\n",
      "20:\tlearn: 0.9702127\ttotal: 1m 51s\tremaining: 1h 26m 47s\n",
      "21:\tlearn: 0.9690819\ttotal: 2m 1s\tremaining: 1h 29m 40s\n",
      "22:\tlearn: 0.9676894\ttotal: 2m 10s\tremaining: 1h 32m 18s\n",
      "23:\tlearn: 0.9660992\ttotal: 2m 23s\tremaining: 1h 37m 6s\n",
      "24:\tlearn: 0.9646347\ttotal: 2m 33s\tremaining: 1h 39m 48s\n",
      "25:\tlearn: 0.9634302\ttotal: 2m 43s\tremaining: 1h 42m 11s\n",
      "26:\tlearn: 0.9625488\ttotal: 2m 48s\tremaining: 1h 40m 55s\n",
      "27:\tlearn: 0.9615770\ttotal: 2m 57s\tremaining: 1h 42m 25s\n",
      "28:\tlearn: 0.9603679\ttotal: 3m 1s\tremaining: 1h 41m 16s\n",
      "29:\tlearn: 0.9594961\ttotal: 3m 7s\tremaining: 1h 41m 10s\n",
      "30:\tlearn: 0.9587373\ttotal: 3m 11s\tremaining: 1h 39m 51s\n",
      "31:\tlearn: 0.9579401\ttotal: 3m 16s\tremaining: 1h 39m 6s\n",
      "32:\tlearn: 0.9570430\ttotal: 3m 20s\tremaining: 1h 38m 7s\n",
      "33:\tlearn: 0.9562981\ttotal: 3m 26s\tremaining: 1h 37m 47s\n",
      "34:\tlearn: 0.9555009\ttotal: 3m 33s\tremaining: 1h 38m 1s\n",
      "35:\tlearn: 0.9547748\ttotal: 3m 36s\tremaining: 1h 36m 47s\n",
      "36:\tlearn: 0.9542791\ttotal: 3m 41s\tremaining: 1h 35m 54s\n",
      "37:\tlearn: 0.9533858\ttotal: 3m 49s\tremaining: 1h 36m 39s\n",
      "38:\tlearn: 0.9525588\ttotal: 3m 55s\tremaining: 1h 36m 50s\n",
      "39:\tlearn: 0.9520227\ttotal: 4m\tremaining: 1h 36m 18s\n",
      "40:\tlearn: 0.9516353\ttotal: 4m 4s\tremaining: 1h 35m 26s\n",
      "41:\tlearn: 0.9511743\ttotal: 4m 7s\tremaining: 1h 34m 13s\n",
      "42:\tlearn: 0.9507659\ttotal: 4m 10s\tremaining: 1h 33m 4s\n",
      "43:\tlearn: 0.9500937\ttotal: 4m 14s\tremaining: 1h 32m 3s\n",
      "44:\tlearn: 0.9493784\ttotal: 4m 21s\tremaining: 1h 32m 31s\n",
      "45:\tlearn: 0.9489613\ttotal: 4m 24s\tremaining: 1h 31m 29s\n",
      "46:\tlearn: 0.9485305\ttotal: 4m 27s\tremaining: 1h 30m 28s\n",
      "47:\tlearn: 0.9479506\ttotal: 4m 34s\tremaining: 1h 30m 40s\n",
      "48:\tlearn: 0.9475855\ttotal: 4m 39s\tremaining: 1h 30m 22s\n",
      "49:\tlearn: 0.9470828\ttotal: 4m 43s\tremaining: 1h 29m 45s\n",
      "50:\tlearn: 0.9466341\ttotal: 4m 46s\tremaining: 1h 28m 54s\n",
      "51:\tlearn: 0.9462499\ttotal: 4m 50s\tremaining: 1h 28m 15s\n",
      "52:\tlearn: 0.9459093\ttotal: 4m 57s\tremaining: 1h 28m 35s\n",
      "53:\tlearn: 0.9452350\ttotal: 5m 2s\tremaining: 1h 28m 20s\n",
      "54:\tlearn: 0.9448526\ttotal: 5m 11s\tremaining: 1h 29m 19s\n",
      "55:\tlearn: 0.9444235\ttotal: 5m 21s\tremaining: 1h 30m 24s\n",
      "56:\tlearn: 0.9440429\ttotal: 5m 33s\tremaining: 1h 32m 4s\n",
      "57:\tlearn: 0.9433063\ttotal: 5m 49s\tremaining: 1h 34m 29s\n",
      "58:\tlearn: 0.9428579\ttotal: 6m\tremaining: 1h 35m 52s\n",
      "59:\tlearn: 0.9425127\ttotal: 6m 5s\tremaining: 1h 35m 24s\n",
      "60:\tlearn: 0.9422882\ttotal: 6m 13s\tremaining: 1h 35m 51s\n",
      "61:\tlearn: 0.9419840\ttotal: 6m 21s\tremaining: 1h 36m 16s\n",
      "62:\tlearn: 0.9415946\ttotal: 6m 26s\tremaining: 1h 35m 48s\n",
      "63:\tlearn: 0.9411326\ttotal: 6m 29s\tremaining: 1h 34m 55s\n",
      "64:\tlearn: 0.9408468\ttotal: 6m 32s\tremaining: 1h 34m 2s\n",
      "65:\tlearn: 0.9406185\ttotal: 6m 35s\tremaining: 1h 33m 21s\n",
      "66:\tlearn: 0.9403647\ttotal: 6m 40s\tremaining: 1h 32m 56s\n",
      "67:\tlearn: 0.9401850\ttotal: 6m 43s\tremaining: 1h 32m 12s\n",
      "68:\tlearn: 0.9394948\ttotal: 6m 47s\tremaining: 1h 31m 31s\n",
      "69:\tlearn: 0.9392972\ttotal: 6m 55s\tremaining: 1h 31m 54s\n",
      "70:\tlearn: 0.9390212\ttotal: 7m 3s\tremaining: 1h 32m 15s\n",
      "71:\tlearn: 0.9387631\ttotal: 7m 8s\tremaining: 1h 31m 56s\n",
      "72:\tlearn: 0.9384284\ttotal: 7m 12s\tremaining: 1h 31m 34s\n",
      "73:\tlearn: 0.9382699\ttotal: 7m 15s\tremaining: 1h 30m 51s\n",
      "74:\tlearn: 0.9381169\ttotal: 7m 18s\tremaining: 1h 30m 10s\n",
      "75:\tlearn: 0.9378431\ttotal: 7m 21s\tremaining: 1h 29m 32s\n",
      "76:\tlearn: 0.9376640\ttotal: 7m 24s\tremaining: 1h 28m 52s\n",
      "77:\tlearn: 0.9371752\ttotal: 7m 27s\tremaining: 1h 28m 13s\n",
      "78:\tlearn: 0.9370405\ttotal: 7m 30s\tremaining: 1h 27m 34s\n",
      "79:\tlearn: 0.9366355\ttotal: 7m 33s\tremaining: 1h 27m\n",
      "80:\tlearn: 0.9364503\ttotal: 7m 38s\tremaining: 1h 26m 40s\n",
      "81:\tlearn: 0.9362747\ttotal: 7m 44s\tremaining: 1h 26m 39s\n",
      "82:\tlearn: 0.9359064\ttotal: 7m 48s\tremaining: 1h 26m 15s\n",
      "83:\tlearn: 0.9357447\ttotal: 7m 52s\tremaining: 1h 25m 53s\n",
      "84:\tlearn: 0.9355588\ttotal: 7m 55s\tremaining: 1h 25m 19s\n",
      "85:\tlearn: 0.9353766\ttotal: 7m 58s\tremaining: 1h 24m 47s\n",
      "86:\tlearn: 0.9352039\ttotal: 8m 1s\tremaining: 1h 24m 12s\n",
      "87:\tlearn: 0.9349139\ttotal: 8m 4s\tremaining: 1h 23m 42s\n",
      "88:\tlearn: 0.9345426\ttotal: 8m 7s\tremaining: 1h 23m 12s\n",
      "89:\tlearn: 0.9342795\ttotal: 8m 12s\tremaining: 1h 22m 55s\n",
      "90:\tlearn: 0.9341005\ttotal: 8m 18s\tremaining: 1h 23m 2s\n",
      "91:\tlearn: 0.9339275\ttotal: 8m 22s\tremaining: 1h 22m 41s\n",
      "92:\tlearn: 0.9334292\ttotal: 8m 25s\tremaining: 1h 22m 13s\n",
      "93:\tlearn: 0.9330489\ttotal: 8m 28s\tremaining: 1h 21m 45s\n",
      "94:\tlearn: 0.9327781\ttotal: 8m 32s\tremaining: 1h 21m 18s\n",
      "95:\tlearn: 0.9325913\ttotal: 8m 34s\tremaining: 1h 20m 48s\n",
      "96:\tlearn: 0.9324391\ttotal: 8m 38s\tremaining: 1h 20m 22s\n",
      "97:\tlearn: 0.9322135\ttotal: 8m 42s\tremaining: 1h 20m 4s\n",
      "98:\tlearn: 0.9321242\ttotal: 8m 45s\tremaining: 1h 19m 39s\n",
      "99:\tlearn: 0.9318799\ttotal: 8m 48s\tremaining: 1h 19m 16s\n",
      "100:\tlearn: 0.9317877\ttotal: 8m 51s\tremaining: 1h 18m 53s\n",
      "101:\tlearn: 0.9315323\ttotal: 8m 54s\tremaining: 1h 18m 28s\n",
      "102:\tlearn: 0.9313459\ttotal: 8m 57s\tremaining: 1h 18m 4s\n",
      "103:\tlearn: 0.9311043\ttotal: 9m\tremaining: 1h 17m 39s\n",
      "104:\tlearn: 0.9308797\ttotal: 9m 3s\tremaining: 1h 17m 15s\n",
      "105:\tlearn: 0.9306646\ttotal: 9m 7s\tremaining: 1h 16m 55s\n",
      "106:\tlearn: 0.9305436\ttotal: 9m 10s\tremaining: 1h 16m 31s\n",
      "107:\tlearn: 0.9304573\ttotal: 9m 13s\tremaining: 1h 16m 8s\n",
      "108:\tlearn: 0.9303055\ttotal: 9m 16s\tremaining: 1h 15m 46s\n",
      "109:\tlearn: 0.9301529\ttotal: 9m 19s\tremaining: 1h 15m 25s\n",
      "110:\tlearn: 0.9300090\ttotal: 9m 22s\tremaining: 1h 15m 3s\n",
      "111:\tlearn: 0.9298811\ttotal: 9m 25s\tremaining: 1h 14m 40s\n",
      "112:\tlearn: 0.9298126\ttotal: 9m 27s\tremaining: 1h 14m 17s\n",
      "113:\tlearn: 0.9294763\ttotal: 9m 30s\tremaining: 1h 13m 57s\n",
      "114:\tlearn: 0.9292680\ttotal: 9m 34s\tremaining: 1h 13m 37s\n",
      "115:\tlearn: 0.9290184\ttotal: 9m 37s\tremaining: 1h 13m 19s\n",
      "116:\tlearn: 0.9289525\ttotal: 9m 40s\tremaining: 1h 12m 57s\n",
      "117:\tlearn: 0.9286809\ttotal: 9m 43s\tremaining: 1h 12m 37s\n",
      "118:\tlearn: 0.9285028\ttotal: 9m 46s\tremaining: 1h 12m 18s\n",
      "119:\tlearn: 0.9283637\ttotal: 9m 48s\tremaining: 1h 11m 58s\n",
      "120:\tlearn: 0.9282681\ttotal: 9m 53s\tremaining: 1h 11m 49s\n",
      "121:\tlearn: 0.9280341\ttotal: 9m 57s\tremaining: 1h 11m 36s\n",
      "122:\tlearn: 0.9278215\ttotal: 10m\tremaining: 1h 11m 20s\n",
      "123:\tlearn: 0.9275036\ttotal: 10m 3s\tremaining: 1h 11m 3s\n",
      "124:\tlearn: 0.9272368\ttotal: 10m 6s\tremaining: 1h 10m 45s\n",
      "125:\tlearn: 0.9271006\ttotal: 10m 10s\tremaining: 1h 10m 31s\n",
      "126:\tlearn: 0.9270269\ttotal: 10m 15s\tremaining: 1h 10m 33s\n",
      "127:\tlearn: 0.9268476\ttotal: 10m 23s\tremaining: 1h 10m 46s\n",
      "128:\tlearn: 0.9266386\ttotal: 10m 27s\tremaining: 1h 10m 33s\n",
      "129:\tlearn: 0.9265524\ttotal: 10m 29s\tremaining: 1h 10m 15s\n",
      "130:\tlearn: 0.9264283\ttotal: 10m 33s\tremaining: 1h 9m 59s\n",
      "131:\tlearn: 0.9263008\ttotal: 10m 35s\tremaining: 1h 9m 41s\n",
      "132:\tlearn: 0.9261376\ttotal: 10m 38s\tremaining: 1h 9m 25s\n",
      "133:\tlearn: 0.9259937\ttotal: 10m 41s\tremaining: 1h 9m 8s\n",
      "134:\tlearn: 0.9258119\ttotal: 10m 44s\tremaining: 1h 8m 52s\n",
      "135:\tlearn: 0.9255960\ttotal: 10m 47s\tremaining: 1h 8m 35s\n",
      "136:\tlearn: 0.9255411\ttotal: 10m 50s\tremaining: 1h 8m 18s\n",
      "137:\tlearn: 0.9254562\ttotal: 10m 53s\tremaining: 1h 8m 1s\n",
      "138:\tlearn: 0.9253189\ttotal: 10m 56s\tremaining: 1h 7m 46s\n",
      "139:\tlearn: 0.9250734\ttotal: 10m 59s\tremaining: 1h 7m 31s\n",
      "140:\tlearn: 0.9249785\ttotal: 11m 2s\tremaining: 1h 7m 16s\n",
      "141:\tlearn: 0.9248891\ttotal: 11m 5s\tremaining: 1h 7m 2s\n",
      "142:\tlearn: 0.9246245\ttotal: 11m 8s\tremaining: 1h 6m 48s\n",
      "143:\tlearn: 0.9245163\ttotal: 11m 11s\tremaining: 1h 6m 32s\n"
     ]
    },
    {
     "name": "stdout",
     "output_type": "stream",
     "text": [
      "144:\tlearn: 0.9243579\ttotal: 11m 16s\tremaining: 1h 6m 27s\n",
      "145:\tlearn: 0.9241461\ttotal: 11m 20s\tremaining: 1h 6m 17s\n",
      "146:\tlearn: 0.9237572\ttotal: 11m 23s\tremaining: 1h 6m 4s\n",
      "147:\tlearn: 0.9236846\ttotal: 11m 27s\tremaining: 1h 5m 54s\n",
      "148:\tlearn: 0.9235555\ttotal: 11m 30s\tremaining: 1h 5m 41s\n",
      "149:\tlearn: 0.9235014\ttotal: 11m 32s\tremaining: 1h 5m 26s\n",
      "150:\tlearn: 0.9234604\ttotal: 11m 35s\tremaining: 1h 5m 13s\n",
      "151:\tlearn: 0.9232712\ttotal: 11m 38s\tremaining: 1h 4m 59s\n",
      "152:\tlearn: 0.9231927\ttotal: 11m 41s\tremaining: 1h 4m 44s\n",
      "153:\tlearn: 0.9229647\ttotal: 11m 44s\tremaining: 1h 4m 31s\n",
      "154:\tlearn: 0.9228586\ttotal: 11m 47s\tremaining: 1h 4m 19s\n",
      "155:\tlearn: 0.9227103\ttotal: 11m 50s\tremaining: 1h 4m 6s\n",
      "156:\tlearn: 0.9225375\ttotal: 11m 53s\tremaining: 1h 3m 52s\n",
      "157:\tlearn: 0.9223410\ttotal: 11m 56s\tremaining: 1h 3m 39s\n",
      "158:\tlearn: 0.9222564\ttotal: 11m 59s\tremaining: 1h 3m 27s\n",
      "159:\tlearn: 0.9220609\ttotal: 12m 3s\tremaining: 1h 3m 15s\n",
      "160:\tlearn: 0.9219531\ttotal: 12m 5s\tremaining: 1h 3m 3s\n",
      "161:\tlearn: 0.9219080\ttotal: 12m 8s\tremaining: 1h 2m 49s\n",
      "162:\tlearn: 0.9218461\ttotal: 12m 11s\tremaining: 1h 2m 36s\n",
      "163:\tlearn: 0.9217299\ttotal: 12m 14s\tremaining: 1h 2m 24s\n",
      "164:\tlearn: 0.9216274\ttotal: 12m 18s\tremaining: 1h 2m 14s\n",
      "165:\tlearn: 0.9215048\ttotal: 12m 20s\tremaining: 1h 2m 2s\n",
      "166:\tlearn: 0.9214212\ttotal: 12m 23s\tremaining: 1h 1m 50s\n",
      "167:\tlearn: 0.9213150\ttotal: 12m 26s\tremaining: 1h 1m 39s\n",
      "168:\tlearn: 0.9212220\ttotal: 12m 29s\tremaining: 1h 1m 26s\n",
      "169:\tlearn: 0.9211002\ttotal: 12m 32s\tremaining: 1h 1m 15s\n",
      "170:\tlearn: 0.9210469\ttotal: 12m 35s\tremaining: 1h 1m 4s\n",
      "171:\tlearn: 0.9210102\ttotal: 12m 38s\tremaining: 1h 52s\n",
      "172:\tlearn: 0.9208753\ttotal: 12m 41s\tremaining: 1h 40s\n",
      "173:\tlearn: 0.9207489\ttotal: 12m 44s\tremaining: 1h 29s\n",
      "174:\tlearn: 0.9206207\ttotal: 12m 47s\tremaining: 1h 18s\n",
      "175:\tlearn: 0.9205724\ttotal: 12m 50s\tremaining: 1h 7s\n",
      "176:\tlearn: 0.9203657\ttotal: 12m 53s\tremaining: 59m 57s\n",
      "177:\tlearn: 0.9202808\ttotal: 12m 56s\tremaining: 59m 46s\n",
      "178:\tlearn: 0.9201467\ttotal: 12m 59s\tremaining: 59m 36s\n",
      "179:\tlearn: 0.9200642\ttotal: 13m 2s\tremaining: 59m 25s\n",
      "180:\tlearn: 0.9199373\ttotal: 13m 5s\tremaining: 59m 15s\n",
      "181:\tlearn: 0.9199058\ttotal: 13m 8s\tremaining: 59m 4s\n",
      "182:\tlearn: 0.9197732\ttotal: 13m 11s\tremaining: 58m 53s\n",
      "183:\tlearn: 0.9197170\ttotal: 13m 14s\tremaining: 58m 43s\n",
      "184:\tlearn: 0.9195936\ttotal: 13m 17s\tremaining: 58m 34s\n",
      "185:\tlearn: 0.9193327\ttotal: 13m 20s\tremaining: 58m 24s\n",
      "186:\tlearn: 0.9192493\ttotal: 13m 23s\tremaining: 58m 13s\n",
      "187:\tlearn: 0.9192177\ttotal: 13m 26s\tremaining: 58m 3s\n",
      "188:\tlearn: 0.9191388\ttotal: 13m 29s\tremaining: 57m 52s\n",
      "189:\tlearn: 0.9189881\ttotal: 13m 32s\tremaining: 57m 43s\n",
      "190:\tlearn: 0.9189219\ttotal: 13m 35s\tremaining: 57m 33s\n",
      "191:\tlearn: 0.9188752\ttotal: 13m 38s\tremaining: 57m 23s\n",
      "192:\tlearn: 0.9188419\ttotal: 13m 41s\tremaining: 57m 13s\n",
      "193:\tlearn: 0.9187132\ttotal: 13m 44s\tremaining: 57m 3s\n",
      "194:\tlearn: 0.9185678\ttotal: 13m 47s\tremaining: 56m 54s\n",
      "195:\tlearn: 0.9185401\ttotal: 13m 50s\tremaining: 56m 46s\n",
      "196:\tlearn: 0.9184316\ttotal: 13m 53s\tremaining: 56m 37s\n",
      "197:\tlearn: 0.9183371\ttotal: 13m 56s\tremaining: 56m 28s\n",
      "198:\tlearn: 0.9182583\ttotal: 13m 59s\tremaining: 56m 19s\n",
      "199:\tlearn: 0.9182119\ttotal: 14m 2s\tremaining: 56m 9s\n",
      "200:\tlearn: 0.9181044\ttotal: 14m 5s\tremaining: 55m 59s\n",
      "201:\tlearn: 0.9179781\ttotal: 14m 8s\tremaining: 55m 52s\n",
      "202:\tlearn: 0.9178954\ttotal: 14m 11s\tremaining: 55m 42s\n",
      "203:\tlearn: 0.9178343\ttotal: 14m 14s\tremaining: 55m 34s\n",
      "204:\tlearn: 0.9178021\ttotal: 14m 17s\tremaining: 55m 26s\n",
      "205:\tlearn: 0.9177319\ttotal: 14m 20s\tremaining: 55m 16s\n",
      "206:\tlearn: 0.9176093\ttotal: 14m 23s\tremaining: 55m 8s\n",
      "207:\tlearn: 0.9175243\ttotal: 14m 26s\tremaining: 54m 59s\n",
      "208:\tlearn: 0.9174983\ttotal: 14m 29s\tremaining: 54m 50s\n",
      "209:\tlearn: 0.9173567\ttotal: 14m 32s\tremaining: 54m 42s\n",
      "210:\tlearn: 0.9173241\ttotal: 14m 35s\tremaining: 54m 33s\n",
      "211:\tlearn: 0.9172880\ttotal: 14m 38s\tremaining: 54m 25s\n",
      "212:\tlearn: 0.9172623\ttotal: 14m 41s\tremaining: 54m 16s\n",
      "213:\tlearn: 0.9171564\ttotal: 14m 44s\tremaining: 54m 9s\n",
      "214:\tlearn: 0.9169885\ttotal: 14m 48s\tremaining: 54m 2s\n",
      "215:\tlearn: 0.9169009\ttotal: 14m 51s\tremaining: 53m 55s\n",
      "216:\tlearn: 0.9168197\ttotal: 14m 54s\tremaining: 53m 47s\n",
      "217:\tlearn: 0.9167273\ttotal: 14m 57s\tremaining: 53m 39s\n",
      "218:\tlearn: 0.9166420\ttotal: 15m\tremaining: 53m 32s\n",
      "219:\tlearn: 0.9165063\ttotal: 15m 3s\tremaining: 53m 24s\n",
      "220:\tlearn: 0.9163964\ttotal: 15m 7s\tremaining: 53m 17s\n",
      "221:\tlearn: 0.9163277\ttotal: 15m 10s\tremaining: 53m 9s\n",
      "222:\tlearn: 0.9162932\ttotal: 15m 13s\tremaining: 53m 4s\n",
      "223:\tlearn: 0.9160947\ttotal: 15m 18s\tremaining: 53m\n",
      "224:\tlearn: 0.9160261\ttotal: 15m 22s\tremaining: 52m 57s\n",
      "225:\tlearn: 0.9159196\ttotal: 15m 25s\tremaining: 52m 50s\n",
      "226:\tlearn: 0.9158439\ttotal: 15m 28s\tremaining: 52m 42s\n",
      "227:\tlearn: 0.9158214\ttotal: 15m 31s\tremaining: 52m 34s\n",
      "228:\tlearn: 0.9157921\ttotal: 15m 34s\tremaining: 52m 25s\n",
      "229:\tlearn: 0.9156966\ttotal: 15m 37s\tremaining: 52m 18s\n",
      "230:\tlearn: 0.9156077\ttotal: 15m 40s\tremaining: 52m 11s\n",
      "231:\tlearn: 0.9155857\ttotal: 15m 43s\tremaining: 52m 3s\n",
      "232:\tlearn: 0.9154859\ttotal: 15m 46s\tremaining: 51m 56s\n",
      "233:\tlearn: 0.9153441\ttotal: 15m 51s\tremaining: 51m 53s\n",
      "234:\tlearn: 0.9152530\ttotal: 15m 55s\tremaining: 51m 48s\n",
      "235:\tlearn: 0.9151793\ttotal: 15m 58s\tremaining: 51m 44s\n",
      "236:\tlearn: 0.9151519\ttotal: 16m 2s\tremaining: 51m 37s\n",
      "237:\tlearn: 0.9149387\ttotal: 16m 5s\tremaining: 51m 30s\n",
      "238:\tlearn: 0.9148669\ttotal: 16m 8s\tremaining: 51m 22s\n",
      "239:\tlearn: 0.9147894\ttotal: 16m 10s\tremaining: 51m 14s\n",
      "240:\tlearn: 0.9146358\ttotal: 16m 13s\tremaining: 51m 7s\n",
      "241:\tlearn: 0.9145784\ttotal: 16m 16s\tremaining: 50m 59s\n",
      "242:\tlearn: 0.9145530\ttotal: 16m 19s\tremaining: 50m 52s\n",
      "243:\tlearn: 0.9144699\ttotal: 16m 22s\tremaining: 50m 45s\n",
      "244:\tlearn: 0.9144278\ttotal: 16m 25s\tremaining: 50m 37s\n",
      "245:\tlearn: 0.9143553\ttotal: 16m 28s\tremaining: 50m 30s\n",
      "246:\tlearn: 0.9142772\ttotal: 16m 31s\tremaining: 50m 23s\n",
      "247:\tlearn: 0.9141401\ttotal: 16m 35s\tremaining: 50m 17s\n",
      "248:\tlearn: 0.9140493\ttotal: 16m 37s\tremaining: 50m 9s\n",
      "249:\tlearn: 0.9139838\ttotal: 16m 40s\tremaining: 50m 2s\n",
      "250:\tlearn: 0.9139541\ttotal: 16m 44s\tremaining: 49m 56s\n",
      "251:\tlearn: 0.9137939\ttotal: 16m 47s\tremaining: 49m 50s\n",
      "252:\tlearn: 0.9136966\ttotal: 16m 50s\tremaining: 49m 43s\n",
      "253:\tlearn: 0.9136356\ttotal: 16m 53s\tremaining: 49m 36s\n",
      "254:\tlearn: 0.9135597\ttotal: 16m 56s\tremaining: 49m 29s\n",
      "255:\tlearn: 0.9134489\ttotal: 16m 59s\tremaining: 49m 22s\n",
      "256:\tlearn: 0.9133291\ttotal: 17m 2s\tremaining: 49m 16s\n",
      "257:\tlearn: 0.9131957\ttotal: 17m 5s\tremaining: 49m 9s\n",
      "258:\tlearn: 0.9131788\ttotal: 17m 8s\tremaining: 49m 2s\n",
      "259:\tlearn: 0.9131294\ttotal: 17m 11s\tremaining: 48m 55s\n",
      "260:\tlearn: 0.9130561\ttotal: 17m 14s\tremaining: 48m 49s\n",
      "261:\tlearn: 0.9129853\ttotal: 17m 17s\tremaining: 48m 42s\n",
      "262:\tlearn: 0.9129374\ttotal: 17m 20s\tremaining: 48m 36s\n",
      "263:\tlearn: 0.9129039\ttotal: 17m 23s\tremaining: 48m 29s\n",
      "264:\tlearn: 0.9128525\ttotal: 17m 26s\tremaining: 48m 22s\n",
      "265:\tlearn: 0.9127964\ttotal: 17m 29s\tremaining: 48m 15s\n",
      "266:\tlearn: 0.9127692\ttotal: 17m 32s\tremaining: 48m 9s\n",
      "267:\tlearn: 0.9127076\ttotal: 17m 35s\tremaining: 48m 2s\n",
      "268:\tlearn: 0.9126309\ttotal: 17m 38s\tremaining: 47m 56s\n",
      "269:\tlearn: 0.9125914\ttotal: 17m 41s\tremaining: 47m 49s\n",
      "270:\tlearn: 0.9125277\ttotal: 17m 44s\tremaining: 47m 42s\n",
      "271:\tlearn: 0.9125062\ttotal: 17m 47s\tremaining: 47m 36s\n",
      "272:\tlearn: 0.9124649\ttotal: 17m 50s\tremaining: 47m 29s\n",
      "273:\tlearn: 0.9123556\ttotal: 17m 53s\tremaining: 47m 23s\n",
      "274:\tlearn: 0.9123066\ttotal: 17m 56s\tremaining: 47m 17s\n",
      "275:\tlearn: 0.9122756\ttotal: 17m 59s\tremaining: 47m 10s\n",
      "276:\tlearn: 0.9121331\ttotal: 18m 2s\tremaining: 47m 4s\n",
      "277:\tlearn: 0.9120503\ttotal: 18m 5s\tremaining: 46m 58s\n",
      "278:\tlearn: 0.9120285\ttotal: 18m 8s\tremaining: 46m 52s\n",
      "279:\tlearn: 0.9119683\ttotal: 18m 11s\tremaining: 46m 46s\n",
      "280:\tlearn: 0.9118248\ttotal: 18m 14s\tremaining: 46m 40s\n",
      "281:\tlearn: 0.9117861\ttotal: 18m 17s\tremaining: 46m 34s\n",
      "282:\tlearn: 0.9117021\ttotal: 18m 20s\tremaining: 46m 28s\n",
      "283:\tlearn: 0.9115797\ttotal: 18m 23s\tremaining: 46m 22s\n",
      "284:\tlearn: 0.9114968\ttotal: 18m 26s\tremaining: 46m 16s\n",
      "285:\tlearn: 0.9114083\ttotal: 18m 29s\tremaining: 46m 10s\n",
      "286:\tlearn: 0.9112961\ttotal: 18m 32s\tremaining: 46m 4s\n",
      "287:\tlearn: 0.9112648\ttotal: 18m 35s\tremaining: 45m 58s\n",
      "288:\tlearn: 0.9110872\ttotal: 18m 38s\tremaining: 45m 52s\n",
      "289:\tlearn: 0.9110660\ttotal: 18m 41s\tremaining: 45m 45s\n",
      "290:\tlearn: 0.9110091\ttotal: 18m 44s\tremaining: 45m 39s\n"
     ]
    },
    {
     "name": "stdout",
     "output_type": "stream",
     "text": [
      "291:\tlearn: 0.9109534\ttotal: 18m 47s\tremaining: 45m 33s\n",
      "292:\tlearn: 0.9108899\ttotal: 18m 50s\tremaining: 45m 27s\n",
      "293:\tlearn: 0.9108362\ttotal: 18m 53s\tremaining: 45m 21s\n",
      "294:\tlearn: 0.9107398\ttotal: 18m 56s\tremaining: 45m 15s\n",
      "295:\tlearn: 0.9106580\ttotal: 18m 59s\tremaining: 45m 9s\n",
      "296:\tlearn: 0.9106245\ttotal: 19m 2s\tremaining: 45m 4s\n",
      "297:\tlearn: 0.9104886\ttotal: 19m 5s\tremaining: 44m 58s\n",
      "298:\tlearn: 0.9104017\ttotal: 19m 8s\tremaining: 44m 53s\n",
      "299:\tlearn: 0.9103670\ttotal: 19m 11s\tremaining: 44m 47s\n",
      "300:\tlearn: 0.9103469\ttotal: 19m 14s\tremaining: 44m 41s\n",
      "301:\tlearn: 0.9102931\ttotal: 19m 17s\tremaining: 44m 35s\n",
      "302:\tlearn: 0.9102066\ttotal: 19m 20s\tremaining: 44m 29s\n",
      "303:\tlearn: 0.9101464\ttotal: 19m 23s\tremaining: 44m 24s\n",
      "304:\tlearn: 0.9100375\ttotal: 19m 27s\tremaining: 44m 19s\n",
      "305:\tlearn: 0.9099735\ttotal: 19m 30s\tremaining: 44m 14s\n",
      "306:\tlearn: 0.9099154\ttotal: 19m 33s\tremaining: 44m 8s\n",
      "307:\tlearn: 0.9098352\ttotal: 19m 36s\tremaining: 44m 2s\n",
      "308:\tlearn: 0.9097618\ttotal: 19m 39s\tremaining: 43m 56s\n",
      "309:\tlearn: 0.9096860\ttotal: 19m 42s\tremaining: 43m 51s\n",
      "310:\tlearn: 0.9096423\ttotal: 19m 44s\tremaining: 43m 45s\n",
      "311:\tlearn: 0.9095046\ttotal: 19m 47s\tremaining: 43m 39s\n",
      "312:\tlearn: 0.9094360\ttotal: 19m 51s\tremaining: 43m 34s\n",
      "313:\tlearn: 0.9093880\ttotal: 19m 54s\tremaining: 43m 30s\n",
      "314:\tlearn: 0.9093694\ttotal: 19m 57s\tremaining: 43m 24s\n",
      "315:\tlearn: 0.9093413\ttotal: 20m\tremaining: 43m 19s\n",
      "316:\tlearn: 0.9092660\ttotal: 20m 4s\tremaining: 43m 14s\n",
      "317:\tlearn: 0.9092280\ttotal: 20m 7s\tremaining: 43m 8s\n",
      "318:\tlearn: 0.9091628\ttotal: 20m 10s\tremaining: 43m 3s\n",
      "319:\tlearn: 0.9091015\ttotal: 20m 15s\tremaining: 43m 3s\n",
      "320:\tlearn: 0.9090512\ttotal: 20m 20s\tremaining: 43m 2s\n",
      "321:\tlearn: 0.9090378\ttotal: 20m 24s\tremaining: 42m 57s\n",
      "322:\tlearn: 0.9090063\ttotal: 20m 28s\tremaining: 42m 53s\n",
      "323:\tlearn: 0.9089602\ttotal: 20m 31s\tremaining: 42m 49s\n",
      "324:\tlearn: 0.9088974\ttotal: 20m 34s\tremaining: 42m 44s\n",
      "325:\tlearn: 0.9088473\ttotal: 20m 38s\tremaining: 42m 40s\n",
      "326:\tlearn: 0.9087911\ttotal: 20m 41s\tremaining: 42m 35s\n",
      "327:\tlearn: 0.9087070\ttotal: 20m 44s\tremaining: 42m 30s\n",
      "328:\tlearn: 0.9086653\ttotal: 20m 47s\tremaining: 42m 25s\n",
      "329:\tlearn: 0.9086192\ttotal: 20m 50s\tremaining: 42m 19s\n",
      "330:\tlearn: 0.9086073\ttotal: 20m 53s\tremaining: 42m 14s\n",
      "331:\tlearn: 0.9085943\ttotal: 20m 56s\tremaining: 42m 8s\n",
      "332:\tlearn: 0.9085522\ttotal: 20m 59s\tremaining: 42m 3s\n",
      "333:\tlearn: 0.9085400\ttotal: 21m 2s\tremaining: 41m 57s\n",
      "334:\tlearn: 0.9084920\ttotal: 21m 5s\tremaining: 41m 52s\n",
      "335:\tlearn: 0.9084752\ttotal: 21m 8s\tremaining: 41m 46s\n",
      "336:\tlearn: 0.9084605\ttotal: 21m 11s\tremaining: 41m 41s\n",
      "337:\tlearn: 0.9084178\ttotal: 21m 14s\tremaining: 41m 35s\n",
      "338:\tlearn: 0.9083588\ttotal: 21m 17s\tremaining: 41m 30s\n",
      "339:\tlearn: 0.9083077\ttotal: 21m 20s\tremaining: 41m 24s\n",
      "340:\tlearn: 0.9082679\ttotal: 21m 22s\tremaining: 41m 19s\n",
      "341:\tlearn: 0.9082399\ttotal: 21m 25s\tremaining: 41m 13s\n",
      "342:\tlearn: 0.9082280\ttotal: 21m 28s\tremaining: 41m 8s\n",
      "343:\tlearn: 0.9082076\ttotal: 21m 31s\tremaining: 41m 2s\n",
      "344:\tlearn: 0.9081216\ttotal: 21m 34s\tremaining: 40m 57s\n",
      "345:\tlearn: 0.9081054\ttotal: 21m 37s\tremaining: 40m 52s\n",
      "346:\tlearn: 0.9080296\ttotal: 21m 40s\tremaining: 40m 47s\n",
      "347:\tlearn: 0.9079920\ttotal: 21m 43s\tremaining: 40m 42s\n",
      "348:\tlearn: 0.9079089\ttotal: 21m 46s\tremaining: 40m 36s\n",
      "349:\tlearn: 0.9078306\ttotal: 21m 49s\tremaining: 40m 31s\n",
      "350:\tlearn: 0.9077862\ttotal: 21m 52s\tremaining: 40m 26s\n",
      "351:\tlearn: 0.9077528\ttotal: 21m 55s\tremaining: 40m 21s\n",
      "352:\tlearn: 0.9077040\ttotal: 21m 58s\tremaining: 40m 16s\n",
      "353:\tlearn: 0.9076540\ttotal: 22m 1s\tremaining: 40m 10s\n",
      "354:\tlearn: 0.9076013\ttotal: 22m 4s\tremaining: 40m 5s\n",
      "355:\tlearn: 0.9075007\ttotal: 22m 7s\tremaining: 40m\n",
      "356:\tlearn: 0.9074711\ttotal: 22m 9s\tremaining: 39m 55s\n",
      "357:\tlearn: 0.9074104\ttotal: 22m 13s\tremaining: 39m 51s\n",
      "358:\tlearn: 0.9072962\ttotal: 22m 16s\tremaining: 39m 46s\n",
      "359:\tlearn: 0.9072432\ttotal: 22m 19s\tremaining: 39m 41s\n",
      "360:\tlearn: 0.9071900\ttotal: 22m 22s\tremaining: 39m 36s\n",
      "361:\tlearn: 0.9071517\ttotal: 22m 25s\tremaining: 39m 31s\n",
      "362:\tlearn: 0.9070864\ttotal: 22m 28s\tremaining: 39m 26s\n",
      "363:\tlearn: 0.9070310\ttotal: 22m 31s\tremaining: 39m 21s\n",
      "364:\tlearn: 0.9070034\ttotal: 22m 34s\tremaining: 39m 16s\n",
      "365:\tlearn: 0.9069004\ttotal: 22m 37s\tremaining: 39m 11s\n",
      "366:\tlearn: 0.9068390\ttotal: 22m 42s\tremaining: 39m 9s\n",
      "367:\tlearn: 0.9068094\ttotal: 22m 45s\tremaining: 39m 5s\n",
      "368:\tlearn: 0.9067683\ttotal: 22m 49s\tremaining: 39m 2s\n",
      "369:\tlearn: 0.9067038\ttotal: 22m 52s\tremaining: 38m 57s\n",
      "370:\tlearn: 0.9066670\ttotal: 22m 55s\tremaining: 38m 52s\n",
      "371:\tlearn: 0.9066381\ttotal: 22m 58s\tremaining: 38m 46s\n",
      "372:\tlearn: 0.9066255\ttotal: 23m 1s\tremaining: 38m 41s\n",
      "373:\tlearn: 0.9066140\ttotal: 23m 4s\tremaining: 38m 36s\n",
      "374:\tlearn: 0.9065470\ttotal: 23m 7s\tremaining: 38m 31s\n",
      "375:\tlearn: 0.9065274\ttotal: 23m 10s\tremaining: 38m 26s\n",
      "376:\tlearn: 0.9064749\ttotal: 23m 13s\tremaining: 38m 22s\n",
      "377:\tlearn: 0.9064339\ttotal: 23m 16s\tremaining: 38m 17s\n",
      "378:\tlearn: 0.9063986\ttotal: 23m 19s\tremaining: 38m 13s\n",
      "379:\tlearn: 0.9063466\ttotal: 23m 22s\tremaining: 38m 8s\n",
      "380:\tlearn: 0.9063251\ttotal: 23m 25s\tremaining: 38m 3s\n",
      "381:\tlearn: 0.9063139\ttotal: 23m 28s\tremaining: 37m 58s\n",
      "382:\tlearn: 0.9062804\ttotal: 23m 31s\tremaining: 37m 53s\n",
      "383:\tlearn: 0.9062283\ttotal: 23m 34s\tremaining: 37m 49s\n",
      "384:\tlearn: 0.9061347\ttotal: 23m 37s\tremaining: 37m 44s\n",
      "385:\tlearn: 0.9060944\ttotal: 23m 40s\tremaining: 37m 39s\n",
      "386:\tlearn: 0.9060572\ttotal: 23m 43s\tremaining: 37m 34s\n",
      "387:\tlearn: 0.9060096\ttotal: 23m 46s\tremaining: 37m 29s\n",
      "388:\tlearn: 0.9059476\ttotal: 23m 49s\tremaining: 37m 24s\n",
      "389:\tlearn: 0.9059032\ttotal: 23m 52s\tremaining: 37m 19s\n",
      "390:\tlearn: 0.9058775\ttotal: 23m 55s\tremaining: 37m 15s\n",
      "391:\tlearn: 0.9058038\ttotal: 23m 58s\tremaining: 37m 10s\n",
      "392:\tlearn: 0.9057912\ttotal: 24m 1s\tremaining: 37m 6s\n",
      "393:\tlearn: 0.9057749\ttotal: 24m 4s\tremaining: 37m 1s\n",
      "394:\tlearn: 0.9057352\ttotal: 24m 7s\tremaining: 36m 56s\n",
      "395:\tlearn: 0.9057126\ttotal: 24m 10s\tremaining: 36m 52s\n",
      "396:\tlearn: 0.9057032\ttotal: 24m 13s\tremaining: 36m 47s\n",
      "397:\tlearn: 0.9056493\ttotal: 24m 16s\tremaining: 36m 43s\n",
      "398:\tlearn: 0.9056176\ttotal: 24m 19s\tremaining: 36m 38s\n",
      "399:\tlearn: 0.9055987\ttotal: 24m 22s\tremaining: 36m 33s\n",
      "400:\tlearn: 0.9055640\ttotal: 24m 25s\tremaining: 36m 28s\n",
      "401:\tlearn: 0.9055506\ttotal: 24m 28s\tremaining: 36m 24s\n",
      "402:\tlearn: 0.9055048\ttotal: 24m 31s\tremaining: 36m 19s\n",
      "403:\tlearn: 0.9054957\ttotal: 24m 34s\tremaining: 36m 15s\n",
      "404:\tlearn: 0.9054736\ttotal: 24m 37s\tremaining: 36m 10s\n",
      "405:\tlearn: 0.9054350\ttotal: 24m 40s\tremaining: 36m 5s\n",
      "406:\tlearn: 0.9054211\ttotal: 24m 43s\tremaining: 36m 1s\n",
      "407:\tlearn: 0.9053946\ttotal: 24m 46s\tremaining: 35m 56s\n",
      "408:\tlearn: 0.9053527\ttotal: 24m 49s\tremaining: 35m 51s\n",
      "409:\tlearn: 0.9053151\ttotal: 24m 53s\tremaining: 35m 48s\n",
      "410:\tlearn: 0.9052734\ttotal: 24m 56s\tremaining: 35m 44s\n",
      "411:\tlearn: 0.9052379\ttotal: 24m 59s\tremaining: 35m 40s\n",
      "412:\tlearn: 0.9051784\ttotal: 25m 2s\tremaining: 35m 35s\n",
      "413:\tlearn: 0.9051600\ttotal: 25m 5s\tremaining: 35m 31s\n",
      "414:\tlearn: 0.9051475\ttotal: 25m 8s\tremaining: 35m 26s\n",
      "415:\tlearn: 0.9051298\ttotal: 25m 12s\tremaining: 35m 23s\n",
      "416:\tlearn: 0.9050806\ttotal: 25m 16s\tremaining: 35m 19s\n",
      "417:\tlearn: 0.9050387\ttotal: 25m 20s\tremaining: 35m 17s\n",
      "418:\tlearn: 0.9049955\ttotal: 25m 24s\tremaining: 35m 13s\n",
      "419:\tlearn: 0.9049545\ttotal: 25m 27s\tremaining: 35m 9s\n",
      "420:\tlearn: 0.9049460\ttotal: 25m 30s\tremaining: 35m 5s\n",
      "421:\tlearn: 0.9049101\ttotal: 25m 33s\tremaining: 35m\n",
      "422:\tlearn: 0.9048638\ttotal: 25m 36s\tremaining: 34m 56s\n",
      "423:\tlearn: 0.9048521\ttotal: 25m 39s\tremaining: 34m 51s\n",
      "424:\tlearn: 0.9048213\ttotal: 25m 42s\tremaining: 34m 46s\n",
      "425:\tlearn: 0.9048093\ttotal: 25m 45s\tremaining: 34m 42s\n",
      "426:\tlearn: 0.9047676\ttotal: 25m 48s\tremaining: 34m 37s\n",
      "427:\tlearn: 0.9047359\ttotal: 25m 51s\tremaining: 34m 33s\n",
      "428:\tlearn: 0.9046959\ttotal: 25m 54s\tremaining: 34m 28s\n",
      "429:\tlearn: 0.9046524\ttotal: 25m 57s\tremaining: 34m 24s\n",
      "430:\tlearn: 0.9046252\ttotal: 26m\tremaining: 34m 19s\n",
      "431:\tlearn: 0.9045589\ttotal: 26m 3s\tremaining: 34m 15s\n",
      "432:\tlearn: 0.9044902\ttotal: 26m 6s\tremaining: 34m 11s\n",
      "433:\tlearn: 0.9044353\ttotal: 26m 9s\tremaining: 34m 7s\n",
      "434:\tlearn: 0.9043605\ttotal: 26m 12s\tremaining: 34m 3s\n",
      "435:\tlearn: 0.9043355\ttotal: 26m 16s\tremaining: 33m 58s\n",
      "436:\tlearn: 0.9043021\ttotal: 26m 19s\tremaining: 33m 54s\n",
      "437:\tlearn: 0.9042915\ttotal: 26m 25s\tremaining: 33m 54s\n",
      "438:\tlearn: 0.9042289\ttotal: 26m 31s\tremaining: 33m 54s\n"
     ]
    },
    {
     "name": "stdout",
     "output_type": "stream",
     "text": [
      "439:\tlearn: 0.9041888\ttotal: 26m 34s\tremaining: 33m 49s\n",
      "440:\tlearn: 0.9041138\ttotal: 26m 37s\tremaining: 33m 45s\n",
      "441:\tlearn: 0.9040757\ttotal: 26m 41s\tremaining: 33m 41s\n",
      "442:\tlearn: 0.9040288\ttotal: 26m 44s\tremaining: 33m 37s\n",
      "443:\tlearn: 0.9039399\ttotal: 26m 47s\tremaining: 33m 32s\n",
      "444:\tlearn: 0.9039089\ttotal: 26m 50s\tremaining: 33m 28s\n",
      "445:\tlearn: 0.9038966\ttotal: 26m 53s\tremaining: 33m 23s\n",
      "446:\tlearn: 0.9038353\ttotal: 26m 56s\tremaining: 33m 19s\n",
      "447:\tlearn: 0.9038248\ttotal: 26m 58s\tremaining: 33m 14s\n",
      "448:\tlearn: 0.9038012\ttotal: 27m 2s\tremaining: 33m 10s\n",
      "449:\tlearn: 0.9037604\ttotal: 27m 5s\tremaining: 33m 6s\n",
      "450:\tlearn: 0.9037337\ttotal: 27m 8s\tremaining: 33m 2s\n",
      "451:\tlearn: 0.9037097\ttotal: 27m 11s\tremaining: 32m 57s\n",
      "452:\tlearn: 0.9036823\ttotal: 27m 14s\tremaining: 32m 53s\n",
      "453:\tlearn: 0.9036631\ttotal: 27m 17s\tremaining: 32m 48s\n",
      "454:\tlearn: 0.9036288\ttotal: 27m 20s\tremaining: 32m 44s\n",
      "455:\tlearn: 0.9035963\ttotal: 27m 23s\tremaining: 32m 40s\n",
      "456:\tlearn: 0.9035776\ttotal: 27m 26s\tremaining: 32m 36s\n",
      "457:\tlearn: 0.9035491\ttotal: 27m 29s\tremaining: 32m 31s\n",
      "458:\tlearn: 0.9035252\ttotal: 27m 32s\tremaining: 32m 27s\n",
      "459:\tlearn: 0.9034669\ttotal: 27m 35s\tremaining: 32m 22s\n",
      "460:\tlearn: 0.9034504\ttotal: 27m 37s\tremaining: 32m 18s\n",
      "461:\tlearn: 0.9033750\ttotal: 27m 40s\tremaining: 32m 14s\n",
      "462:\tlearn: 0.9033608\ttotal: 27m 43s\tremaining: 32m 9s\n",
      "463:\tlearn: 0.9033308\ttotal: 27m 46s\tremaining: 32m 5s\n",
      "464:\tlearn: 0.9032968\ttotal: 27m 49s\tremaining: 32m 1s\n",
      "465:\tlearn: 0.9032588\ttotal: 27m 52s\tremaining: 31m 56s\n",
      "466:\tlearn: 0.9032513\ttotal: 27m 55s\tremaining: 31m 52s\n",
      "467:\tlearn: 0.9032305\ttotal: 27m 58s\tremaining: 31m 48s\n",
      "468:\tlearn: 0.9032241\ttotal: 28m 1s\tremaining: 31m 43s\n",
      "469:\tlearn: 0.9032045\ttotal: 28m 4s\tremaining: 31m 39s\n",
      "470:\tlearn: 0.9031599\ttotal: 28m 7s\tremaining: 31m 35s\n",
      "471:\tlearn: 0.9031140\ttotal: 28m 10s\tremaining: 31m 30s\n",
      "472:\tlearn: 0.9030740\ttotal: 28m 13s\tremaining: 31m 26s\n",
      "473:\tlearn: 0.9030648\ttotal: 28m 17s\tremaining: 31m 24s\n",
      "474:\tlearn: 0.9030548\ttotal: 28m 25s\tremaining: 31m 24s\n",
      "475:\tlearn: 0.9030052\ttotal: 28m 28s\tremaining: 31m 20s\n",
      "476:\tlearn: 0.9029696\ttotal: 28m 31s\tremaining: 31m 16s\n",
      "477:\tlearn: 0.9029434\ttotal: 28m 34s\tremaining: 31m 12s\n",
      "478:\tlearn: 0.9028809\ttotal: 28m 37s\tremaining: 31m 8s\n",
      "479:\tlearn: 0.9028744\ttotal: 28m 40s\tremaining: 31m 3s\n",
      "480:\tlearn: 0.9028644\ttotal: 28m 43s\tremaining: 30m 59s\n",
      "481:\tlearn: 0.9028441\ttotal: 28m 46s\tremaining: 30m 55s\n",
      "482:\tlearn: 0.9028046\ttotal: 28m 49s\tremaining: 30m 51s\n",
      "483:\tlearn: 0.9027745\ttotal: 28m 52s\tremaining: 30m 46s\n",
      "484:\tlearn: 0.9027407\ttotal: 28m 55s\tremaining: 30m 42s\n",
      "485:\tlearn: 0.9027066\ttotal: 28m 58s\tremaining: 30m 38s\n",
      "486:\tlearn: 0.9026649\ttotal: 29m 1s\tremaining: 30m 34s\n",
      "487:\tlearn: 0.9026537\ttotal: 29m 4s\tremaining: 30m 29s\n",
      "488:\tlearn: 0.9026052\ttotal: 29m 7s\tremaining: 30m 25s\n",
      "489:\tlearn: 0.9025907\ttotal: 29m 10s\tremaining: 30m 21s\n",
      "490:\tlearn: 0.9025557\ttotal: 29m 13s\tremaining: 30m 17s\n",
      "491:\tlearn: 0.9025103\ttotal: 29m 16s\tremaining: 30m 13s\n",
      "492:\tlearn: 0.9024786\ttotal: 29m 19s\tremaining: 30m 8s\n",
      "493:\tlearn: 0.9024722\ttotal: 29m 21s\tremaining: 30m 4s\n",
      "494:\tlearn: 0.9024579\ttotal: 29m 24s\tremaining: 30m\n",
      "495:\tlearn: 0.9024236\ttotal: 29m 27s\tremaining: 29m 56s\n",
      "496:\tlearn: 0.9023779\ttotal: 29m 30s\tremaining: 29m 52s\n",
      "497:\tlearn: 0.9023254\ttotal: 29m 33s\tremaining: 29m 48s\n",
      "498:\tlearn: 0.9022839\ttotal: 29m 36s\tremaining: 29m 43s\n",
      "499:\tlearn: 0.9022582\ttotal: 29m 39s\tremaining: 29m 39s\n",
      "500:\tlearn: 0.9022274\ttotal: 29m 42s\tremaining: 29m 35s\n",
      "501:\tlearn: 0.9021598\ttotal: 29m 45s\tremaining: 29m 31s\n",
      "502:\tlearn: 0.9021238\ttotal: 29m 48s\tremaining: 29m 27s\n",
      "503:\tlearn: 0.9020843\ttotal: 29m 52s\tremaining: 29m 23s\n",
      "504:\tlearn: 0.9020425\ttotal: 29m 55s\tremaining: 29m 20s\n",
      "505:\tlearn: 0.9020197\ttotal: 29m 58s\tremaining: 29m 16s\n",
      "506:\tlearn: 0.9019923\ttotal: 30m 1s\tremaining: 29m 11s\n",
      "507:\tlearn: 0.9019532\ttotal: 30m 4s\tremaining: 29m 7s\n",
      "508:\tlearn: 0.9019261\ttotal: 30m 7s\tremaining: 29m 3s\n",
      "509:\tlearn: 0.9019097\ttotal: 30m 11s\tremaining: 29m\n",
      "510:\tlearn: 0.9019011\ttotal: 30m 18s\tremaining: 29m\n",
      "511:\tlearn: 0.9018724\ttotal: 30m 23s\tremaining: 28m 58s\n",
      "512:\tlearn: 0.9018135\ttotal: 30m 26s\tremaining: 28m 54s\n",
      "513:\tlearn: 0.9017976\ttotal: 30m 29s\tremaining: 28m 50s\n",
      "514:\tlearn: 0.9017915\ttotal: 30m 32s\tremaining: 28m 46s\n",
      "515:\tlearn: 0.9017401\ttotal: 30m 35s\tremaining: 28m 42s\n",
      "516:\tlearn: 0.9017089\ttotal: 30m 39s\tremaining: 28m 38s\n",
      "517:\tlearn: 0.9016596\ttotal: 30m 42s\tremaining: 28m 34s\n",
      "518:\tlearn: 0.9016371\ttotal: 30m 45s\tremaining: 28m 30s\n",
      "519:\tlearn: 0.9015927\ttotal: 30m 48s\tremaining: 28m 26s\n",
      "520:\tlearn: 0.9015418\ttotal: 30m 51s\tremaining: 28m 21s\n",
      "521:\tlearn: 0.9015029\ttotal: 30m 54s\tremaining: 28m 17s\n",
      "522:\tlearn: 0.9014863\ttotal: 30m 57s\tremaining: 28m 13s\n",
      "523:\tlearn: 0.9014799\ttotal: 30m 59s\tremaining: 28m 9s\n",
      "524:\tlearn: 0.9014604\ttotal: 31m 2s\tremaining: 28m 5s\n",
      "525:\tlearn: 0.9014245\ttotal: 31m 6s\tremaining: 28m 1s\n",
      "526:\tlearn: 0.9014034\ttotal: 31m 9s\tremaining: 27m 57s\n",
      "527:\tlearn: 0.9013862\ttotal: 31m 12s\tremaining: 27m 53s\n",
      "528:\tlearn: 0.9013315\ttotal: 31m 15s\tremaining: 27m 49s\n",
      "529:\tlearn: 0.9012857\ttotal: 31m 18s\tremaining: 27m 45s\n",
      "530:\tlearn: 0.9012582\ttotal: 31m 21s\tremaining: 27m 41s\n",
      "531:\tlearn: 0.9012357\ttotal: 31m 25s\tremaining: 27m 38s\n",
      "532:\tlearn: 0.9012047\ttotal: 31m 29s\tremaining: 27m 35s\n",
      "533:\tlearn: 0.9011810\ttotal: 31m 32s\tremaining: 27m 31s\n",
      "534:\tlearn: 0.9011631\ttotal: 31m 35s\tremaining: 27m 27s\n",
      "535:\tlearn: 0.9011249\ttotal: 31m 39s\tremaining: 27m 24s\n",
      "536:\tlearn: 0.9010988\ttotal: 31m 42s\tremaining: 27m 20s\n",
      "537:\tlearn: 0.9010700\ttotal: 31m 45s\tremaining: 27m 16s\n",
      "538:\tlearn: 0.9010434\ttotal: 31m 48s\tremaining: 27m 12s\n",
      "539:\tlearn: 0.9010254\ttotal: 31m 51s\tremaining: 27m 8s\n",
      "540:\tlearn: 0.9009759\ttotal: 31m 54s\tremaining: 27m 4s\n",
      "541:\tlearn: 0.9009430\ttotal: 31m 57s\tremaining: 27m\n",
      "542:\tlearn: 0.9009277\ttotal: 32m\tremaining: 26m 56s\n",
      "543:\tlearn: 0.9009067\ttotal: 32m 3s\tremaining: 26m 52s\n",
      "544:\tlearn: 0.9008748\ttotal: 32m 6s\tremaining: 26m 48s\n",
      "545:\tlearn: 0.9008565\ttotal: 32m 9s\tremaining: 26m 44s\n",
      "546:\tlearn: 0.9008283\ttotal: 32m 12s\tremaining: 26m 40s\n",
      "547:\tlearn: 0.9008112\ttotal: 32m 15s\tremaining: 26m 36s\n",
      "548:\tlearn: 0.9007971\ttotal: 32m 18s\tremaining: 26m 32s\n",
      "549:\tlearn: 0.9007739\ttotal: 32m 21s\tremaining: 26m 28s\n",
      "550:\tlearn: 0.9007448\ttotal: 32m 24s\tremaining: 26m 24s\n",
      "551:\tlearn: 0.9007300\ttotal: 32m 26s\tremaining: 26m 20s\n",
      "552:\tlearn: 0.9006694\ttotal: 32m 29s\tremaining: 26m 16s\n",
      "553:\tlearn: 0.9006384\ttotal: 32m 32s\tremaining: 26m 12s\n",
      "554:\tlearn: 0.9006216\ttotal: 32m 35s\tremaining: 26m 8s\n",
      "555:\tlearn: 0.9005718\ttotal: 32m 38s\tremaining: 26m 4s\n",
      "556:\tlearn: 0.9005491\ttotal: 32m 41s\tremaining: 26m\n",
      "557:\tlearn: 0.9005251\ttotal: 32m 44s\tremaining: 25m 56s\n",
      "558:\tlearn: 0.9004904\ttotal: 32m 47s\tremaining: 25m 52s\n",
      "559:\tlearn: 0.9004824\ttotal: 32m 50s\tremaining: 25m 48s\n",
      "560:\tlearn: 0.9004709\ttotal: 32m 53s\tremaining: 25m 44s\n",
      "561:\tlearn: 0.9004428\ttotal: 32m 56s\tremaining: 25m 40s\n",
      "562:\tlearn: 0.9004293\ttotal: 32m 59s\tremaining: 25m 36s\n",
      "563:\tlearn: 0.9004016\ttotal: 33m 2s\tremaining: 25m 32s\n",
      "564:\tlearn: 0.9003769\ttotal: 33m 5s\tremaining: 25m 28s\n",
      "565:\tlearn: 0.9003546\ttotal: 33m 8s\tremaining: 25m 24s\n",
      "566:\tlearn: 0.9003412\ttotal: 33m 11s\tremaining: 25m 20s\n",
      "567:\tlearn: 0.9003129\ttotal: 33m 14s\tremaining: 25m 16s\n",
      "568:\tlearn: 0.9003058\ttotal: 33m 17s\tremaining: 25m 12s\n",
      "569:\tlearn: 0.9002827\ttotal: 33m 20s\tremaining: 25m 8s\n",
      "570:\tlearn: 0.9002545\ttotal: 33m 23s\tremaining: 25m 5s\n",
      "571:\tlearn: 0.9002317\ttotal: 33m 26s\tremaining: 25m 1s\n",
      "572:\tlearn: 0.9002176\ttotal: 33m 29s\tremaining: 24m 57s\n",
      "573:\tlearn: 0.9001959\ttotal: 33m 32s\tremaining: 24m 53s\n",
      "574:\tlearn: 0.9001775\ttotal: 33m 35s\tremaining: 24m 49s\n",
      "575:\tlearn: 0.9001487\ttotal: 33m 37s\tremaining: 24m 45s\n",
      "576:\tlearn: 0.9001240\ttotal: 33m 40s\tremaining: 24m 41s\n",
      "577:\tlearn: 0.9000984\ttotal: 33m 44s\tremaining: 24m 37s\n",
      "578:\tlearn: 0.9000849\ttotal: 33m 47s\tremaining: 24m 33s\n",
      "579:\tlearn: 0.9000670\ttotal: 33m 50s\tremaining: 24m 30s\n",
      "580:\tlearn: 0.9000547\ttotal: 33m 53s\tremaining: 24m 26s\n",
      "581:\tlearn: 0.9000336\ttotal: 33m 56s\tremaining: 24m 22s\n",
      "582:\tlearn: 0.8999943\ttotal: 33m 59s\tremaining: 24m 19s\n",
      "583:\tlearn: 0.8999671\ttotal: 34m 2s\tremaining: 24m 15s\n",
      "584:\tlearn: 0.8999587\ttotal: 34m 6s\tremaining: 24m 11s\n",
      "585:\tlearn: 0.8999206\ttotal: 34m 9s\tremaining: 24m 7s\n",
      "586:\tlearn: 0.8998938\ttotal: 34m 12s\tremaining: 24m 3s\n"
     ]
    },
    {
     "name": "stdout",
     "output_type": "stream",
     "text": [
      "587:\tlearn: 0.8998822\ttotal: 34m 15s\tremaining: 24m\n",
      "588:\tlearn: 0.8998599\ttotal: 34m 18s\tremaining: 23m 56s\n",
      "589:\tlearn: 0.8998390\ttotal: 34m 21s\tremaining: 23m 52s\n",
      "590:\tlearn: 0.8998132\ttotal: 34m 24s\tremaining: 23m 48s\n",
      "591:\tlearn: 0.8997942\ttotal: 34m 26s\tremaining: 23m 44s\n",
      "592:\tlearn: 0.8997684\ttotal: 34m 30s\tremaining: 23m 40s\n",
      "593:\tlearn: 0.8997616\ttotal: 34m 32s\tremaining: 23m 36s\n",
      "594:\tlearn: 0.8997420\ttotal: 34m 35s\tremaining: 23m 32s\n",
      "595:\tlearn: 0.8997039\ttotal: 34m 38s\tremaining: 23m 29s\n",
      "596:\tlearn: 0.8996962\ttotal: 34m 41s\tremaining: 23m 25s\n",
      "597:\tlearn: 0.8996837\ttotal: 34m 44s\tremaining: 23m 21s\n",
      "598:\tlearn: 0.8996771\ttotal: 34m 47s\tremaining: 23m 17s\n",
      "599:\tlearn: 0.8996286\ttotal: 34m 52s\tremaining: 23m 15s\n",
      "600:\tlearn: 0.8996039\ttotal: 35m 1s\tremaining: 23m 14s\n",
      "601:\tlearn: 0.8995980\ttotal: 35m 5s\tremaining: 23m 12s\n",
      "602:\tlearn: 0.8995498\ttotal: 35m 8s\tremaining: 23m 8s\n",
      "603:\tlearn: 0.8995210\ttotal: 35m 12s\tremaining: 23m 4s\n",
      "604:\tlearn: 0.8994959\ttotal: 35m 15s\tremaining: 23m 1s\n",
      "605:\tlearn: 0.8994474\ttotal: 35m 19s\tremaining: 22m 57s\n",
      "606:\tlearn: 0.8994285\ttotal: 35m 22s\tremaining: 22m 54s\n",
      "607:\tlearn: 0.8994062\ttotal: 35m 25s\tremaining: 22m 50s\n",
      "608:\tlearn: 0.8994004\ttotal: 35m 28s\tremaining: 22m 46s\n",
      "609:\tlearn: 0.8993627\ttotal: 35m 31s\tremaining: 22m 42s\n",
      "610:\tlearn: 0.8993427\ttotal: 35m 34s\tremaining: 22m 38s\n",
      "611:\tlearn: 0.8993326\ttotal: 35m 37s\tremaining: 22m 34s\n",
      "612:\tlearn: 0.8992827\ttotal: 35m 41s\tremaining: 22m 31s\n",
      "613:\tlearn: 0.8992469\ttotal: 35m 44s\tremaining: 22m 28s\n",
      "614:\tlearn: 0.8992372\ttotal: 35m 47s\tremaining: 22m 24s\n",
      "615:\tlearn: 0.8992169\ttotal: 35m 51s\tremaining: 22m 20s\n",
      "616:\tlearn: 0.8992122\ttotal: 35m 54s\tremaining: 22m 17s\n",
      "617:\tlearn: 0.8991890\ttotal: 35m 57s\tremaining: 22m 13s\n",
      "618:\tlearn: 0.8991687\ttotal: 36m\tremaining: 22m 9s\n",
      "619:\tlearn: 0.8991611\ttotal: 36m 2s\tremaining: 22m 5s\n",
      "620:\tlearn: 0.8991113\ttotal: 36m 5s\tremaining: 22m 1s\n",
      "621:\tlearn: 0.8990841\ttotal: 36m 8s\tremaining: 21m 58s\n",
      "622:\tlearn: 0.8990289\ttotal: 36m 11s\tremaining: 21m 54s\n",
      "623:\tlearn: 0.8990144\ttotal: 36m 14s\tremaining: 21m 50s\n",
      "624:\tlearn: 0.8989894\ttotal: 36m 17s\tremaining: 21m 46s\n",
      "625:\tlearn: 0.8989596\ttotal: 36m 20s\tremaining: 21m 42s\n",
      "626:\tlearn: 0.8989467\ttotal: 36m 23s\tremaining: 21m 39s\n",
      "627:\tlearn: 0.8989354\ttotal: 36m 26s\tremaining: 21m 35s\n",
      "628:\tlearn: 0.8989299\ttotal: 36m 29s\tremaining: 21m 31s\n",
      "629:\tlearn: 0.8989072\ttotal: 36m 32s\tremaining: 21m 27s\n",
      "630:\tlearn: 0.8988878\ttotal: 36m 35s\tremaining: 21m 23s\n",
      "631:\tlearn: 0.8988739\ttotal: 36m 38s\tremaining: 21m 20s\n",
      "632:\tlearn: 0.8988601\ttotal: 36m 41s\tremaining: 21m 16s\n",
      "633:\tlearn: 0.8988350\ttotal: 36m 44s\tremaining: 21m 12s\n",
      "634:\tlearn: 0.8987968\ttotal: 36m 47s\tremaining: 21m 8s\n",
      "635:\tlearn: 0.8987771\ttotal: 36m 50s\tremaining: 21m 4s\n",
      "636:\tlearn: 0.8987699\ttotal: 36m 52s\tremaining: 21m 1s\n",
      "637:\tlearn: 0.8987456\ttotal: 36m 55s\tremaining: 20m 57s\n",
      "638:\tlearn: 0.8987206\ttotal: 36m 58s\tremaining: 20m 53s\n",
      "639:\tlearn: 0.8986958\ttotal: 37m 1s\tremaining: 20m 49s\n",
      "640:\tlearn: 0.8986620\ttotal: 37m 4s\tremaining: 20m 45s\n",
      "641:\tlearn: 0.8986420\ttotal: 37m 7s\tremaining: 20m 42s\n",
      "642:\tlearn: 0.8986221\ttotal: 37m 10s\tremaining: 20m 38s\n",
      "643:\tlearn: 0.8986165\ttotal: 37m 13s\tremaining: 20m 34s\n",
      "644:\tlearn: 0.8985932\ttotal: 37m 16s\tremaining: 20m 30s\n",
      "645:\tlearn: 0.8985735\ttotal: 37m 19s\tremaining: 20m 27s\n",
      "646:\tlearn: 0.8985627\ttotal: 37m 22s\tremaining: 20m 23s\n",
      "647:\tlearn: 0.8985384\ttotal: 37m 25s\tremaining: 20m 19s\n",
      "648:\tlearn: 0.8985211\ttotal: 37m 28s\tremaining: 20m 15s\n",
      "649:\tlearn: 0.8984992\ttotal: 37m 31s\tremaining: 20m 12s\n",
      "650:\tlearn: 0.8984933\ttotal: 37m 34s\tremaining: 20m 8s\n",
      "651:\tlearn: 0.8984620\ttotal: 37m 37s\tremaining: 20m 4s\n",
      "652:\tlearn: 0.8984441\ttotal: 37m 40s\tremaining: 20m 1s\n",
      "653:\tlearn: 0.8984262\ttotal: 37m 43s\tremaining: 19m 57s\n",
      "654:\tlearn: 0.8984093\ttotal: 37m 46s\tremaining: 19m 53s\n",
      "655:\tlearn: 0.8983968\ttotal: 37m 48s\tremaining: 19m 49s\n",
      "656:\tlearn: 0.8983764\ttotal: 37m 51s\tremaining: 19m 46s\n",
      "657:\tlearn: 0.8983607\ttotal: 37m 54s\tremaining: 19m 42s\n",
      "658:\tlearn: 0.8983560\ttotal: 37m 57s\tremaining: 19m 38s\n",
      "659:\tlearn: 0.8983363\ttotal: 38m\tremaining: 19m 34s\n",
      "660:\tlearn: 0.8983238\ttotal: 38m 3s\tremaining: 19m 31s\n",
      "661:\tlearn: 0.8982902\ttotal: 38m 6s\tremaining: 19m 27s\n",
      "662:\tlearn: 0.8982804\ttotal: 38m 9s\tremaining: 19m 23s\n",
      "663:\tlearn: 0.8982579\ttotal: 38m 12s\tremaining: 19m 20s\n",
      "664:\tlearn: 0.8982390\ttotal: 38m 15s\tremaining: 19m 16s\n",
      "665:\tlearn: 0.8982235\ttotal: 38m 18s\tremaining: 19m 12s\n",
      "666:\tlearn: 0.8981747\ttotal: 38m 22s\tremaining: 19m 9s\n",
      "667:\tlearn: 0.8981696\ttotal: 38m 25s\tremaining: 19m 5s\n",
      "668:\tlearn: 0.8981510\ttotal: 38m 28s\tremaining: 19m 2s\n",
      "669:\tlearn: 0.8981327\ttotal: 38m 31s\tremaining: 18m 58s\n",
      "670:\tlearn: 0.8980999\ttotal: 38m 34s\tremaining: 18m 54s\n",
      "671:\tlearn: 0.8980787\ttotal: 38m 37s\tremaining: 18m 51s\n",
      "672:\tlearn: 0.8980703\ttotal: 38m 40s\tremaining: 18m 47s\n",
      "673:\tlearn: 0.8980517\ttotal: 38m 43s\tremaining: 18m 43s\n",
      "674:\tlearn: 0.8980223\ttotal: 38m 46s\tremaining: 18m 40s\n",
      "675:\tlearn: 0.8979654\ttotal: 38m 49s\tremaining: 18m 36s\n",
      "676:\tlearn: 0.8979300\ttotal: 38m 52s\tremaining: 18m 32s\n",
      "677:\tlearn: 0.8979161\ttotal: 38m 55s\tremaining: 18m 29s\n",
      "678:\tlearn: 0.8978886\ttotal: 38m 58s\tremaining: 18m 25s\n",
      "679:\tlearn: 0.8978626\ttotal: 39m 1s\tremaining: 18m 21s\n",
      "680:\tlearn: 0.8978374\ttotal: 39m 4s\tremaining: 18m 18s\n",
      "681:\tlearn: 0.8978190\ttotal: 39m 7s\tremaining: 18m 14s\n",
      "682:\tlearn: 0.8977930\ttotal: 39m 10s\tremaining: 18m 10s\n",
      "683:\tlearn: 0.8977832\ttotal: 39m 13s\tremaining: 18m 7s\n",
      "684:\tlearn: 0.8977675\ttotal: 39m 16s\tremaining: 18m 3s\n",
      "685:\tlearn: 0.8977543\ttotal: 39m 19s\tremaining: 17m 59s\n",
      "686:\tlearn: 0.8977156\ttotal: 39m 22s\tremaining: 17m 56s\n",
      "687:\tlearn: 0.8976730\ttotal: 39m 25s\tremaining: 17m 52s\n",
      "688:\tlearn: 0.8976518\ttotal: 39m 28s\tremaining: 17m 49s\n",
      "689:\tlearn: 0.8976437\ttotal: 39m 31s\tremaining: 17m 45s\n",
      "690:\tlearn: 0.8976273\ttotal: 39m 34s\tremaining: 17m 41s\n",
      "691:\tlearn: 0.8976086\ttotal: 39m 37s\tremaining: 17m 38s\n",
      "692:\tlearn: 0.8975943\ttotal: 39m 40s\tremaining: 17m 34s\n",
      "693:\tlearn: 0.8975681\ttotal: 39m 43s\tremaining: 17m 30s\n",
      "694:\tlearn: 0.8975555\ttotal: 39m 46s\tremaining: 17m 27s\n",
      "695:\tlearn: 0.8975519\ttotal: 39m 48s\tremaining: 17m 23s\n",
      "696:\tlearn: 0.8975186\ttotal: 39m 51s\tremaining: 17m 19s\n",
      "697:\tlearn: 0.8975108\ttotal: 39m 54s\tremaining: 17m 16s\n",
      "698:\tlearn: 0.8974812\ttotal: 39m 58s\tremaining: 17m 12s\n",
      "699:\tlearn: 0.8974693\ttotal: 40m 1s\tremaining: 17m 9s\n",
      "700:\tlearn: 0.8974467\ttotal: 40m 4s\tremaining: 17m 5s\n",
      "701:\tlearn: 0.8974407\ttotal: 40m 7s\tremaining: 17m 1s\n",
      "702:\tlearn: 0.8974353\ttotal: 40m 10s\tremaining: 16m 58s\n",
      "703:\tlearn: 0.8974306\ttotal: 40m 13s\tremaining: 16m 54s\n",
      "704:\tlearn: 0.8974225\ttotal: 40m 17s\tremaining: 16m 51s\n",
      "705:\tlearn: 0.8974006\ttotal: 40m 20s\tremaining: 16m 47s\n",
      "706:\tlearn: 0.8973755\ttotal: 40m 23s\tremaining: 16m 44s\n",
      "707:\tlearn: 0.8973574\ttotal: 40m 26s\tremaining: 16m 40s\n",
      "708:\tlearn: 0.8973422\ttotal: 40m 29s\tremaining: 16m 37s\n",
      "709:\tlearn: 0.8973343\ttotal: 40m 32s\tremaining: 16m 33s\n",
      "710:\tlearn: 0.8973222\ttotal: 40m 35s\tremaining: 16m 30s\n",
      "711:\tlearn: 0.8973078\ttotal: 40m 38s\tremaining: 16m 26s\n",
      "712:\tlearn: 0.8972863\ttotal: 40m 41s\tremaining: 16m 22s\n",
      "713:\tlearn: 0.8972795\ttotal: 40m 45s\tremaining: 16m 19s\n",
      "714:\tlearn: 0.8972743\ttotal: 40m 48s\tremaining: 16m 16s\n",
      "715:\tlearn: 0.8972621\ttotal: 40m 51s\tremaining: 16m 12s\n",
      "716:\tlearn: 0.8972376\ttotal: 40m 55s\tremaining: 16m 9s\n",
      "717:\tlearn: 0.8972145\ttotal: 40m 58s\tremaining: 16m 5s\n",
      "718:\tlearn: 0.8972028\ttotal: 41m 1s\tremaining: 16m 1s\n",
      "719:\tlearn: 0.8971918\ttotal: 41m 4s\tremaining: 15m 58s\n",
      "720:\tlearn: 0.8971649\ttotal: 41m 7s\tremaining: 15m 54s\n",
      "721:\tlearn: 0.8971534\ttotal: 41m 10s\tremaining: 15m 51s\n",
      "722:\tlearn: 0.8971396\ttotal: 41m 13s\tremaining: 15m 47s\n",
      "723:\tlearn: 0.8971169\ttotal: 41m 16s\tremaining: 15m 44s\n",
      "724:\tlearn: 0.8971036\ttotal: 41m 19s\tremaining: 15m 40s\n",
      "725:\tlearn: 0.8970734\ttotal: 41m 22s\tremaining: 15m 36s\n",
      "726:\tlearn: 0.8970617\ttotal: 41m 25s\tremaining: 15m 33s\n",
      "727:\tlearn: 0.8970492\ttotal: 41m 28s\tremaining: 15m 29s\n",
      "728:\tlearn: 0.8970317\ttotal: 41m 31s\tremaining: 15m 26s\n",
      "729:\tlearn: 0.8970160\ttotal: 41m 34s\tremaining: 15m 22s\n",
      "730:\tlearn: 0.8969992\ttotal: 41m 37s\tremaining: 15m 18s\n",
      "731:\tlearn: 0.8969790\ttotal: 41m 40s\tremaining: 15m 15s\n",
      "732:\tlearn: 0.8969671\ttotal: 41m 43s\tremaining: 15m 11s\n",
      "733:\tlearn: 0.8969558\ttotal: 41m 46s\tremaining: 15m 8s\n",
      "734:\tlearn: 0.8969460\ttotal: 41m 49s\tremaining: 15m 4s\n"
     ]
    },
    {
     "name": "stdout",
     "output_type": "stream",
     "text": [
      "735:\tlearn: 0.8969294\ttotal: 41m 52s\tremaining: 15m 1s\n",
      "736:\tlearn: 0.8969083\ttotal: 41m 55s\tremaining: 14m 57s\n",
      "737:\tlearn: 0.8968917\ttotal: 41m 58s\tremaining: 14m 54s\n",
      "738:\tlearn: 0.8968873\ttotal: 42m 1s\tremaining: 14m 50s\n",
      "739:\tlearn: 0.8968682\ttotal: 42m 4s\tremaining: 14m 46s\n",
      "740:\tlearn: 0.8968508\ttotal: 42m 7s\tremaining: 14m 43s\n",
      "741:\tlearn: 0.8968306\ttotal: 42m 10s\tremaining: 14m 39s\n",
      "742:\tlearn: 0.8967974\ttotal: 42m 13s\tremaining: 14m 36s\n",
      "743:\tlearn: 0.8967821\ttotal: 42m 16s\tremaining: 14m 32s\n",
      "744:\tlearn: 0.8967769\ttotal: 42m 19s\tremaining: 14m 29s\n",
      "745:\tlearn: 0.8967531\ttotal: 42m 22s\tremaining: 14m 25s\n",
      "746:\tlearn: 0.8967424\ttotal: 42m 25s\tremaining: 14m 22s\n",
      "747:\tlearn: 0.8967318\ttotal: 42m 28s\tremaining: 14m 18s\n",
      "748:\tlearn: 0.8967211\ttotal: 42m 31s\tremaining: 14m 15s\n",
      "749:\tlearn: 0.8966933\ttotal: 42m 34s\tremaining: 14m 11s\n",
      "750:\tlearn: 0.8966547\ttotal: 42m 37s\tremaining: 14m 7s\n",
      "751:\tlearn: 0.8966275\ttotal: 42m 40s\tremaining: 14m 4s\n",
      "752:\tlearn: 0.8966207\ttotal: 42m 43s\tremaining: 14m\n",
      "753:\tlearn: 0.8966004\ttotal: 42m 46s\tremaining: 13m 57s\n",
      "754:\tlearn: 0.8965825\ttotal: 42m 49s\tremaining: 13m 53s\n",
      "755:\tlearn: 0.8965685\ttotal: 42m 52s\tremaining: 13m 50s\n",
      "756:\tlearn: 0.8965431\ttotal: 42m 55s\tremaining: 13m 46s\n",
      "757:\tlearn: 0.8965351\ttotal: 42m 58s\tremaining: 13m 43s\n",
      "758:\tlearn: 0.8965203\ttotal: 43m 1s\tremaining: 13m 39s\n",
      "759:\tlearn: 0.8965157\ttotal: 43m 4s\tremaining: 13m 36s\n",
      "760:\tlearn: 0.8964963\ttotal: 43m 7s\tremaining: 13m 32s\n",
      "761:\tlearn: 0.8964833\ttotal: 43m 10s\tremaining: 13m 29s\n",
      "762:\tlearn: 0.8964737\ttotal: 43m 13s\tremaining: 13m 25s\n",
      "763:\tlearn: 0.8964579\ttotal: 43m 16s\tremaining: 13m 21s\n",
      "764:\tlearn: 0.8964446\ttotal: 43m 19s\tremaining: 13m 18s\n",
      "765:\tlearn: 0.8964359\ttotal: 43m 22s\tremaining: 13m 14s\n",
      "766:\tlearn: 0.8964254\ttotal: 43m 24s\tremaining: 13m 11s\n",
      "767:\tlearn: 0.8963807\ttotal: 43m 28s\tremaining: 13m 7s\n",
      "768:\tlearn: 0.8963619\ttotal: 43m 31s\tremaining: 13m 4s\n",
      "769:\tlearn: 0.8963567\ttotal: 43m 34s\tremaining: 13m\n",
      "770:\tlearn: 0.8963352\ttotal: 43m 36s\tremaining: 12m 57s\n",
      "771:\tlearn: 0.8963216\ttotal: 43m 39s\tremaining: 12m 53s\n",
      "772:\tlearn: 0.8963067\ttotal: 43m 42s\tremaining: 12m 50s\n",
      "773:\tlearn: 0.8962930\ttotal: 43m 45s\tremaining: 12m 46s\n",
      "774:\tlearn: 0.8962751\ttotal: 43m 49s\tremaining: 12m 43s\n",
      "775:\tlearn: 0.8962317\ttotal: 43m 52s\tremaining: 12m 39s\n",
      "776:\tlearn: 0.8962124\ttotal: 43m 55s\tremaining: 12m 36s\n",
      "777:\tlearn: 0.8962000\ttotal: 43m 58s\tremaining: 12m 32s\n",
      "778:\tlearn: 0.8961790\ttotal: 44m\tremaining: 12m 29s\n",
      "779:\tlearn: 0.8961682\ttotal: 44m 3s\tremaining: 12m 25s\n",
      "780:\tlearn: 0.8961643\ttotal: 44m 6s\tremaining: 12m 22s\n",
      "781:\tlearn: 0.8961355\ttotal: 44m 9s\tremaining: 12m 18s\n",
      "782:\tlearn: 0.8961132\ttotal: 44m 12s\tremaining: 12m 15s\n",
      "783:\tlearn: 0.8961007\ttotal: 44m 15s\tremaining: 12m 11s\n",
      "784:\tlearn: 0.8960838\ttotal: 44m 18s\tremaining: 12m 8s\n",
      "785:\tlearn: 0.8960715\ttotal: 44m 21s\tremaining: 12m 4s\n",
      "786:\tlearn: 0.8960663\ttotal: 44m 24s\tremaining: 12m 1s\n",
      "787:\tlearn: 0.8960495\ttotal: 44m 27s\tremaining: 11m 57s\n",
      "788:\tlearn: 0.8960367\ttotal: 44m 30s\tremaining: 11m 54s\n",
      "789:\tlearn: 0.8960131\ttotal: 44m 33s\tremaining: 11m 50s\n",
      "790:\tlearn: 0.8959907\ttotal: 44m 36s\tremaining: 11m 47s\n",
      "791:\tlearn: 0.8959742\ttotal: 44m 42s\tremaining: 11m 44s\n",
      "792:\tlearn: 0.8959618\ttotal: 44m 45s\tremaining: 11m 41s\n",
      "793:\tlearn: 0.8959451\ttotal: 44m 49s\tremaining: 11m 37s\n",
      "794:\tlearn: 0.8959384\ttotal: 44m 52s\tremaining: 11m 34s\n",
      "795:\tlearn: 0.8959272\ttotal: 44m 55s\tremaining: 11m 30s\n",
      "796:\tlearn: 0.8959093\ttotal: 44m 58s\tremaining: 11m 27s\n",
      "797:\tlearn: 0.8958914\ttotal: 45m 1s\tremaining: 11m 23s\n",
      "798:\tlearn: 0.8958875\ttotal: 45m 4s\tremaining: 11m 20s\n",
      "799:\tlearn: 0.8958779\ttotal: 45m 7s\tremaining: 11m 16s\n",
      "800:\tlearn: 0.8958432\ttotal: 45m 11s\tremaining: 11m 13s\n",
      "801:\tlearn: 0.8958250\ttotal: 45m 15s\tremaining: 11m 10s\n",
      "802:\tlearn: 0.8958018\ttotal: 45m 20s\tremaining: 11m 7s\n",
      "803:\tlearn: 0.8957770\ttotal: 45m 24s\tremaining: 11m 4s\n",
      "804:\tlearn: 0.8957533\ttotal: 45m 27s\tremaining: 11m\n",
      "805:\tlearn: 0.8957441\ttotal: 45m 30s\tremaining: 10m 57s\n",
      "806:\tlearn: 0.8957294\ttotal: 45m 33s\tremaining: 10m 53s\n",
      "807:\tlearn: 0.8957090\ttotal: 45m 37s\tremaining: 10m 50s\n",
      "808:\tlearn: 0.8956711\ttotal: 45m 40s\tremaining: 10m 46s\n",
      "809:\tlearn: 0.8956495\ttotal: 45m 43s\tremaining: 10m 43s\n",
      "810:\tlearn: 0.8956289\ttotal: 45m 46s\tremaining: 10m 39s\n",
      "811:\tlearn: 0.8956057\ttotal: 45m 49s\tremaining: 10m 36s\n",
      "812:\tlearn: 0.8955806\ttotal: 45m 52s\tremaining: 10m 33s\n",
      "813:\tlearn: 0.8955637\ttotal: 45m 55s\tremaining: 10m 29s\n",
      "814:\tlearn: 0.8955478\ttotal: 45m 58s\tremaining: 10m 26s\n",
      "815:\tlearn: 0.8955365\ttotal: 46m 1s\tremaining: 10m 22s\n",
      "816:\tlearn: 0.8955265\ttotal: 46m 4s\tremaining: 10m 19s\n",
      "817:\tlearn: 0.8955053\ttotal: 46m 7s\tremaining: 10m 15s\n",
      "818:\tlearn: 0.8954780\ttotal: 46m 10s\tremaining: 10m 12s\n",
      "819:\tlearn: 0.8954641\ttotal: 46m 13s\tremaining: 10m 8s\n",
      "820:\tlearn: 0.8954584\ttotal: 46m 17s\tremaining: 10m 5s\n",
      "821:\tlearn: 0.8954385\ttotal: 46m 20s\tremaining: 10m 2s\n",
      "822:\tlearn: 0.8954273\ttotal: 46m 23s\tremaining: 9m 58s\n",
      "823:\tlearn: 0.8954236\ttotal: 46m 27s\tremaining: 9m 55s\n",
      "824:\tlearn: 0.8954128\ttotal: 46m 30s\tremaining: 9m 51s\n",
      "825:\tlearn: 0.8953894\ttotal: 46m 33s\tremaining: 9m 48s\n",
      "826:\tlearn: 0.8953708\ttotal: 46m 35s\tremaining: 9m 44s\n",
      "827:\tlearn: 0.8953624\ttotal: 46m 39s\tremaining: 9m 41s\n",
      "828:\tlearn: 0.8953538\ttotal: 46m 41s\tremaining: 9m 37s\n",
      "829:\tlearn: 0.8953312\ttotal: 46m 44s\tremaining: 9m 34s\n",
      "830:\tlearn: 0.8953174\ttotal: 46m 47s\tremaining: 9m 31s\n",
      "831:\tlearn: 0.8953077\ttotal: 46m 50s\tremaining: 9m 27s\n",
      "832:\tlearn: 0.8952997\ttotal: 46m 53s\tremaining: 9m 24s\n",
      "833:\tlearn: 0.8952936\ttotal: 46m 56s\tremaining: 9m 20s\n",
      "834:\tlearn: 0.8952879\ttotal: 46m 59s\tremaining: 9m 17s\n",
      "835:\tlearn: 0.8952767\ttotal: 47m 2s\tremaining: 9m 13s\n",
      "836:\tlearn: 0.8952548\ttotal: 47m 5s\tremaining: 9m 10s\n",
      "837:\tlearn: 0.8952433\ttotal: 47m 8s\tremaining: 9m 6s\n",
      "838:\tlearn: 0.8952284\ttotal: 47m 11s\tremaining: 9m 3s\n",
      "839:\tlearn: 0.8952055\ttotal: 47m 14s\tremaining: 8m 59s\n",
      "840:\tlearn: 0.8952007\ttotal: 47m 16s\tremaining: 8m 56s\n",
      "841:\tlearn: 0.8951946\ttotal: 47m 19s\tremaining: 8m 52s\n",
      "842:\tlearn: 0.8951873\ttotal: 47m 22s\tremaining: 8m 49s\n",
      "843:\tlearn: 0.8951635\ttotal: 47m 25s\tremaining: 8m 46s\n",
      "844:\tlearn: 0.8951549\ttotal: 47m 28s\tremaining: 8m 42s\n",
      "845:\tlearn: 0.8951430\ttotal: 47m 31s\tremaining: 8m 39s\n",
      "846:\tlearn: 0.8951336\ttotal: 47m 34s\tremaining: 8m 35s\n",
      "847:\tlearn: 0.8951243\ttotal: 47m 37s\tremaining: 8m 32s\n",
      "848:\tlearn: 0.8951188\ttotal: 47m 40s\tremaining: 8m 28s\n",
      "849:\tlearn: 0.8951063\ttotal: 47m 43s\tremaining: 8m 25s\n",
      "850:\tlearn: 0.8950954\ttotal: 47m 46s\tremaining: 8m 21s\n",
      "851:\tlearn: 0.8950908\ttotal: 47m 49s\tremaining: 8m 18s\n",
      "852:\tlearn: 0.8950784\ttotal: 47m 52s\tremaining: 8m 14s\n",
      "853:\tlearn: 0.8950749\ttotal: 47m 54s\tremaining: 8m 11s\n",
      "854:\tlearn: 0.8950637\ttotal: 47m 57s\tremaining: 8m 8s\n",
      "855:\tlearn: 0.8950556\ttotal: 48m\tremaining: 8m 4s\n",
      "856:\tlearn: 0.8950387\ttotal: 48m 3s\tremaining: 8m 1s\n",
      "857:\tlearn: 0.8950288\ttotal: 48m 6s\tremaining: 7m 57s\n",
      "858:\tlearn: 0.8950188\ttotal: 48m 9s\tremaining: 7m 54s\n",
      "859:\tlearn: 0.8950038\ttotal: 48m 13s\tremaining: 7m 50s\n",
      "860:\tlearn: 0.8949893\ttotal: 48m 16s\tremaining: 7m 47s\n",
      "861:\tlearn: 0.8949812\ttotal: 48m 19s\tremaining: 7m 44s\n",
      "862:\tlearn: 0.8949760\ttotal: 48m 22s\tremaining: 7m 40s\n",
      "863:\tlearn: 0.8949710\ttotal: 48m 25s\tremaining: 7m 37s\n",
      "864:\tlearn: 0.8949479\ttotal: 48m 28s\tremaining: 7m 33s\n",
      "865:\tlearn: 0.8949297\ttotal: 48m 30s\tremaining: 7m 30s\n",
      "866:\tlearn: 0.8949238\ttotal: 48m 33s\tremaining: 7m 27s\n",
      "867:\tlearn: 0.8949183\ttotal: 48m 36s\tremaining: 7m 23s\n",
      "868:\tlearn: 0.8948987\ttotal: 48m 40s\tremaining: 7m 20s\n",
      "869:\tlearn: 0.8948914\ttotal: 48m 43s\tremaining: 7m 16s\n",
      "870:\tlearn: 0.8948693\ttotal: 48m 46s\tremaining: 7m 13s\n",
      "871:\tlearn: 0.8948499\ttotal: 48m 49s\tremaining: 7m 9s\n",
      "872:\tlearn: 0.8948218\ttotal: 48m 52s\tremaining: 7m 6s\n",
      "873:\tlearn: 0.8948072\ttotal: 48m 55s\tremaining: 7m 3s\n",
      "874:\tlearn: 0.8948020\ttotal: 48m 58s\tremaining: 6m 59s\n",
      "875:\tlearn: 0.8947953\ttotal: 49m\tremaining: 6m 56s\n",
      "876:\tlearn: 0.8947830\ttotal: 49m 3s\tremaining: 6m 52s\n",
      "877:\tlearn: 0.8947681\ttotal: 49m 6s\tremaining: 6m 49s\n",
      "878:\tlearn: 0.8947501\ttotal: 49m 9s\tremaining: 6m 46s\n",
      "879:\tlearn: 0.8947354\ttotal: 49m 12s\tremaining: 6m 42s\n",
      "880:\tlearn: 0.8947317\ttotal: 49m 15s\tremaining: 6m 39s\n",
      "881:\tlearn: 0.8947247\ttotal: 49m 18s\tremaining: 6m 35s\n",
      "882:\tlearn: 0.8947173\ttotal: 49m 21s\tremaining: 6m 32s\n",
      "883:\tlearn: 0.8947113\ttotal: 49m 24s\tremaining: 6m 29s\n"
     ]
    },
    {
     "name": "stdout",
     "output_type": "stream",
     "text": [
      "884:\tlearn: 0.8946925\ttotal: 49m 27s\tremaining: 6m 25s\n",
      "885:\tlearn: 0.8946695\ttotal: 49m 30s\tremaining: 6m 22s\n",
      "886:\tlearn: 0.8946546\ttotal: 49m 33s\tremaining: 6m 18s\n",
      "887:\tlearn: 0.8946380\ttotal: 49m 36s\tremaining: 6m 15s\n",
      "888:\tlearn: 0.8946200\ttotal: 49m 39s\tremaining: 6m 12s\n",
      "889:\tlearn: 0.8946055\ttotal: 49m 42s\tremaining: 6m 8s\n",
      "890:\tlearn: 0.8946030\ttotal: 49m 45s\tremaining: 6m 5s\n",
      "891:\tlearn: 0.8946001\ttotal: 49m 48s\tremaining: 6m 1s\n",
      "892:\tlearn: 0.8945957\ttotal: 49m 51s\tremaining: 5m 58s\n",
      "893:\tlearn: 0.8945919\ttotal: 49m 54s\tremaining: 5m 55s\n",
      "894:\tlearn: 0.8945852\ttotal: 49m 57s\tremaining: 5m 51s\n",
      "895:\tlearn: 0.8945816\ttotal: 50m\tremaining: 5m 48s\n",
      "896:\tlearn: 0.8945709\ttotal: 50m 3s\tremaining: 5m 44s\n",
      "897:\tlearn: 0.8945547\ttotal: 50m 7s\tremaining: 5m 41s\n",
      "898:\tlearn: 0.8945496\ttotal: 50m 10s\tremaining: 5m 38s\n",
      "899:\tlearn: 0.8945469\ttotal: 50m 13s\tremaining: 5m 34s\n",
      "900:\tlearn: 0.8945340\ttotal: 50m 16s\tremaining: 5m 31s\n",
      "901:\tlearn: 0.8945247\ttotal: 50m 19s\tremaining: 5m 28s\n",
      "902:\tlearn: 0.8945084\ttotal: 50m 23s\tremaining: 5m 24s\n",
      "903:\tlearn: 0.8945042\ttotal: 50m 25s\tremaining: 5m 21s\n",
      "904:\tlearn: 0.8944980\ttotal: 50m 28s\tremaining: 5m 17s\n",
      "905:\tlearn: 0.8944936\ttotal: 50m 31s\tremaining: 5m 14s\n",
      "906:\tlearn: 0.8944660\ttotal: 50m 34s\tremaining: 5m 11s\n",
      "907:\tlearn: 0.8944634\ttotal: 50m 37s\tremaining: 5m 7s\n",
      "908:\tlearn: 0.8944607\ttotal: 50m 40s\tremaining: 5m 4s\n",
      "909:\tlearn: 0.8944481\ttotal: 50m 43s\tremaining: 5m 1s\n",
      "910:\tlearn: 0.8944367\ttotal: 50m 46s\tremaining: 4m 57s\n",
      "911:\tlearn: 0.8944297\ttotal: 50m 49s\tremaining: 4m 54s\n",
      "912:\tlearn: 0.8944251\ttotal: 50m 52s\tremaining: 4m 50s\n",
      "913:\tlearn: 0.8944156\ttotal: 50m 55s\tremaining: 4m 47s\n",
      "914:\tlearn: 0.8944062\ttotal: 50m 58s\tremaining: 4m 44s\n",
      "915:\tlearn: 0.8943894\ttotal: 51m 1s\tremaining: 4m 40s\n",
      "916:\tlearn: 0.8943848\ttotal: 51m 4s\tremaining: 4m 37s\n",
      "917:\tlearn: 0.8943541\ttotal: 51m 8s\tremaining: 4m 34s\n",
      "918:\tlearn: 0.8943347\ttotal: 51m 11s\tremaining: 4m 30s\n",
      "919:\tlearn: 0.8943262\ttotal: 51m 14s\tremaining: 4m 27s\n",
      "920:\tlearn: 0.8943039\ttotal: 51m 18s\tremaining: 4m 24s\n",
      "921:\tlearn: 0.8942908\ttotal: 51m 21s\tremaining: 4m 20s\n",
      "922:\tlearn: 0.8942664\ttotal: 51m 25s\tremaining: 4m 17s\n",
      "923:\tlearn: 0.8942490\ttotal: 51m 28s\tremaining: 4m 14s\n",
      "924:\tlearn: 0.8942464\ttotal: 51m 31s\tremaining: 4m 10s\n",
      "925:\tlearn: 0.8942233\ttotal: 51m 34s\tremaining: 4m 7s\n",
      "926:\tlearn: 0.8942054\ttotal: 51m 37s\tremaining: 4m 3s\n",
      "927:\tlearn: 0.8941887\ttotal: 51m 40s\tremaining: 4m\n",
      "928:\tlearn: 0.8941667\ttotal: 51m 43s\tremaining: 3m 57s\n",
      "929:\tlearn: 0.8941555\ttotal: 51m 46s\tremaining: 3m 53s\n",
      "930:\tlearn: 0.8941355\ttotal: 51m 49s\tremaining: 3m 50s\n",
      "931:\tlearn: 0.8941274\ttotal: 51m 52s\tremaining: 3m 47s\n",
      "932:\tlearn: 0.8941007\ttotal: 51m 55s\tremaining: 3m 43s\n",
      "933:\tlearn: 0.8940967\ttotal: 51m 58s\tremaining: 3m 40s\n",
      "934:\tlearn: 0.8940882\ttotal: 52m 1s\tremaining: 3m 37s\n",
      "935:\tlearn: 0.8940606\ttotal: 52m 4s\tremaining: 3m 33s\n",
      "936:\tlearn: 0.8940462\ttotal: 52m 7s\tremaining: 3m 30s\n",
      "937:\tlearn: 0.8940299\ttotal: 52m 10s\tremaining: 3m 26s\n",
      "938:\tlearn: 0.8940189\ttotal: 52m 13s\tremaining: 3m 23s\n",
      "939:\tlearn: 0.8940160\ttotal: 52m 16s\tremaining: 3m 20s\n",
      "940:\tlearn: 0.8940075\ttotal: 52m 19s\tremaining: 3m 16s\n",
      "941:\tlearn: 0.8940044\ttotal: 52m 21s\tremaining: 3m 13s\n",
      "942:\tlearn: 0.8939931\ttotal: 52m 24s\tremaining: 3m 10s\n",
      "943:\tlearn: 0.8939822\ttotal: 52m 27s\tremaining: 3m 6s\n",
      "944:\tlearn: 0.8939636\ttotal: 52m 30s\tremaining: 3m 3s\n",
      "945:\tlearn: 0.8939528\ttotal: 52m 33s\tremaining: 3m\n",
      "946:\tlearn: 0.8939449\ttotal: 52m 36s\tremaining: 2m 56s\n",
      "947:\tlearn: 0.8939401\ttotal: 52m 39s\tremaining: 2m 53s\n",
      "948:\tlearn: 0.8939166\ttotal: 52m 42s\tremaining: 2m 49s\n",
      "949:\tlearn: 0.8939027\ttotal: 52m 45s\tremaining: 2m 46s\n",
      "950:\tlearn: 0.8938840\ttotal: 52m 48s\tremaining: 2m 43s\n",
      "951:\tlearn: 0.8938668\ttotal: 52m 51s\tremaining: 2m 39s\n",
      "952:\tlearn: 0.8938535\ttotal: 52m 54s\tremaining: 2m 36s\n",
      "953:\tlearn: 0.8938320\ttotal: 52m 57s\tremaining: 2m 33s\n",
      "954:\tlearn: 0.8938287\ttotal: 53m\tremaining: 2m 29s\n",
      "955:\tlearn: 0.8938257\ttotal: 53m 3s\tremaining: 2m 26s\n",
      "956:\tlearn: 0.8938128\ttotal: 53m 6s\tremaining: 2m 23s\n",
      "957:\tlearn: 0.8938039\ttotal: 53m 9s\tremaining: 2m 19s\n",
      "958:\tlearn: 0.8937837\ttotal: 53m 12s\tremaining: 2m 16s\n",
      "959:\tlearn: 0.8937772\ttotal: 53m 15s\tremaining: 2m 13s\n",
      "960:\tlearn: 0.8937625\ttotal: 53m 18s\tremaining: 2m 9s\n",
      "961:\tlearn: 0.8937498\ttotal: 53m 21s\tremaining: 2m 6s\n",
      "962:\tlearn: 0.8937399\ttotal: 53m 24s\tremaining: 2m 3s\n",
      "963:\tlearn: 0.8937195\ttotal: 53m 27s\tremaining: 1m 59s\n",
      "964:\tlearn: 0.8936940\ttotal: 53m 30s\tremaining: 1m 56s\n",
      "965:\tlearn: 0.8936791\ttotal: 53m 33s\tremaining: 1m 53s\n",
      "966:\tlearn: 0.8936706\ttotal: 53m 36s\tremaining: 1m 49s\n",
      "967:\tlearn: 0.8936647\ttotal: 53m 39s\tremaining: 1m 46s\n",
      "968:\tlearn: 0.8936590\ttotal: 53m 42s\tremaining: 1m 43s\n",
      "969:\tlearn: 0.8936528\ttotal: 53m 45s\tremaining: 1m 39s\n",
      "970:\tlearn: 0.8936376\ttotal: 53m 48s\tremaining: 1m 36s\n",
      "971:\tlearn: 0.8936311\ttotal: 53m 50s\tremaining: 1m 33s\n",
      "972:\tlearn: 0.8936262\ttotal: 53m 53s\tremaining: 1m 29s\n",
      "973:\tlearn: 0.8936156\ttotal: 53m 56s\tremaining: 1m 26s\n",
      "974:\tlearn: 0.8936038\ttotal: 53m 59s\tremaining: 1m 23s\n",
      "975:\tlearn: 0.8935965\ttotal: 54m 2s\tremaining: 1m 19s\n",
      "976:\tlearn: 0.8935921\ttotal: 54m 5s\tremaining: 1m 16s\n",
      "977:\tlearn: 0.8935800\ttotal: 54m 8s\tremaining: 1m 13s\n",
      "978:\tlearn: 0.8935657\ttotal: 54m 11s\tremaining: 1m 9s\n",
      "979:\tlearn: 0.8935389\ttotal: 54m 14s\tremaining: 1m 6s\n",
      "980:\tlearn: 0.8935315\ttotal: 54m 17s\tremaining: 1m 3s\n",
      "981:\tlearn: 0.8935283\ttotal: 54m 20s\tremaining: 59.8s\n",
      "982:\tlearn: 0.8935061\ttotal: 54m 23s\tremaining: 56.4s\n",
      "983:\tlearn: 0.8934954\ttotal: 54m 26s\tremaining: 53.1s\n",
      "984:\tlearn: 0.8934894\ttotal: 54m 29s\tremaining: 49.8s\n",
      "985:\tlearn: 0.8934683\ttotal: 54m 32s\tremaining: 46.5s\n",
      "986:\tlearn: 0.8934650\ttotal: 54m 35s\tremaining: 43.1s\n",
      "987:\tlearn: 0.8934455\ttotal: 54m 38s\tremaining: 39.8s\n",
      "988:\tlearn: 0.8934310\ttotal: 54m 41s\tremaining: 36.5s\n",
      "989:\tlearn: 0.8934185\ttotal: 54m 44s\tremaining: 33.2s\n",
      "990:\tlearn: 0.8934075\ttotal: 54m 47s\tremaining: 29.9s\n",
      "991:\tlearn: 0.8933979\ttotal: 54m 50s\tremaining: 26.5s\n",
      "992:\tlearn: 0.8933851\ttotal: 54m 53s\tremaining: 23.2s\n",
      "993:\tlearn: 0.8933694\ttotal: 54m 56s\tremaining: 19.9s\n",
      "994:\tlearn: 0.8933582\ttotal: 54m 59s\tremaining: 16.6s\n",
      "995:\tlearn: 0.8933497\ttotal: 55m 2s\tremaining: 13.3s\n",
      "996:\tlearn: 0.8933393\ttotal: 55m 5s\tremaining: 9.95s\n",
      "997:\tlearn: 0.8933338\ttotal: 55m 8s\tremaining: 6.63s\n",
      "998:\tlearn: 0.8933203\ttotal: 55m 12s\tremaining: 3.32s\n",
      "999:\tlearn: 0.8933086\ttotal: 55m 16s\tremaining: 0us\n"
     ]
    },
    {
     "ename": "FileNotFoundError",
     "evalue": "[Errno 2] No such file or directory: 'Models/catB_bike.joblib'",
     "output_type": "error",
     "traceback": [
      "\u001b[0;31m---------------------------------------------------------------------------\u001b[0m",
      "\u001b[0;31mFileNotFoundError\u001b[0m                         Traceback (most recent call last)",
      "\u001b[0;32m<timed exec>\u001b[0m in \u001b[0;36m<module>\u001b[0;34m\u001b[0m\n",
      "\u001b[0;32m~/opt/anaconda3/lib/python3.7/site-packages/joblib/numpy_pickle.py\u001b[0m in \u001b[0;36mdump\u001b[0;34m(value, filename, compress, protocol, cache_size)\u001b[0m\n\u001b[1;32m    499\u001b[0m             \u001b[0mNumpyPickler\u001b[0m\u001b[0;34m(\u001b[0m\u001b[0mf\u001b[0m\u001b[0;34m,\u001b[0m \u001b[0mprotocol\u001b[0m\u001b[0;34m=\u001b[0m\u001b[0mprotocol\u001b[0m\u001b[0;34m)\u001b[0m\u001b[0;34m.\u001b[0m\u001b[0mdump\u001b[0m\u001b[0;34m(\u001b[0m\u001b[0mvalue\u001b[0m\u001b[0;34m)\u001b[0m\u001b[0;34m\u001b[0m\u001b[0;34m\u001b[0m\u001b[0m\n\u001b[1;32m    500\u001b[0m     \u001b[0;32melif\u001b[0m \u001b[0mis_filename\u001b[0m\u001b[0;34m:\u001b[0m\u001b[0;34m\u001b[0m\u001b[0;34m\u001b[0m\u001b[0m\n\u001b[0;32m--> 501\u001b[0;31m         \u001b[0;32mwith\u001b[0m \u001b[0mopen\u001b[0m\u001b[0;34m(\u001b[0m\u001b[0mfilename\u001b[0m\u001b[0;34m,\u001b[0m \u001b[0;34m'wb'\u001b[0m\u001b[0;34m)\u001b[0m \u001b[0;32mas\u001b[0m \u001b[0mf\u001b[0m\u001b[0;34m:\u001b[0m\u001b[0;34m\u001b[0m\u001b[0;34m\u001b[0m\u001b[0m\n\u001b[0m\u001b[1;32m    502\u001b[0m             \u001b[0mNumpyPickler\u001b[0m\u001b[0;34m(\u001b[0m\u001b[0mf\u001b[0m\u001b[0;34m,\u001b[0m \u001b[0mprotocol\u001b[0m\u001b[0;34m=\u001b[0m\u001b[0mprotocol\u001b[0m\u001b[0;34m)\u001b[0m\u001b[0;34m.\u001b[0m\u001b[0mdump\u001b[0m\u001b[0;34m(\u001b[0m\u001b[0mvalue\u001b[0m\u001b[0;34m)\u001b[0m\u001b[0;34m\u001b[0m\u001b[0;34m\u001b[0m\u001b[0m\n\u001b[1;32m    503\u001b[0m     \u001b[0;32melse\u001b[0m\u001b[0;34m:\u001b[0m\u001b[0;34m\u001b[0m\u001b[0;34m\u001b[0m\u001b[0m\n",
      "\u001b[0;31mFileNotFoundError\u001b[0m: [Errno 2] No such file or directory: 'Models/catB_bike.joblib'"
     ]
    }
   ],
   "source": [
    "%%time\n",
    "from catboost import CatBoostClassifier\n",
    "X_train, X_test, y_train, y_test = train_test_split(X, y, test_size=0.2, random_state=0)\n",
    "catB_bike = CatBoostClassifier(iterations=1000)\n",
    "catB_bike.fit(X_train, y_train)\n",
    "dump(catB_bike, '../Models/catB_bike.joblib')"
   ]
  },
  {
   "cell_type": "code",
   "execution_count": 38,
   "metadata": {},
   "outputs": [
    {
     "data": {
      "text/plain": [
       "0.5458231037030714"
      ]
     },
     "execution_count": 38,
     "metadata": {},
     "output_type": "execute_result"
    }
   ],
   "source": [
    "catB_bike.score(X_test, y_test)"
   ]
  },
  {
   "cell_type": "markdown",
   "metadata": {},
   "source": [
    "### Random Forest Model"
   ]
  },
  {
   "cell_type": "code",
   "execution_count": 42,
   "metadata": {},
   "outputs": [
    {
     "name": "stderr",
     "output_type": "stream",
     "text": [
      "[Parallel(n_jobs=-1)]: Using backend ThreadingBackend with 8 concurrent workers.\n",
      "[Parallel(n_jobs=-1)]: Done  34 tasks      | elapsed: 12.2min\n",
      "[Parallel(n_jobs=-1)]: Done 100 out of 100 | elapsed: 31.3min finished\n"
     ]
    },
    {
     "name": "stdout",
     "output_type": "stream",
     "text": [
      "CPU times: user 3h 43min 10s, sys: 4min 49s, total: 3h 48min\n",
      "Wall time: 34min 16s\n"
     ]
    },
    {
     "data": {
      "text/plain": [
       "['rfc.joblib']"
      ]
     },
     "execution_count": 42,
     "metadata": {},
     "output_type": "execute_result"
    }
   ],
   "source": [
    "%%time\n",
    "rfc = RandomForestClassifier(random_state=0, verbose=True, n_jobs=-1)\n",
    "rfc.fit(X_train, y_train)\n",
    "dump(rfc, 'Models/rfc_bike.joblib') "
   ]
  },
  {
   "cell_type": "code",
   "execution_count": 43,
   "metadata": {},
   "outputs": [
    {
     "name": "stderr",
     "output_type": "stream",
     "text": [
      "[Parallel(n_jobs=8)]: Using backend ThreadingBackend with 8 concurrent workers.\n",
      "[Parallel(n_jobs=8)]: Done  34 tasks      | elapsed:  2.0min\n",
      "[Parallel(n_jobs=8)]: Done 100 out of 100 | elapsed:  5.2min finished\n"
     ]
    },
    {
     "data": {
      "text/plain": [
       "0.6127128414684052"
      ]
     },
     "execution_count": 43,
     "metadata": {},
     "output_type": "execute_result"
    }
   ],
   "source": [
    "rfc.score(X_train, y_train)"
   ]
  },
  {
   "cell_type": "code",
   "execution_count": 44,
   "metadata": {
    "scrolled": true
   },
   "outputs": [
    {
     "name": "stderr",
     "output_type": "stream",
     "text": [
      "[Parallel(n_jobs=8)]: Using backend ThreadingBackend with 8 concurrent workers.\n",
      "[Parallel(n_jobs=8)]: Done  34 tasks      | elapsed:   31.9s\n",
      "[Parallel(n_jobs=8)]: Done 100 out of 100 | elapsed:  1.4min finished\n"
     ]
    },
    {
     "data": {
      "text/plain": [
       "0.5750258465992341"
      ]
     },
     "execution_count": 44,
     "metadata": {},
     "output_type": "execute_result"
    }
   ],
   "source": [
    "rfc.score(X_test, y_test)"
   ]
  },
  {
   "cell_type": "markdown",
   "metadata": {},
   "source": [
    "## Dock Demand Model"
   ]
  },
  {
   "cell_type": "markdown",
   "metadata": {},
   "source": [
    "### Random Forest"
   ]
  },
  {
   "cell_type": "code",
   "execution_count": 5,
   "metadata": {},
   "outputs": [
    {
     "data": {
      "text/plain": [
       "end station id          int64\n",
       "stoptime_date          object\n",
       "season                 object\n",
       "dayofweek               int64\n",
       "stoptime_interval      object\n",
       "incoming_bike_count     int64\n",
       "dock_demand            object\n",
       "hour                    int32\n",
       "min                     int32\n",
       "dtype: object"
      ]
     },
     "execution_count": 5,
     "metadata": {},
     "output_type": "execute_result"
    }
   ],
   "source": [
    "X=incomingDF\n",
    "X['dayofweek']=pd.to_datetime(X.stoptime_date).dt.dayofweek\n",
    "temp=X.stoptime_interval.str.split(\":\",expand=True)\n",
    "temp.columns=['hour','min']\n",
    "temp['hour']=temp['hour'].astype('int32')\n",
    "temp['min']=temp['min'].astype('int32')\n",
    "X=pd.merge(X,temp,left_index=True, right_index=True)\n",
    "X.dtypes"
   ]
  },
  {
   "cell_type": "code",
   "execution_count": 11,
   "metadata": {},
   "outputs": [],
   "source": [
    "X=X.drop(columns=['stoptime_date','stoptime_interval','incoming_bike_count','dock_demand'])\n",
    "y=incomingDF['dock_demand']"
   ]
  },
  {
   "cell_type": "code",
   "execution_count": 7,
   "metadata": {},
   "outputs": [
    {
     "name": "stdout",
     "output_type": "stream",
     "text": [
      "CPU times: user 2.28 s, sys: 150 ms, total: 2.43 s\n",
      "Wall time: 2.44 s\n"
     ]
    }
   ],
   "source": [
    "%%time\n",
    "le = LabelEncoder()\n",
    "X['season'] = le.fit_transform(X['season'])"
   ]
  },
  {
   "cell_type": "code",
   "execution_count": 12,
   "metadata": {},
   "outputs": [
    {
     "name": "stdout",
     "output_type": "stream",
     "text": [
      "CPU times: user 6.59 s, sys: 870 ms, total: 7.46 s\n",
      "Wall time: 7.57 s\n"
     ]
    }
   ],
   "source": [
    "%%time\n",
    "X_train, X_test, y_train, y_test = train_test_split(X, y, test_size=0.2, random_state=0)"
   ]
  },
  {
   "cell_type": "code",
   "execution_count": 16,
   "metadata": {
    "scrolled": true
   },
   "outputs": [],
   "source": [
    "rfc = RandomForestClassifier(random_state=0, n_jobs=-1)\n",
    "rfc.fit(X_train, y_train)\n",
    "dump(rfc, '..Models/rfc_dock.joblib') "
   ]
  },
  {
   "cell_type": "code",
   "execution_count": 15,
   "metadata": {
    "scrolled": false
   },
   "outputs": [
    {
     "name": "stderr",
     "output_type": "stream",
     "text": [
      "[Parallel(n_jobs=8)]: Using backend ThreadingBackend with 8 concurrent workers.\n",
      "[Parallel(n_jobs=8)]: Done  34 tasks      | elapsed:   44.0s\n",
      "[Parallel(n_jobs=8)]: Done 100 out of 100 | elapsed:  2.0min finished\n"
     ]
    },
    {
     "data": {
      "text/plain": [
       "0.5837129536559376"
      ]
     },
     "execution_count": 15,
     "metadata": {},
     "output_type": "execute_result"
    }
   ],
   "source": [
    "rfc.score(X_test, y_test)"
   ]
  },
  {
   "cell_type": "markdown",
   "metadata": {},
   "source": [
    "### Visualize Bike Demands and Dock Demands"
   ]
  },
  {
   "cell_type": "code",
   "execution_count": 73,
   "metadata": {
    "scrolled": true
   },
   "outputs": [
    {
     "data": {
      "text/plain": [
       "<seaborn.axisgrid.FacetGrid at 0x1c5f1f95d0>"
      ]
     },
     "execution_count": 73,
     "metadata": {},
     "output_type": "execute_result"
    },
    {
     "data": {
      "image/png": "[encoded data removed]",
      "text/plain": [
       "<Figure size 864x216 with 4 Axes>"
      ]
     },
     "metadata": {
      "needs_background": "light"
     },
     "output_type": "display_data"
    }
   ],
   "source": [
    "g=sns.FacetGrid(outgoingDF.groupby(['season','bike_demand'])['outgoing_bike_count'].count().reset_index().\\\n",
    "                rename(columns={'outgoing_bike_count':'count'}),col='season', margin_titles=True)\n",
    "g.map(sns.barplot,'bike_demand', \"count\")"
   ]
  },
  {
   "cell_type": "code",
   "execution_count": 74,
   "metadata": {},
   "outputs": [
    {
     "data": {
      "text/plain": [
       "<seaborn.axisgrid.FacetGrid at 0x1c5f1f9850>"
      ]
     },
     "execution_count": 74,
     "metadata": {},
     "output_type": "execute_result"
    },
    {
     "data": {
      "image/png": "[encoded data removed]",
      "text/plain": [
       "<Figure size 864x216 with 4 Axes>"
      ]
     },
     "metadata": {
      "needs_background": "light"
     },
     "output_type": "display_data"
    }
   ],
   "source": [
    "g=sns.FacetGrid(incomingDF.groupby(['season','dock_demand'])['incoming_bike_count'].count().reset_index().\\\n",
    "                rename(columns={'incoming_bike_count':'count'}),col='season', margin_titles=True)\n",
    "g.map(sns.barplot,'dock_demand', \"count\")"
   ]
  },
  {
   "cell_type": "code",
   "execution_count": 86,
   "metadata": {},
   "outputs": [
    {
     "name": "stderr",
     "output_type": "stream",
     "text": [
      "/Users/melaniezheng/opt/anaconda3/lib/python3.7/site-packages/tqdm/std.py:648: FutureWarning: The Panel class is removed from pandas. Accessing it from the top-level namespace will also be removed in the next version\n",
      "  from pandas import Panel\n"
     ]
    },
    {
     "data": {
      "application/vnd.jupyter.widget-view+json": {
       "model_id": "9f4fe52bade24841a3a6586d43d4ac0c",
       "version_major": 2,
       "version_minor": 0
      },
      "text/plain": [
       "HBox(children=(IntProgress(value=0, description='Pandas Apply', max=19799508, style=ProgressStyle(description_…"
      ]
     },
     "metadata": {},
     "output_type": "display_data"
    },
    {
     "name": "stdout",
     "output_type": "stream",
     "text": [
      "\n"
     ]
    }
   ],
   "source": [
    "outgoingDF.starttime_interval=outgoingDF.starttime_interval.swifter.apply(lambda x: '0'+x if len(x)==4 else x)"
   ]
  },
  {
   "cell_type": "code",
   "execution_count": 94,
   "metadata": {},
   "outputs": [
    {
     "data": {
      "text/plain": [
       "<matplotlib.axes._subplots.AxesSubplot at 0x1c43a5cdd0>"
      ]
     },
     "execution_count": 94,
     "metadata": {},
     "output_type": "execute_result"
    },
    {
     "data": {
      "image/png": "[encoded data removed]",
      "text/plain": [
       "<Figure size 1152x432 with 1 Axes>"
      ]
     },
     "metadata": {
      "needs_background": "light"
     },
     "output_type": "display_data"
    }
   ],
   "source": [
    "plt.figure(figsize=(16, 6))\n",
    "sns.barplot('starttime_interval','outgoing_bikes(avg)', data=outgoingDF.groupby(['starttime_interval'])['outgoing_bike_count'].mean().reset_index().\\\n",
    "                rename(columns={'outgoing_bike_count':'outgoing_bikes(avg)'}))"
   ]
  },
  {
   "cell_type": "code",
   "execution_count": 88,
   "metadata": {
    "scrolled": true
   },
   "outputs": [
    {
     "data": {
      "text/plain": [
       "<seaborn.axisgrid.FacetGrid at 0x1c41142510>"
      ]
     },
     "execution_count": 88,
     "metadata": {},
     "output_type": "execute_result"
    },
    {
     "data": {
      "text/plain": [
       "<Figure size 1152x432 with 0 Axes>"
      ]
     },
     "metadata": {},
     "output_type": "display_data"
    },
    {
     "data": {
      "image/png": "[encoded data removed]",
      "text/plain": [
       "<Figure size 864x216 with 4 Axes>"
      ]
     },
     "metadata": {
      "needs_background": "light"
     },
     "output_type": "display_data"
    }
   ],
   "source": [
    "plt.figure(figsize=(16, 6))\n",
    "g=sns.FacetGrid(outgoingDF.groupby(['season','starttime_interval'])['outgoing_bike_count'].mean().reset_index().\\\n",
    "                rename(columns={'outgoing_bike_count':'outgoing_bikes(avg)'}),col='season', margin_titles=True)\n",
    "g.map(sns.barplot,'starttime_interval', 'outgoing_bikes(avg)')"
   ]
  },
  {
   "cell_type": "code",
   "execution_count": 93,
   "metadata": {},
   "outputs": [
    {
     "data": {
      "text/plain": [
       "<seaborn.axisgrid.FacetGrid at 0x1c41d09950>"
      ]
     },
     "execution_count": 93,
     "metadata": {},
     "output_type": "execute_result"
    },
    {
     "data": {
      "text/plain": [
       "<Figure size 1152x432 with 0 Axes>"
      ]
     },
     "metadata": {},
     "output_type": "display_data"
    },
    {
     "data": {
      "image/png": "[encoded data removed]",
      "text/plain": [
       "<Figure size 864x1512 with 28 Axes>"
      ]
     },
     "metadata": {
      "needs_background": "light"
     },
     "output_type": "display_data"
    }
   ],
   "source": [
    "plt.figure(figsize=(16, 6))\n",
    "g=sns.FacetGrid(outgoingDF.groupby(['season','dayofweek','starttime_interval'])['outgoing_bike_count'].mean().reset_index().\\\n",
    "                rename(columns={'outgoing_bike_count':'outgoing_bikes(avg)'}),row='dayofweek',col='season', margin_titles=True)\n",
    "g.map(sns.barplot,'starttime_interval', 'outgoing_bikes(avg)')"
   ]
  },
  {
   "cell_type": "code",
   "execution_count": null,
   "metadata": {},
   "outputs": [],
   "source": []
  },
  {
   "cell_type": "code",
   "execution_count": null,
   "metadata": {},
   "outputs": [],
   "source": []
  },
  {
   "cell_type": "code",
   "execution_count": null,
   "metadata": {},
   "outputs": [],
   "source": []
  },
  {
   "cell_type": "code",
   "execution_count": null,
   "metadata": {},
   "outputs": [],
   "source": []
  }
 ],
 "metadata": {
  "kernelspec": {
   "display_name": "Python 3",
   "language": "python",
   "name": "python3"
  },
  "language_info": {
   "codemirror_mode": {
    "name": "ipython",
    "version": 3
   },
   "file_extension": ".py",
   "mimetype": "text/x-python",
   "name": "python",
   "nbconvert_exporter": "python",
   "pygments_lexer": "ipython3",
   "version": "3.7.4"
  }
 },
 "nbformat": 4,
 "nbformat_minor": 2
}
